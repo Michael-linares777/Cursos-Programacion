{
 "cells": [
  {
   "cell_type": "markdown",
   "metadata": {},
   "source": [
    "=> NOTAS DOCKER..."
   ]
  },
  {
   "cell_type": "code",
   "execution_count": null,
   "metadata": {},
   "outputs": [],
   "source": []
  },
  {
   "cell_type": "markdown",
   "metadata": {},
   "source": [
    "=> COMANDOS DOCKER...\n"
   ]
  },
  {
   "cell_type": "code",
   "execution_count": null,
   "metadata": {},
   "outputs": [],
   "source": [
    "# ... \n",
    "# MOSTRAR LISTA DE IMAGENES... // docker images\n",
    "\n",
    "# DESCARGAR IMAGENES... // docker pull + nombre_imagen:versión // EJ: docker pull node:18 / descargar imagen de node (en esté caso) version 18...\n",
    "\n",
    "# ELIMINAR IMAGENES... // docker image rm + nombre_imagen:versión // EJ: docker image rm node:18 / eliminar imagen de node (en esté caso) version 18...\n",
    "\n",
    "# CREAR NUESTRO CONTENEDOR... // docker create + imagen base // EJ: docker create mongo  // Nos arroja un ID: // '91c4bac34c9c...' // This is ID our container... \n",
    "\n",
    "# CREAR & PONERLE NOMBRES PROPIOS A LOS CONTENEDORES... // docker create --name + \"nombre x\" + imagen base // EJ: docker create --name Linares777 mongo\n",
    "\n",
    "# CREAR CONTENEDOR & MAPEARLE LOS PUERTOS \"HOST\"... // docker create + \"nombre del host\" --name + \"nombre x\" + imagen base.\n",
    "# EJ: docker create -p27017:27017 --name Linares777 mongo\n",
    "# -p27017:27017 // -p27017: El puerto de la maquina nuestra \"Donde tenemos instalado docker\" (:) 27017: El puerto del contenedor que vamos a mapear con nuestra maquina...\n",
    "\n",
    "# INICIALIZAR NUESTRO CONTAINER... // docker start 91c4bac34c9ca7690df9d799498b62237ec530bf22dde9f55ad61eb428c3b9d4\n",
    "\n",
    "# VALIDAR CONTENEDOR Y LISTAR CONTENDORES ACTIVOS... // docker ps \n",
    "\n",
    "# DETENER CONTAINER... // docker stop 91c4bac34c9c\n",
    "\n",
    "# ELIMINAR CONTAINER... // docker rm + nombre container o ID // docker rm youthful_elbakyan\n",
    "\n",
    "# LISTAR \"TODOS\" LOS CONTENEDORES \"ACTIVOS Y NO ACTIVOS\"... // docker ps -a\n",
    "\n",
    "# VERIFICAR SI NUESTRO SERVIDOR DE MONGO \"EN ESTÉ CASO\" SE EJECUTO DE MANERA CORRECTA... // docker logs + ID o nombre del container...\n",
    "# => EJ: docker logs Linares777 // Me muestra todos los logs PERO me saca y me DEVUELVE a la linea de comandos... \"No podre ver si se escuchan más logs\"\n",
    "\n",
    "# PARA SEGUIR ESCUCHANDO LOS LOGS QUE EMITA NUESTRO CONTENEDOR Y NO ME DEVUELVA A LA LINEA DE COMANDOS... // docker logs --follow\n",
    "# PARA SALIR Y DEJAR DE ESCUCHAR - \"VER\" LOS LOGS Y DEVOLVERNOS A LA LINEA DE COMANDOS... // \"Ctrl + C\"  \n",
    "\n",
    "\n",
    "\n",
    " "
   ]
  },
  {
   "cell_type": "markdown",
   "metadata": {},
   "source": [
    "=> CREATE A CONTAINER...  // (CREACIÓN Y MANEJO DE UN CONTENEDOR)..."
   ]
  },
  {
   "cell_type": "code",
   "execution_count": null,
   "metadata": {},
   "outputs": [],
   "source": [
    "#... \n",
    "# => CREATE A CONTAINER...  // (CREACIÓN Y MANEJO DE UN CONTENEDOR)...\n",
    "\n",
    "# nombre de la imagen que vamos a usar como base para crear el contenedor... (en esté caso 'mongo')\n",
    "# EJ: docker create mongo // Abreviatura de \"docker container create mongo\"\n",
    "\n",
    "# docker create mongo // Nos arroja un ID: // '91c4bac34c9ca7690df9d799498b62237ec530bf22dde9f55ad61eb428c3b9d4' // This is ID our container...\n",
    "\n",
    "# docker start 91c4bac34c9ca7690df9d799498b62237ec530bf22dde9f55ad61eb428c3b9d4 // Iniciar nuestro contenedor...\n",
    "\n",
    "# docker ps // validar que el container esta activo...\n",
    "\n",
    "# CONTAINER ID   IMAGE     COMMAND                  CREATED          STATUS         PORTS       NAMES\n",
    "# 91c4bac34c9c   mongo     \"docker-entrypoint.s…\"   15 minutes ago   Up 9 minutes   27017/tcp   youthful_elbakyan\n",
    "\n",
    "# CONTAINER ID: // Identificador del container... \n",
    "# IMAGE: // Nos indica en base ha que imagen se ha creado nuestro container...\n",
    "# COMMAND: // El comando que utiliza el contenedor para poder ejecutarse... \n",
    "# CREATED: // Hace cuanto fue creado esté container...\n",
    "# STATUS: //  El estado que esté va a tener...\n",
    "# PORT: // El puerto que esté está utilizando...\n",
    "# NAMES: // Nombre del contenedor...\n",
    "\n",
    "# docker stop + CONTAINER ID // EJ: docker stop 91c4bac34c9c  // Para detener el container... (Más no eliminar)... El conatiner aún asi sigue creado...\n",
    "# más no se está ejecutando..."
   ]
  }
 ],
 "metadata": {
  "language_info": {
   "name": "python"
  }
 },
 "nbformat": 4,
 "nbformat_minor": 2
}
