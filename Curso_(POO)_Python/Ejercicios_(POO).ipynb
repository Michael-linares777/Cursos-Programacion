{
 "cells": [
  {
   "cell_type": "markdown",
   "metadata": {},
   "source": [
    "=> EJERCICIOS (POO)..."
   ]
  },
  {
   "cell_type": "code",
   "execution_count": 6,
   "metadata": {},
   "outputs": [
    {
     "name": "stdout",
     "output_type": "stream",
     "text": [
      "El estudiante Michaelestá estudiando...\n"
     ]
    }
   ],
   "source": [
    "class Estudiante:\n",
    "    def __init__(self, nombre, edad, grado):\n",
    "        self.nombre = nombre\n",
    "        self.edad = edad\n",
    "        self.grado = grado\n",
    "        \n",
    "    def estudiar(self):\n",
    "        print(f\"El estudiante {self.nombre} está estudiando...\")\n",
    "\n",
    "nombre = input(\"Dime tu nombre: \").capitalize()\n",
    "edad = input(\"Dime tu edad: \").capitalize()\n",
    "grado = input(\"Dime tu grado: \").capitalize()\n",
    "\n",
    "estudiante = Estudiante(nombre, edad, grado)\n",
    "\n",
    "estudiante.estudiar()"
   ]
  }
 ],
 "metadata": {
  "kernelspec": {
   "display_name": "venv",
   "language": "python",
   "name": "python3"
  },
  "language_info": {
   "codemirror_mode": {
    "name": "ipython",
    "version": 3
   },
   "file_extension": ".py",
   "mimetype": "text/x-python",
   "name": "python",
   "nbconvert_exporter": "python",
   "pygments_lexer": "ipython3",
   "version": "3.11.4"
  },
  "orig_nbformat": 4
 },
 "nbformat": 4,
 "nbformat_minor": 2
}
