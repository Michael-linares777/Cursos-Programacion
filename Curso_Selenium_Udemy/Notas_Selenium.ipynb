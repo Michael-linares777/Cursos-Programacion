{
 "cells": [
  {
   "cell_type": "markdown",
   "metadata": {},
   "source": [
    "=> NOTAS SELENIUM..."
   ]
  },
  {
   "cell_type": "code",
   "execution_count": null,
   "metadata": {},
   "outputs": [],
   "source": [
    "# => PENDIENTE...\n",
    "#    REVISAR PORQUE EL .find_element_by_... NO ME FUNCIONA...\n",
    "#    YA LUEGO, LUEGO PRACTICAR CON ESE MODO Y HACER EJERCICIOS..."
   ]
  },
  {
   "cell_type": "code",
   "execution_count": null,
   "metadata": {},
   "outputs": [],
   "source": [
    "# => implicit_wait & explicit_wait...\n",
    "# son técnicas utilizadas para manejar la espera de elementos en una página web antes de interactuar con ellos. Esto es\n",
    "# importante porque a veces una página puede tardar en cargar o en actualizar ciertos elementos, y Selenium necesita esperar\n",
    "# para asegurarse de que esos elementos estén listos antes de realizar acciones en ellos.\n",
    "\n",
    "# En resumen, el Implicit Wait se aplica de manera global y es útil para establecer un tiempo de espera predeterminado, mientras\n",
    "# que el Explicit Wait se usa para esperar condiciones específicas en elementos individuales y proporciona más flexibilidad en\n",
    "# cómo se espera un elemento en particular.\n",
    "\n"
   ]
  }
 ],
 "metadata": {
  "kernelspec": {
   "display_name": "base",
   "language": "python",
   "name": "python3"
  },
  "language_info": {
   "name": "python",
   "version": "3.11.4"
  },
  "orig_nbformat": 4
 },
 "nbformat": 4,
 "nbformat_minor": 2
}
