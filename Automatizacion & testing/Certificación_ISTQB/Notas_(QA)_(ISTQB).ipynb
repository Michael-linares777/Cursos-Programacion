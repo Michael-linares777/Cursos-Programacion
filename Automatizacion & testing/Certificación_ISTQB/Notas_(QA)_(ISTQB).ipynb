{
 "cells": [
  {
   "cell_type": "markdown",
   "metadata": {},
   "source": [
    "### => ... Certificación en Calidad del Software(QA) (ISTQB CTFL) ..."
   ]
  },
  {
   "cell_type": "code",
   "execution_count": null,
   "metadata": {},
   "outputs": [],
   "source": [
    "# paginas para manejar y reportar bugs!!!!\n",
    "\n",
    "# - jira...\n",
    "# - Azure devops..."
   ]
  },
  {
   "cell_type": "code",
   "execution_count": null,
   "metadata": {},
   "outputs": [],
   "source": [
    "# Que significa (QA)???... \n",
    "# \"QA\": Es la sigla en inglés de \"Quality Assurance\", que en español se traduce como \"Aseguramiento de la Calidad\". \n",
    "#  En el contexto del desarrollo de software y la tecnología en general, \"QA\" se refiere a las prácticas y procesos\n",
    "#  utilizados para garantizar que un producto o servicio cumpla con los estándares de calidad establecidos.\n",
    "#  En el ámbito de las pruebas de software, \"QA\" implica actividades como la planificación y ejecución de pruebas,\n",
    "#  la identificación y corrección de defectos, la revisión de requisitos y especificaciones, y la garantía de que el\n",
    "#  producto final cumple con las expectativas de rendimiento, funcionalidad y confiabilidad.En resumen, QA se enfoca\n",
    "#  en prevenir y mitigar problemas de calidad en el desarrollo de software y otros productos tecnológicos, asegurando\n",
    "#  que se cumplan los requisitos y estándares establecidos antes de su lanzamiento al mercado."
   ]
  },
  {
   "cell_type": "code",
   "execution_count": null,
   "metadata": {},
   "outputs": [],
   "source": [
    "# Que es significa (ISTQB CTFL)???...\n",
    "# ISTQB significa: / International Software Testing Qualifications Board / \"Junta Internacional de Calificaciones de Pruebas de Software\".\n",
    "# CTFL: / Es la certificación que ofrecen en su nivel básico."
   ]
  },
  {
   "cell_type": "markdown",
   "metadata": {},
   "source": [
    "##### => CONCEPTOS A MEMORIZAR..."
   ]
  },
  {
   "cell_type": "code",
   "execution_count": null,
   "metadata": {},
   "outputs": [],
   "source": [
    "# CONCEPTOS...\n",
    "\n",
    "# - PROBAR...  Proceso que garantiza la correcta ejecución de las pruebas... \n",
    "\n",
    "# - ERROR: Error:Error... Acción humana que produce un resultado incorrecto. Ej: Un error de programación.\n",
    "\n",
    "# - DEFECTO: Defecto:Defect... Desperfecto es un componente o sistema que puede causar que el componente o sistema falle en \n",
    "#   desempeñar las funciones requeridas. Ej: Una sentencia o una definición de datos incorrectas. Si se localiza un defecto\n",
    "#   durante una ejecución puede causar un fallo en el componente o sistema.\n",
    "\n",
    "# - FALLO: Fallo:Failure... Manifestación física o funcional de un defecto. Si un defecto es encontrado durante la ejecución\n",
    "#   de una aplicación puede producir un fallo.\n",
    "\n",
    "# - CRITERIO DE APROBACIÓN... Son las reglas que utilizamos para determinar si una prueba ha sido exitosa o no...\n",
    "\n",
    "# - VERIFICAR... Garantizar que el software cumpla lo establecido en los requerimientos documentados... \n",
    "\n",
    "# - VALIDAR...  Chequear que estamos construyendo el sistema idóneo para los usuarios... \n",
    "\n",
    "# - COBERTURA... Es la medida que determina cuánto hemos probado hasta el momento...\n",
    "\n",
    "# - DEPURACIÓN... Es el proceso de desarrollo que ENCUENTRA / ANÁLIZA y REPARA el defecto...\n",
    "#                 (Generalmente la realiza el desarrollador)...                \n",
    "\n",
    "# - CALIDAD... En el desarrollo de software, la calidad se relaciona con la eficiencia, fiabilidad y adecuación de un programa\n",
    "#   para cumplir con sus objetivos sin errores. Esto incluye la usabilidad, el rendimiento, la seguridad y la capacidad de\n",
    "#   respuesta de una aplicación.\n",
    "\n",
    "# - ASEGURAMIENTO DE CALIDAD... (ES UN PLAN DE COMO SE HARAN LAS COSAS...) Proceso preventivo, que incluye actividades planeadas\n",
    "#   y sistematicas para lograr resultados de mayor calidad. Se centra en el cumplimiento de los procesos adecuados.\n",
    "#   lo que contribuye a la prevención de defectos. Incluye actividades como la planificación, implementación y monitoreo de \n",
    "#   prácticas de calidad, con el objetivo de prevenir defectos y garantizar la satisfacción del cliente a lo largo del ciclo\n",
    "#   de vida del proyecto de software.\n",
    "\n",
    "# - CONTROL DE CALIDAD... (Proceso reactivo..) Se centra en encontrar defectos en los productos ya elaborados. Es un proceso \n",
    "#   reactivo que corrige defectos en los productos antes que salgan al mercado...\n",
    "\n",
    "# - CAUSA RAÍZ... \n",
    "\n",
    "# - BASE DE PRUEBA... Se refiere a la documentación y la información sobre la cual se planifican, diseñan y ejecutan las pruebas.\n",
    "\n",
    "# - CASO DE PRUEBA... Son escenarios o situaciones diseñadas para probar una parte específica del software con el objetivo\n",
    "#   de verificar su comportamiento y funcionamiento correcto. \n",
    "\n",
    "# -A1. PLANIFICACIÓN DE PRUEBA...\n",
    "\n",
    "# -A2. ANÁLISIS DE PRUEBA...\n",
    "\n",
    "# -A3. DISEÑO DE LA PRUEBA... El \"Diseño de la Prueba\" se refiere a la planificación y creación de estrategias y casos de prueba\n",
    "#      para evaluar un software. Implica definir objetivos, desarrollar escenarios, seleccionar datos, planificar estrategias\n",
    "#      y documentar el proceso, siendo fundamental para identificar defectos y garantizar la calidad del software.\n",
    "\n",
    "# -A4. IMPLEMENTACIÓN DE PRUEBA...\n",
    "\n",
    "# -A5. EJECUCIÓN DE LA PRUEBA... se refiere a la fase en la que se aplican los casos de prueba previamente diseñados al software.\n",
    "#      Implica preparar el entorno, ejecutar los casos de prueba, registrar resultados y defectos, revisar los resultados y \n",
    "#      comunicar el progreso. Es esencial para verificar que el software cumple con los requisitos y detectar problemas antes\n",
    "#      de la entrega.\n",
    "\n",
    "# -A6. RESULTADO DE PRUEBA... \n",
    "\n",
    "# - CONDICIÓN DE PRUEBA...\n",
    "\n",
    "# - CONTROL DE LA PRUEBA... Toma las acciones correctívas necesarías para conseguír los objetivos...\n",
    "\n",
    "# - DATOS DE PRUEBA... son la información específica utilizada en casos de prueba para verificar si un software se comporta\n",
    "#   correctamente, ayudando a garantizar que cumple con los requisitos y detectar posibles fallos o defectos.\n",
    "\n",
    "# - MONITOREO DE PRUEBA... Valida que se esté haciendo lo que establece el plan. Es un proceso que sigue el progreso del plan\n",
    "#   para establecer acciones correctivas en caso de ser necesario. (Se ejecuta durante todo el cronograma de pruebas)\n",
    "\n",
    "# - OBJETO DE PRUEBA... El objeto de prueba es la unidad que se examina y se evalúa para determinar si cumple con los\n",
    "#   requisitos y las expectativas establecidas.\n",
    "\n",
    "# - OBJETIVOS DE PRUEBA... Pueden ser modificados con el tiempo. Los objetivos de prueba son las metas o los resultados que se\n",
    "#   esperan alcanzar a través del proceso de prueba. Estos objetivos pueden variar y pueden incluir verificar la funcionalidad,\n",
    "#   identificar defectos, evaluar el rendimiento, asegurar la seguridad, demostrar la conformidad con los requisitos, entre\n",
    "#   otros. Los objetivos de prueba son importantes para definir el alcance y la estrategia de las pruebas.\n",
    "\n",
    "# - FINALIZACIÓN DE PRUEBA... \n",
    "\n",
    "# - PROCEDIMIENTO DE PRUEBA...\n",
    "\n",
    "\n",
    "# - TESTWARE... El \"Testware\" se refiere a todos los componentes y recursos relacionados con las pruebas de software, como\n",
    "#   casos de prueba, estrategias, datos, herramientas, documentación de requisitos, resultados, informes, ambiente de pruebas\n",
    "#   y más. Estos elementos son esenciales para planificar, diseñar, ejecutar y gestionar eficazmente las pruebas de software\n",
    "#   y asegurar la calidad del producto.\n",
    "\n"
   ]
  },
  {
   "cell_type": "markdown",
   "metadata": {},
   "source": [
    "##### => TIPOS DE PRUEBAS....\n"
   ]
  },
  {
   "cell_type": "code",
   "execution_count": null,
   "metadata": {},
   "outputs": [],
   "source": [
    "# Título: \"La Complejidad de las Pruebas en la Ingeniería de Software: Un Enfoque Integral\"\n",
    "\n",
    "# La ingeniería de software es un campo en constante evolución, donde la creación y el mantenimiento de sistemas de software complejos son tareas críticas.\n",
    "# En este contexto, las pruebas desempeñan un papel fundamental para garantizar la calidad, el rendimiento y la seguridad de los sistemas de software.\n",
    "# En este ensayo, exploraremos la importancia de tres enfoques diferentes de pruebas en la ingeniería de software: las pruebas de caja blanca, las\n",
    "# pruebas no funcionales y las pruebas estáticas. Además, consideraremos otras tres estrategias clave: las pruebas de caja negra, las pruebas\n",
    "# funcionales y las pruebas dinámicas. Cada una de estas estrategias de prueba tiene sus propias características y beneficios, pero juntas\n",
    "# forman un enfoque completo para asegurar que el software cumpla con los estándares de calidad y las expectativas del usuario.\n",
    "\n",
    "# Pruebas de Caja Blanca :\n",
    "# Las pruebas de caja blanca, también conocidas como pruebas de estructura o pruebas de código, se centran en la evaluación de la estructura interna del\n",
    "# software. Los probadores tienen un conocimiento profundo del código fuente y diseñan casos de prueba que verifican la cobertura de código y la lógica\n",
    "# interna del programa. Esto es esencial para identificar y corregir errores en el código antes de que el software se implemente en un entorno de producción.\n",
    "# Un aspecto crucial de las pruebas de caja blanca es su capacidad para descubrir errores lógicos y problemas de flujo de control que podrían pasar \n",
    "# desapercibidos en otros tipos de pruebas. Estas pruebas también contribuyen a mejorar la calidad del código al garantizar que cumpla con los\n",
    "# estándares de codificación y que sea más mantenible en el futuro.\n",
    "\n",
    "# Pruebas No Funcionales :\n",
    "# Las pruebas no funcionales se enfocan en evaluar aspectos del software que no están relacionados directamente con sus funcionalidades específicas.\n",
    "# Estos aspectos incluyen el rendimiento, la seguridad, la usabilidad, la escalabilidad y otros criterios que afectan la experiencia del usuario y\n",
    "# la eficiencia del sistema.\n",
    "# Por ejemplo, las pruebas de rendimiento evalúan cómo se comporta el software bajo cargas de trabajo elevadas, mientras que las pruebas de seguridad\n",
    "# identifican vulnerabilidades y riesgos de seguridad. Las pruebas de usabilidad se centran en la experiencia del usuario, asegurando que el software\n",
    "# sea intuitivo y fácil de usar. La combinación de todas estas pruebas no funcionales garantiza que el software sea confiable y cumpla con los \n",
    "# estándares de calidad más allá de sus funcionalidades básicas.\n",
    "\n",
    "# Pruebas Estáticas :\n",
    "# Las pruebas estáticas son un enfoque que no involucra la ejecución real del software. En lugar de eso, se realizan revisiones exhaustivas del código fuente,\n",
    "# documentación y otros artefactos relacionados con el software para identificar posibles problemas antes de que el software se ejecute.\n",
    "# Estas revisiones incluyen actividades como revisión de código, análisis estático del código, revisión de documentos de diseño y verificación de estándares\n",
    "# de codificación. Las pruebas estáticas son fundamentales para detectar errores tempranos en el proceso de desarrollo, lo que reduce significativamente\n",
    "# el costo y el esfuerzo requerido para corregir problemas más tarde en el ciclo de vida del software.\n",
    "\n",
    "# Pruebas de Caja Negra :\n",
    "# Las pruebas de caja negra se centran en probar el software sin conocer su estructura interna o su código fuente. En su lugar, los probadores se basan en\n",
    "# la especificación del software y sus requisitos. Estas pruebas son esenciales para garantizar que el software cumpla con los requisitos establecidos por\n",
    "# el cliente y que sus funcionalidades se comportan como se espera.\n",
    "\n",
    "# Pruebas Funcionales :\n",
    "# Las pruebas funcionales son un subconjunto de pruebas de caja negra que se enfocan en verificar si el software funciona de acuerdo con las funciones y\n",
    "# características especificadas en los requisitos. Los probadores diseñan casos de prueba basados ​​en las funcionalidades descritas en la documentación de\n",
    "# requisitos y luego prueban si el software cumple con esas funcionalidades.\n",
    "\n",
    "# Pruebas Dinámicas :\n",
    "# Las pruebas dinámicas implican la ejecución real del software para evaluar su comportamiento y rendimiento en tiempo de ejecución. Durante las pruebas \n",
    "# dinámicas, se proporcionan entradas al software, se ejecuta y se observa su comportamiento en tiempo real. Esto puede incluir la detección de errores, \n",
    "# problemas de rendimiento y otros problemas relacionados con la ejecución real.\n",
    "\n",
    "# En conclusión, las pruebas en la ingeniería de software son un conjunto diverso de estrategias que abordan diferentes aspectos del software, desde su\n",
    "# estructura interna hasta su comportamiento en tiempo de ejecución y su calidad no funcional. Cada enfoque tiene su importancia única y, cuando se\n",
    "# aplica de manera integral, garantizan que el software sea sólido, seguro, eficiente y cumpla con las expectativas del usuario. Estas estrategias\n",
    "# de prueba son esenciales para garantizar que el software continúe siendo una herramienta valiosa y confiable en el mundo digital en constante evolución."
   ]
  },
  {
   "cell_type": "code",
   "execution_count": null,
   "metadata": {},
   "outputs": [],
   "source": [
    "# => PRUEBAS DE Caja blanca...\n",
    "# => Se enfocan en evaluar la extructura interna del software, incluyendo la lógica, los flujos de control y las rutas de\n",
    "#    ejecución....   Los testers de caja blanca suelen tener acceso al código fuente..."
   ]
  },
  {
   "cell_type": "code",
   "execution_count": null,
   "metadata": {},
   "outputs": [],
   "source": [
    "# => PRUEBAS DE Caja negra...\n",
    "# => Se centran en evaluar cómo el software funciona desde una perspectiva externa, probando sus entradas y salidas sin \n",
    "#    necesariamente comprender los detalles de su implementación..."
   ]
  },
  {
   "cell_type": "code",
   "execution_count": null,
   "metadata": {},
   "outputs": [],
   "source": [
    "# => PRUEBAS DE Regresión...\n",
    "# => Se realizan precisamente para asegurarse de que las nuevas modificaciones, correciones de errores o características \n",
    "#    añadidas a un software no afecten nagativamente las funcionalidades existentes...   \n",
    "#    El OBJETIVO es evitar la introducción de nuevos problemas mientras se realizan cambios en el software.\n",
    "#    En esencia, estas pruebas buscan \"REGRESAR\" a través de la funcionalidad existente para confirmar que las nuevas\n",
    "#    adiciones no hayan afectado nagativamente el software en su conjunto...\n",
    "\n",
    "# => OBJETIVOS DE LAS PRUEBAS DE REGRESIÓN... \n",
    "# - 1. Detección temprana de problemas...\n",
    "# - 2. Garantizar la estabilidad...\n",
    "# - 3. Verificación de cambios...\n",
    "# - 4. Mantener la confianza... 'De los USUARIOS'\n",
    "\n",
    "# => COMO SE REALIZAN LAS PRUEBAS DE REGRESIÓN... \n",
    "#    Implican repetir una serie de pruebas que ya se habian realizado anteriormente en el software, con el fin de verificar\n",
    "#    que las modificaciones recientes no hayan causado problemas en esas áreas.\n",
    "\n",
    "# => PASOS CLAVE PARA REALIZAR LAS PRUEBAS DE REGRESIÓN...\n",
    "# - 1. Selección de casos de prueba: No todas las pruebas exixtentes necesitan ser ejecutadas en cada ciclo de regresión.\n",
    "# - 2. Automatización...\n",
    "# - 3. Ejecución de pruebas...\n",
    "# - 4. Comparación de resultados...\n",
    "# - 5. Reporte y seguimiento...\n"
   ]
  },
  {
   "cell_type": "code",
   "execution_count": null,
   "metadata": {},
   "outputs": [],
   "source": [
    "# => PRUEBAS DE Carga...\n",
    "# => EL objetivo principal de las pruebas de carga es evaluar cómo un sistema o aplicación se comporta bajo condiciones de \n",
    "#    carga y estrés, incluyendo la capacidad de manejar un gran número de usuarios, transacciones o solicitudes \n",
    "#    simultáneamente. Estas pruebas permiten identificar cuellos de botella, problemas de rendimiento y posibles fallas en \n",
    "#    situaciones de alta demanda...\n",
    "\n",
    "# => OBJETIVOS DE LAS PRUEBAS DE CARGA...\n",
    "# - 1. Rendimiento bajo estrés...\n",
    "# - 2. Capacidad de escalabilidad...\n",
    "# - 3. Identificación de cuellos de botella...\n",
    "# - 4. Optimización de recursos...\n",
    "\n",
    "# => COMO SE REALIZAN LAS PRUEBAS DE CARGA...  IMPLICA VARIOS PASOS...\n",
    "# - 1. Identificación de escenarios de carga...\n",
    "# - 2. Creación de scripts de prueba...\n",
    "# - 3. Ejecución de pruebas...\n",
    "# - 4. Monitorización y análisis...\n",
    "# - 5. Optimización y corrección...\n",
    "\n",
    "# => BENEFICIOS DE LAS PRUEBAS DE CARGA...\n",
    "# - 1. Identifican problemas de rendimiento antes de que lleguen a los usuarios finales...\n",
    "# - 2. Aseguran que el sistema sea capaz de manejar aumentos ineperados en la carga...\n",
    "# - 3. Contribuyen a la entrega de software de alta calidad y rendimiento...\n",
    "# - 4. Reducen el riesgo de caídas o problemas graves en producción...\n"
   ]
  },
  {
   "cell_type": "code",
   "execution_count": null,
   "metadata": {},
   "outputs": [],
   "source": [
    "# => PRUEBAS DE Unidad o PRUEBAS DE componentes... \n",
    "#    Son el nivel más bajo de las pruebas y se centran en verificar que las funciones individuales o componentes del\n",
    "#    software funcionen corrrectamente. \n",
    "#    Estas pruebas se realizan a nivel de código y generalmente son ejecutadas por los mismos desarrolladores.\n",
    "#    Son esenciales para identificar y corregir errores en el nivel más básico."
   ]
  },
  {
   "cell_type": "code",
   "execution_count": null,
   "metadata": {},
   "outputs": [],
   "source": [
    "# => PRUEBAS DE Intregración...\n",
    "#    Se llevan a cabo para verificar como diferentes módulos o componentes del sistema interactúan entre sí después de haber\n",
    "#    sido probados individualmente. El objetivo es identificar problemas de comunicación, compatibilidad o comportamiento \n",
    "#    inesperado que puedan surgir cuando los componentes se combinan."
   ]
  },
  {
   "cell_type": "code",
   "execution_count": null,
   "metadata": {},
   "outputs": [],
   "source": [
    "# => PRUEBAS DE Sistema....\n",
    "# "
   ]
  },
  {
   "cell_type": "code",
   "execution_count": null,
   "metadata": {},
   "outputs": [],
   "source": [
    "# => PRUEBAS DE Aceptación..."
   ]
  },
  {
   "cell_type": "code",
   "execution_count": null,
   "metadata": {},
   "outputs": [],
   "source": [
    "# => PRUEBAS DE Confirmación... Determinar que el defecto que causa la falla en el software ha sido reparado...\n",
    "#                             - Revisar que el codigo funcione según lo esperado..."
   ]
  },
  {
   "cell_type": "code",
   "execution_count": null,
   "metadata": {},
   "outputs": [],
   "source": [
    "# => PRUEBAS DE "
   ]
  },
  {
   "cell_type": "markdown",
   "metadata": {},
   "source": [
    "##### => CAP 1. FUNDAMENTOS DE PRUEBAS..."
   ]
  },
  {
   "cell_type": "code",
   "execution_count": null,
   "metadata": {},
   "outputs": [],
   "source": [
    "# => QUE ES PROBAR???    /// PROBADOR / TESTERS / (QA)\n",
    "\n",
    "# - Es un PROCESO que abarca todo el ciclo de vida de las pruebas... / no solo una actividad en si... / \n",
    "# - No es solo revisar y encontar errores, va mucho más allá...\n",
    "# - Proceso que garantiza la correcta ejecución de las pruebas... \n",
    "# - Es validar si las especificaciones cumplen con las espectativas del usuario...\n",
    "\n",
    "# => EL OBJETIVO DE TODO PROYECTO...  Es entregar un software que cumpla con los requerimientos especificados...\n",
    "#    Y para satisfacer la necesidad del usuario, se necesita una especificación correcta...\n",
    "\n",
    "# =>  ...VERIFICACIÓN VS VALIDACIÓN...\n",
    "# -1. VERIFICAR: Consiste en asegurarse que el requerimiento que esta escrito en la documentación se cumpla al pie de la letra...\n",
    "#   ¿Construimos bien el software??? / ¿Fue construido de acuerdo a los requerimientos???\n",
    "# -2. VALIDAR: Garantizar que lo solicitado por el usuario sea cumplido y de esta manera pueda ser utilizado según lo esperado...\n",
    "#   ¿Construímos el software adecuado??? / ¿Fue lo que solicito el usuario???\n",
    "#   ¿Resolvio el problema??? / ¿Satisface las necesidades del usuario???\n",
    "\n",
    "\n",
    "# => Las pruebas suelen dividirse en dos tipos:\n",
    "# => 1. PRUEBAS DINÁMICAS...  Consiste en ejecutar el software para revisar resultados...\n",
    "# => 2. PRUEBAS ESTATICAS... La revisión de documentos de requerimientos o del codigo fuente...\n",
    "# - Las pruebas estaticas y dinámicas son necesarias para cubrir la gama de productos que deben ser probados\n"
   ]
  },
  {
   "cell_type": "code",
   "execution_count": null,
   "metadata": {},
   "outputs": [],
   "source": [
    "# => PROCESO DE LAS PRUEBAS... Y LOS OBJETIVOS.\n",
    "# - La prueba es un PROCESO / no se limita a una sola actividad...\n",
    "# - CICLO DE VIDA... Tienen un ciclo de vida, cuanto más tarde en el ciclo de vida encontramos errores, más costosos son\n",
    "#   para solucionarlos..\n",
    "# - El proceso de analisis y diseño de las pruebas al inicio del ciclo de vida, puede ayudar a evitar que se introduzcan \n",
    "#   defectos en el codigo...\n",
    "# - PLANIFICACIÓN... (GESTIÓN DE PRUEBAS) / SE DEBEN PLANIFICAR LAS PRUEBAS: Se deben GESTIONAR las pruebas, PLANEAR lo\n",
    "#   que se quiere hacer, CONTROLAR las actividades de prueba, INFORMAR sobre el PROGRESO de la prueba y el ESTADO del\n",
    "#   software bajo prueba y FINALIZAR la prueba cuando se complete una fase.\n",
    "# - PREPARACIÓN... Se deben elegir que pruebas hacer, seleccionar las condicones de prueba y diseñar casos de prueba...\n",
    "# - EVALUACIÓN... A demas de ejecutar la prueba, se debe VERIFICAR el resultado, EVALUAR el software bajo prueba...\n",
    "# - No solo se prueba el código, se ponen a prueba los requisitos, las especificaciones de diseño y los documentos\n",
    "#   relacionados, como la operación y el material de capacitación. \n",
    "\n",
    "# => OBJETIVOS... \n",
    "# - Verificar y validar el cumplimiento de los requisitos...\n",
    "# - Al detectar defectos: comprendemos riesgos, mejoramos la calidad de los productos, analizamos la causa raíz y mejoramos\n",
    "#   los procesos de desarrollo... "
   ]
  },
  {
   "cell_type": "code",
   "execution_count": null,
   "metadata": {},
   "outputs": [],
   "source": [
    "# => ERRORES QUE SUELEN SER MUY COMUNES...\n",
    "\n",
    "# - Las pruebas solo consisten en ejecutar el software y comprobar resultados...\n",
    "\n",
    "# - Verificar que el software cumpla con los requerimientos del usuario..."
   ]
  },
  {
   "cell_type": "code",
   "execution_count": null,
   "metadata": {},
   "outputs": [],
   "source": [
    "# => POR QUÉ SON NECESARIAS LAS PRUEBAS???  (EXAMEN) / Pueden ser T/F U seleción multiple... Conceptos claros... (NO MEMORIA)...\n",
    " \n",
    "# - Para mejorar y garantizar la calidad de productos software... Asi como la calidad del proceso de dasarrollo en si.\n",
    "# - El proceso de prueba ayuda a suministrar/aportar al sottware los atributos deseados. Ej: Retirar defectos que\n",
    "#   conducen a fallos.\n",
    "# Reducir el riesgo de encontrar errores durante la fase de operación.\n",
    "# Aumentar la confianza del cliente en el producto."
   ]
  },
  {
   "cell_type": "code",
   "execution_count": null,
   "metadata": {},
   "outputs": [],
   "source": [
    "# => UNA JUSTIFICACIÓN PARA LAS PRUEBAS... (MEMORIA) /  (DEFINICIONES) / Pueden ser T/F U seleción multiple...\n",
    "# El coste de los defectos: \n",
    "# - El coste de eliminar defectos se incrementa con el tiempo de permanencia del defecto en el sistema.\n",
    "# - La detección de problemas en etapas tempranas permite la correción de los mismos a costes reducidos."
   ]
  },
  {
   "cell_type": "code",
   "execution_count": null,
   "metadata": {},
   "outputs": [],
   "source": [
    "# COMPONENTES DE LA CALIDAD DEL SOFTWARE SEGUN (ISO/IEC)...   (MEMORIA)\n",
    "# Preguntas que deberiamos plantearnos...\n",
    "# 1. Funcionalidad. Estan las funciones requeridas disponibles en el software???\n",
    "# 2. Fiabilidad. Que tan confiable es el software???\n",
    "# 3. Usabilidad. El software es facil de usar???\n",
    "# 4. Eficiencia. Qué tan eficiente es el software???\n",
    "# 5. Manteniabilidad. Qué tan fácil es modificar el software??\n",
    "# 6. Portabilidad. Que tan fácil es transferir el software a otro ambiente???\n",
    "\n"
   ]
  },
  {
   "cell_type": "markdown",
   "metadata": {},
   "source": [
    "#### => OBJETIVOS CARACTERISTICOS DE UNA PRUEBA...   "
   ]
  },
  {
   "cell_type": "code",
   "execution_count": null,
   "metadata": {},
   "outputs": [],
   "source": [
    "# Existen (9) OBJETIVOS generales que caracterizan las pruebas de software...\n",
    "# 1. EVALUAR LOS PRODUCTOS DE TRABAJO... Que se generan durante todo el ciclo de vida de las pruebas..\n",
    "# 2. VERIFICAR que todos los requerimientos especificados han sido satisfechos.. (INCLUSO LOS LEGALES)...\n",
    "# 3. VALIDAR el objeto de prueba...\n",
    "# 4. GENERAR CONFIANZA... Es fundamental crear confianza en la eficiencia de la aplicación para que tenga exito...\n",
    "# 5. PREVENIR DEFECTOS...\n",
    "# 6. ENCONTRAR FALLAS Y DEFECTOS...\n",
    "# 7. ENTREGAR INFORMACIÓN PARA TOMA DE DESICIONES...\n",
    "# 8. REDUCIR EL NIVEL DE RIESGO... \n",
    "# 9. CUMPLIR CON TODAS LAS NORMAS LEGALES O REGULATORIAS Y CUMPLIR CON LOS ESTANDARES ESTABLECIDOS..."
   ]
  },
  {
   "cell_type": "code",
   "execution_count": null,
   "metadata": {},
   "outputs": [],
   "source": [
    "# 03.\n",
    "# RTA: / "
   ]
  },
  {
   "cell_type": "code",
   "execution_count": null,
   "metadata": {},
   "outputs": [],
   "source": [
    "# 04.\n",
    "# RTA: / "
   ]
  },
  {
   "cell_type": "code",
   "execution_count": null,
   "metadata": {},
   "outputs": [],
   "source": [
    "# 05.\n",
    "# RTA: / "
   ]
  },
  {
   "cell_type": "code",
   "execution_count": null,
   "metadata": {},
   "outputs": [],
   "source": [
    "# 06.\n",
    "# RTA: / "
   ]
  },
  {
   "cell_type": "code",
   "execution_count": null,
   "metadata": {},
   "outputs": [],
   "source": [
    "# 07.\n",
    "# RTA: / "
   ]
  },
  {
   "cell_type": "code",
   "execution_count": null,
   "metadata": {},
   "outputs": [],
   "source": [
    "# 08.\n",
    "# RTA: / "
   ]
  },
  {
   "cell_type": "code",
   "execution_count": null,
   "metadata": {},
   "outputs": [],
   "source": [
    "# 09.\n",
    "# RTA: / "
   ]
  },
  {
   "cell_type": "code",
   "execution_count": null,
   "metadata": {},
   "outputs": [],
   "source": [
    "# 010.\n",
    "# RTA: / "
   ]
  }
 ],
 "metadata": {
  "language_info": {
   "name": "python"
  },
  "orig_nbformat": 4
 },
 "nbformat": 4,
 "nbformat_minor": 2
}
