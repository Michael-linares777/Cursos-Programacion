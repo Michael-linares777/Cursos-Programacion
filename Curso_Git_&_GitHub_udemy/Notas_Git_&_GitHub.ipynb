{
 "cells": [
  {
   "cell_type": "markdown",
   "metadata": {},
   "source": [
    "=> --------------------------------...CURSO GIT & GITHUB UDEMY...---------------------------------"
   ]
  },
  {
   "cell_type": "markdown",
   "metadata": {},
   "source": [
    "=> RESUMEN HASTA EL MOMENTO..."
   ]
  },
  {
   "cell_type": "code",
   "execution_count": null,
   "metadata": {},
   "outputs": [],
   "source": [
    "# ...\n",
    "# VIDEO FUNDAMENTOS / VIDEO _1 / MIN 40 / RESUMEN HASTA EL MOMENTO..."
   ]
  },
  {
   "cell_type": "markdown",
   "metadata": {},
   "source": [
    "=> PENDIENTES..."
   ]
  },
  {
   "cell_type": "code",
   "execution_count": null,
   "metadata": {},
   "outputs": [],
   "source": [
    "# ...\n",
    "# CONFIGURACIÓN DE SALTOS DE LINEA..."
   ]
  },
  {
   "cell_type": "markdown",
   "metadata": {},
   "source": [
    "=> COMANDOS GIT... // => NOTAS / GIT & GITHUB...  //  PRIMEROS PASOS..."
   ]
  },
  {
   "cell_type": "code",
   "execution_count": null,
   "metadata": {},
   "outputs": [],
   "source": [
    "# ...\n",
    "# => PRIMEROS PASOS...  //  COMANDOS...\n",
    "\n",
    "# Primero que todo... Abrimos la terminal de git, El cmd de windows \"Simbolo del sistema\", la powershell, el cmder.... Cualquier terminal \n",
    "\n",
    "# (--) / Usar dos guines medios / significa que la palabra que sigue es una palabra compuesta... Ej: --global\n",
    "# (-) / Usar un solo guion / significa que la palabra que sigue es una palabra abreviada... Ej: -am\n",
    "\n",
    "# git --version  /  \"Su nombre lo dice todo...\"\n",
    "# git help  /  git help commit / git help (puede ser cualquier comando)   \"Ayuda del sistema...\"\n"
   ]
  },
  {
   "cell_type": "markdown",
   "metadata": {},
   "source": [
    "=> ACTIVAR CREDENCIALES EN GIT..."
   ]
  },
  {
   "cell_type": "code",
   "execution_count": null,
   "metadata": {},
   "outputs": [],
   "source": [
    "# ...\n",
    "# => ACTIVAR CREDENCIALES EN GIT...  //  COMANDOS...\n",
    "\n",
    "# Activar credencial de usuario...  git config --global user.name \"Nombre\"\n",
    "# Activar credencial de correo...   git config --global user.email \"Correo\"\n",
    "\n",
    "# MOSTRAR & MODIFICAR CREDENCIALES & ATAJOS DE COMANDOS...\n",
    "# git config --global -e: Mostrar el usuario y el correo incritos...\n",
    "# oprimiendo la tecla \"a\" / puedo hacer modificaciones en mis credenciales y demas texto en ese archivo...\n",
    "# Para salir de esta configuración y guardar los cambios... // Esc :wq!\n",
    "# Solo para salir... // Esc :q\n",
    "\n"
   ]
  },
  {
   "cell_type": "markdown",
   "metadata": {},
   "source": [
    "=> INICIALIZAR REPOSITORIO..."
   ]
  },
  {
   "cell_type": "code",
   "execution_count": null,
   "metadata": {},
   "outputs": [],
   "source": [
    "# ...\n",
    "# => INICIALIZAR REPOSITORIO....  / COMANDOS...\n",
    "\n",
    "# En la terminal arrastramos la carpeta en la cual vamos a trabajar, pero primero escribimos el comando cd...\n",
    "# Ej: cd C:\\Users\\Administrador\\Desktop\\Cursos Programacion // Para comenzar a trabajar dentro de este proyecto o repositorio...\n",
    "\n",
    "# git init // Inicializar el repositorio.."
   ]
  },
  {
   "cell_type": "markdown",
   "metadata": {},
   "source": [
    "=> VER INFORMACIÓN DE LOS ARCHIVOS QUE HAY EN EL REPOSITORIO..."
   ]
  },
  {
   "cell_type": "code",
   "execution_count": null,
   "metadata": {},
   "outputs": [],
   "source": [
    "# ...\n",
    "# => VER INFORMACIÓN DE LOS ARCHIVOS QUE HAY EN EL REPOSITORIO Y MAS... COMANDOS...\n",
    "\n",
    "# git status  // Alias (git ss) Me muestra infomación de los archivos que hay en el repositorio... Y de los cambios realizados... \n",
    "# git status --short  /  Alias (git s) Forma abreviada de ver la información del repositorio... Y de los cambios realizados... "
   ]
  },
  {
   "cell_type": "markdown",
   "metadata": {},
   "source": [
    "\n",
    "=> DIFERENTES FORMAS DE SUBIR ARCHIVOS...  //  ...FORMAS DE AGREGAR ARCHIVOS AL ESCENARIO..."
   ]
  },
  {
   "cell_type": "code",
   "execution_count": null,
   "metadata": {},
   "outputs": [],
   "source": [
    "# ... \n",
    "# => DIFERENTES FORMAS DE SUBIR ARCHIVOS...  //  ...FORMAS DE AGREGAR ARCHIVOS AL ESCENARIO...  // COMANDOS...\n",
    "\n",
    "# git add + nombre_archivo // Ej: git add REadme.md  // Subir un solo archivo...\n",
    "# git add . // Subir todos los archivos\n",
    "\n",
    "# EJ: *.ipynb  /  Con (*) Subimos varios archivos al tiempo... Que tengan la misma extensión en la carpeta principal ...\n",
    "\n",
    "# EJ: N.Carpeta/*.py  /  Agregar archivos con la misma extensión dentro de una carpeta...\n",
    "\n",
    "# EJ: N.Carpeta/  /  Agregar toda una carpeta / Con subcarpetas y todo....\n"
   ]
  },
  {
   "cell_type": "markdown",
   "metadata": {},
   "source": [
    "=> BORRAR ARCHIVOS DEL REPOSITORIO..."
   ]
  },
  {
   "cell_type": "code",
   "execution_count": null,
   "metadata": {},
   "outputs": [],
   "source": [
    "# ...\n",
    "# BORRAR ARCHIVOS DEL REPOSITORIO...\n",
    "\n",
    "# git reset + nombre_archivo // Ej: git reset README.md // Borrar ese solo archivo..."
   ]
  },
  {
   "cell_type": "markdown",
   "metadata": {},
   "source": [
    "=> CREACIÓN, VISUALIZACION, MODICACIÓN & RESTAURACIÓN DE COMMIT..."
   ]
  },
  {
   "cell_type": "code",
   "execution_count": null,
   "metadata": {},
   "outputs": [],
   "source": [
    "# ...\n",
    "# CREACIÓN, VISUALIZACION, MODICACIÓN & RESTAURACIÓN DE COMMIT... // COMANDOS...\n",
    "\n",
    "# git commit -am \"mensaje\" // Ej: git commit -am  \"Mi primer commit definitivo\"   //  Crea un nuevo commit...  /  guarda los cambios modificados en el repositorio... \"HACER UNA FOTO\"\n",
    "# git log... // Ver historial de commit...\n",
    "# Alias git log... // (git lg) // forma corta de ver su historial de commit...\n",
    "# git log --oneline... // Alias (git l)  Forma aún más corta de ver el historial de commit... \n",
    "\n",
    "# git checkout -- .  /  Restaurar proyecto / Como estaba en el ultimo commit... \n",
    "# NOTA: Si he borrado alguna carpeta... ME RECONSTRUYE todo Y CUANDO DIGO todo ES todo...\n",
    "\n",
    "# git commit  --amed -m \"menseje\"  /  Cambiar el mensaje del ultimo commit...\n",
    "\n",
    "# git reset --soft HEAD^  /  sin número elimina el ultimo commit...\n",
    "# El (HEAD) apunta al ultimo commit de la rama main...  \n",
    "# El (^) apunta al ultimo commit antes del (HEAD) / EJ: HEAD^2  /  HEAD^4  /  HEAD^7  / El número indica el commit que quiero borrar..."
   ]
  },
  {
   "cell_type": "markdown",
   "metadata": {},
   "source": [
    "=> CAMBIAR LA RAMA DE TRABAJO // (MAIN) - (MASTER) // FORMA LOCAL & GLOBAL..."
   ]
  },
  {
   "cell_type": "code",
   "execution_count": null,
   "metadata": {},
   "outputs": [],
   "source": [
    "# ...\n",
    "# CAMBIAR LA RAMA DE TRABAJO // (*MASTER) - (*MAIN) // FORMA LOCAL & GLOBAL...  // COMANDOS...\n",
    "\n",
    "# (*Master) es la rama principal // Siempre es mejor trabajar en ramas // Ej: rama (*main) // Mejore practicas...\n",
    "\n",
    "# AFECTA DE MANERA \"LOCAL\"...\n",
    "# git branch... Me muestra en que rama estoy trabajando... EJ: (main)\n",
    "# git branch -m master a main  //  Ej: git branch -m master main  //  Cambiar el nombre de la rama...   \n",
    "\n",
    "# AFECTA DE MANERA GLOBAL...\n",
    "#     git config --global init.defaultBranch <name>... / Cambiar el nombre donde aparece  <master o main>\n",
    "# Ej: git config --global init.defaultBranch main \n",
    "\n",
    "# Verificar / git config --global -e"
   ]
  },
  {
   "cell_type": "markdown",
   "metadata": {},
   "source": [
    "=> CREANDO ATAJOS O ALIAS PARA LOS COMANDOS..."
   ]
  },
  {
   "cell_type": "code",
   "execution_count": null,
   "metadata": {},
   "outputs": [],
   "source": [
    "# ...\n",
    "# CREANDO ATAJOS O ALIAS PARA LOS COMANDOS...\n",
    "\n",
    "# git config --global alias.s \"status --short\"\n",
    "\n",
    "# Alias de git log: git config --global alias.lg \"log --graph --abbrev-commit --decorate --format=format:'%C(bold blue)%h%C(reset) - %C(bold green)(%ar)%C(reset) %C(white)%s%C(reset) %C(dim white)- %an%C(reset)%C(bold yellow)%d%C(reset)' --all\"\n",
    "# git config --global alias.l \"log --oneline\"\n"
   ]
  },
  {
   "cell_type": "code",
   "execution_count": null,
   "metadata": {},
   "outputs": [],
   "source": [
    "# CREACIÓN DEL ARCHIVO README.md\n",
    "\n",
    "# Es un archivo con extensión .md /  .md significa que es un archivo Markdown... / un archivo de texto..."
   ]
  },
  {
   "cell_type": "code",
   "execution_count": null,
   "metadata": {},
   "outputs": [],
   "source": [
    "#  VER LOS CAMBIOS O LAS MODIFICACIONES QUE HE ECHO EN UN ARCHIVO...\n",
    "\n",
    "# git diff  /  Mostrar los cambios generados en el ungstaged...  (Antes de guardar...)\n",
    "# git diff --staged  /  Mostrar los cambios generados en el ungstaged...  (Despues de guardar...)\n",
    "\n",
    "# NOTA: Antes de hacer el commit..."
   ]
  },
  {
   "cell_type": "markdown",
   "metadata": {},
   "source": [
    "=> NOTAS SOBRE SEGUIMIENTO DE ARCHIVOS...\n",
    "\n"
   ]
  },
  {
   "cell_type": "code",
   "execution_count": null,
   "metadata": {},
   "outputs": [],
   "source": [
    "# ...\n",
    "# => NOTAS SOBRE SEGUIMIENTO DE ARCHIVOS...\n",
    "\n",
    "\"\"\" \n",
    "Si le marca el archivo con un color diferente y ademas al final del nombre la pone una 'U' \"untrack\" significa que git no le esta\n",
    "dando seguimiento a ese archivo... 'NO ESTA EN ELCOMMIT' / 'NO QUEDO EN LA FOTO'\n",
    "\"\"\"\n",
    "# Si le marca una \"A\" / Significa \n",
    "# Si le marca una \"M\" / Significa que un archivo que sí está en el commit fue modificado o se agrego algo... "
   ]
  },
  {
   "cell_type": "markdown",
   "metadata": {},
   "source": [
    "=> COMANDOS GENERALES / CUALQUIER TERMINAL..."
   ]
  },
  {
   "cell_type": "code",
   "execution_count": null,
   "metadata": {},
   "outputs": [],
   "source": [
    "#...\n",
    "\n",
    "# COMANDOS...\n",
    "\n",
    "# (cd) Se utiliza para cambiar el directorio actual en el que te encuentras trabajando. Ej: cd + /ruta/del/directorio/en"
   ]
  }
 ],
 "metadata": {
  "kernelspec": {
   "display_name": "base",
   "language": "python",
   "name": "python3"
  },
  "language_info": {
   "codemirror_mode": {
    "name": "ipython",
    "version": 3
   },
   "file_extension": ".py",
   "mimetype": "text/x-python",
   "name": "python",
   "nbconvert_exporter": "python",
   "pygments_lexer": "ipython3",
   "version": "3.11.4"
  },
  "orig_nbformat": 4
 },
 "nbformat": 4,
 "nbformat_minor": 2
}
