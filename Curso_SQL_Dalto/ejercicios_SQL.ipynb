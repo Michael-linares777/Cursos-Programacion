{
 "cells": [
  {
   "cell_type": "markdown",
   "metadata": {},
   "source": [
    "=> EJERCICIOS / SQL...\n"
   ]
  },
  {
   "cell_type": "code",
   "execution_count": null,
   "metadata": {},
   "outputs": [],
   "source": [
    "# EJERCICIO # 1.\n",
    "# Nombre una entidad que tenga 5 atributos...\n",
    "# Uno que sea multivalor...\n",
    "# Otro un identidicador...\n",
    "\n",
    "# ENTIDAD (Persona...) \n",
    "# ATIBUTOS: Nombre, Edad, Estado civil...\n",
    "# MULTIVALOR: Nro. Celular...\n",
    "# IDENTIFICADOR: Nro. Cedula..."
   ]
  }
 ],
 "metadata": {
  "language_info": {
   "name": "python"
  },
  "orig_nbformat": 4
 },
 "nbformat": 4,
 "nbformat_minor": 2
}
