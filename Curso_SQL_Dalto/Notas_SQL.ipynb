{
 "cells": [
  {
   "cell_type": "markdown",
   "metadata": {},
   "source": [
    "### => .................... CURSO BASE DE DATOS... // SQL ........................"
   ]
  },
  {
   "cell_type": "markdown",
   "metadata": {},
   "source": [
    "=> HOY EN DÍA YA NO TENEMOS QUE ANDAR RECORDANDO TODO Y QUE ESTÉ EN NUESTRO CEREBRO; CUANDO TENGAMOS QUE HACER ALGO Y LO PODAMOS ENTENDER... \n",
    "   VAMOS A ENCONTRAR Y VAMOS A SABER LA FORMA DE BUSCARLO..."
   ]
  },
  {
   "cell_type": "markdown",
   "metadata": {},
   "source": [
    "=> NOTAS SQL..."
   ]
  },
  {
   "cell_type": "code",
   "execution_count": null,
   "metadata": {},
   "outputs": [],
   "source": [
    "#...\n",
    "# SQL: Strutured Query Language // Lenguaje de consultas extructuradas...\n",
    "\n",
    "# Practicamente es algebra relacional..\n",
    "\n",
    "# Consultas: Hacer una busqueda o pedir algun dato se llama consulta..\n",
    "#  Tenes que poder hacer las 4 operaciones basicas de cualquier sistema de gestion...\n",
    "# (C)-CREATE // (Crear)... INFORMAACION...\n",
    "# (R)-READ // (Leer).. INFORMACION...\n",
    "# (U)-UPDATE // (Actualizar / Modificar)... INFORMACION...\n",
    "# (D)-DELETE // (borrar)... \n",
    "\n",
    "# ENTIDAD...  /  [Se representa encerrada en un cuadrado]...\n",
    "# Es una palabra encerrada en un cuadro... \n",
    "# Es una representación de algo...clientes, productos, ordenes de compra, proveedores, ETC...\n",
    "# Nomenclatura usada... NOTACIÓN DE CHEN...\n",
    "# Ej: Casa[Encerrada en un cuadrado] / Sus atributos(Se representan con un ovalo): Tamaño, Dirección, Ambientes, Ubicación, Precio...\n",
    "\n",
    "# TABLA / (Table): Una estructura de datos que se organiza en filas y columnas...\n",
    "# Que informacion almacenan las tablas??? RTA: Informacion sobre esa entidad...\n",
    "\n",
    "# CAMPO / (Field): Nombre de la columna... Pero solo del titulo o encabezado...\n",
    "\n",
    "# VALOR DEL CAMPO / (Value field): Cada uno de los espacios o cuadros en una columna es el valor del campo... \n",
    "\n",
    "# REGISTRO / (Record): Nombre de la fila... Y de los datos de esa fila... Osea toda la fila entera...\n",
    "\n",
    "# IDENTIFICADORES / (ID) / LLAVES PRIMARIAS... "
   ]
  },
  {
   "cell_type": "markdown",
   "metadata": {},
   "source": [
    "=> SINTAXIS SQL... CRUD..."
   ]
  },
  {
   "cell_type": "code",
   "execution_count": null,
   "metadata": {},
   "outputs": [],
   "source": [
    "# ...\n",
    "\n",
    "# (C) => CREATE // (Crear)... INFORMAACION...\n",
    "# Para INSERTAR dat@s en la tabla...\n",
    "# INSERT INTO + Nombre de la tabla + (nombre,de,las,columnas) // Ej: INSERT INTO usuarios (nombre,apellido,edad)\n",
    "# Y YA SEA AL LADO O EN LA PARTE DE ABAJO PONEMOS LOS VALORES...\n",
    "# Ej: INSERT INTO usuarios (nombre,apellido,edad) \n",
    "#     VALUES ('Michael','Linares',36),   // Para ingresar un solo valor...\n",
    "#            ('Kamilo','Carvajal',30)    // Para ingresar varios datos a la vez...\n",
    "\n",
    "\n",
    "# (R) => READ // (Leer).. INFORMACION...\n",
    "# Para HACER CONSULTAS, pedir un dat@S &... \n",
    "# SELECT: La sentensia que nos permite seleccionar algo o hacer consultas ... Nos genera siempre nuevas tablas   \n",
    "# (*) Caracter universal en programación para referirme a todo o todos los datos...\n",
    "# FROM: Que español traduce: (DE...) // Ej: FROM + Nombre de la tabla... // FROM usuarios...\n",
    "# Todos los campos  //  Ej: SELECT * FROM usuarios \n",
    "# Un solo campo //  Ej: SELECT nombre FROM usurios \n",
    "# Dos campos... ETC // Ej: SELECT nombre,edad FROM usuarios\n",
    "\n",
    "\n",
    "# (U) => UPDATE // (Actualizar / Modificar)... INFORMACIÓN...\n",
    "# UPDATE + Nombre_tabla SET nombre_campo = \"nuevo_valor\"\n",
    "# Ej: UPDATE turnos_medicos => Seleccionar tabla...\n",
    "#     SET horario = \"04:00\" => Campo y valor a modificar... Modificar un solo Campo...\n",
    "#     SET horario = \"04:00\", motivo = \"Dolor Riñon Izq\" => Modificar más de un campo... \n",
    "#     WHERE id_turno = 1 => Seleccionar o condicionar solo un campo // Para que no los modifique todos...\n",
    "\n",
    "\n",
    "# (D) => DELETE // (borrar)... INFORMACIÓN...\n",
    "# Para BORRAR los dat@s en la tabla.... \n",
    "# Borrar todo // DELETE FROM  + nombre de la tabla  //  Ej: DELETE FROM usuarios"
   ]
  },
  {
   "cell_type": "markdown",
   "metadata": {},
   "source": [
    "=> ORDEN DE GERARQUIA EN CUANTO A LOS DATOS..."
   ]
  },
  {
   "cell_type": "code",
   "execution_count": null,
   "metadata": {},
   "outputs": [],
   "source": [
    "# ...\n",
    "# De forma (Asc) por defecto...\n",
    "# (LAS LETRAS) => Es lo que mas vale => De la (A - Z)...\n",
    "# (CARACTERES ESPECIALES) => Es lo que le sigue... // (El punto(.), La coma(,)... Los acentos())\n",
    "# (NUMEROS) => Es lo que le sigue... de mayor a menor // (9 - 0) \n",
    "# (NULL) => Lo que menos valor tiene... //  EJ: ORDER BY ProductsName Asc NULLS LAST => Pone los nulls al final / NULLS FIRST => Pone los nulls al inicio."
   ]
  },
  {
   "cell_type": "markdown",
   "metadata": {},
   "source": [
    "=> CLAUSULAS SQL...\n"
   ]
  },
  {
   "cell_type": "code",
   "execution_count": null,
   "metadata": {},
   "outputs": [],
   "source": [
    "\n",
    "# ...\n",
    "# CLAUSULAS...\n",
    "\n",
    "# CLAUSULA (AS)... // Cambiar nombres temporalmente... //  SE USA PRINCIPALMENTE PARA PONER (\"NOMBRES MAS DESCRIPTIVOS\") A LA TABLA O ALGUN CAMPO...\n",
    "# EJ: => SELECT LastName AS apellido,FirstName AS Nombre FROM Employees / (Empleados)....\n",
    "\n",
    "# CLAUSULA (ORDER BY)... // Ordenar de forma ascendente o descendente... // MEJOR DICHO (\"FILTRAR\") CREAMOS FILTROS....\n",
    "# EJ: => SELECT * FROM Products    \n",
    "#        ORDER BY price ASC / (precio) \n",
    "\n",
    "# (ORDER BY ASC)... // forma Ascendente, aunque por defecto ya lo pone asi sin el ASC... Poner (ASC) Practica correcta... \n",
    "# EJ: => SELECT * FROM products\n",
    "#        ORDER BY price ASC\n",
    "\n",
    "# (ORDER BY DESC)... // Forma Descendente... \n",
    "# EJ: => SELECT * FROM Products\n",
    "#        ORDER BY Price DESC\n",
    "\n",
    "# CLAUSULA (NULLS)...  // Pone los nulls al final... // NULLS FIRST => Pone los nulls al inicio... / NULLS LAST => Los  pone al final..\n",
    "# EJ: => SELECT * FROM Products\n",
    "#        ORDER BY ProductsName Asc NULLS LAST => Pone los nulls al final...\n",
    "\n",
    "# ORDENAR CON ORDER BY POR NOMBRE DE CAMPO ESPECFICO... Ej: ORDER BY ProductsName, ProductID Asc / Desc.\n",
    "\n",
    "# CLAUSULA (DISTINCT)... // Borrar los registros que están repetidos... // Selecciona los valores unicos de cada registro y valor del campo...\n",
    "# EJ: => SELECT DISTINCT ProductName FROM Products  \n",
    "\n",
    "# CLAUSULA (LIMIT)... // Para limitar el numero de valores o resultados en una consulta...\n",
    "# EJ: => SELECT * FROM Customers\n",
    "#        WHERE CustomerID >= 50\n",
    "#        LIMIT 5 => (5) Número limite de valor por consulta...\n"
   ]
  },
  {
   "cell_type": "markdown",
   "metadata": {},
   "source": [
    "=> ATRIBUTOS..."
   ]
  },
  {
   "cell_type": "code",
   "execution_count": null,
   "metadata": {},
   "outputs": [],
   "source": [
    "# ...\n",
    "# ATRIBUTOS... /  (Se representan con un ovalo)...\n",
    "\n",
    "# Atributos simples: Datos unicos... / Ej: Precio...    ...ENTIDAD CASA...\n",
    "\n",
    "# Atributos compuestos: / Que tienen más atributos... / Ej: Ambientes: Tamaño y Tipo...\n",
    "\n",
    "# Atributos multivalor: (Se representan con doble ovalo) / Tienen + de un valor... /   EJ: Ventanas / Puertas...\n",
    "\n",
    "# Atributos derivados: (Se representan con ovalo punteado) /  Se pueden obtener con cualquier otra información, osea de otro atributo...\n",
    "# Ej: Ubicación se puede obtener de la dirreción... / Antiguedad se puede obtener de la fecha de construcción...\n"
   ]
  },
  {
   "cell_type": "markdown",
   "metadata": {},
   "source": [
    "=> CLAVES / (KEYS)..."
   ]
  },
  {
   "cell_type": "code",
   "execution_count": null,
   "metadata": {},
   "outputs": [],
   "source": [
    "# ...\n",
    "# CLAVE O KEY...\n",
    "# Tambien son atributos... (Se representan con el ovalo y ademas van subrayados...)\n",
    "# Una forma unica de representar algo...  /   EJ: (ID)\n",
    "\n",
    "#  LLAVE PRIMARIA O CLAVE PRIMARIA (Primary key): (PK) Como su identificador unico por tabla... Cada tabla tiene su llave primaria...\n",
    "#  Nos sirve para identidficar un registro como unico...\n",
    "\n",
    "# LLAVE O CLAVE FORANEA (Foreign key): (FK) Es un identificador que une dos tablas...\n",
    "# Es una clave que nos permite hacer referencia, a una clave primaria de otra tabla..."
   ]
  },
  {
   "cell_type": "markdown",
   "metadata": {},
   "source": [
    "=> FUNCIONES SQL..."
   ]
  },
  {
   "cell_type": "code",
   "execution_count": null,
   "metadata": {},
   "outputs": [],
   "source": [
    "# ...\n",
    "# FUNCIONES...\n",
    "\n",
    "# Random() // EJ: ORDER BY RANDOM() => Ordenar de forma aleatoria...\n",
    "\n"
   ]
  },
  {
   "cell_type": "markdown",
   "metadata": {},
   "source": [
    "=> CONDICONES O CONDICIONALES... CON LA CLAUSULA WHERE..."
   ]
  },
  {
   "cell_type": "code",
   "execution_count": null,
   "metadata": {},
   "outputs": [],
   "source": [
    "# ...\n",
    "# CLAUSULA WHERE...\n",
    "\n",
    "# BUSCAR O CONDICIONAR POR Nro ID:\n",
    "#  SELECT * FROM Products\n",
    "#  WHERE ProductID = 14\n",
    "\n",
    "# BUSCAR O CONDICIONAR POR NOMBRE:\n",
    "#  SELECT * FROM Products\n",
    "#  WHERE ProductName = \"Tofu\"\n",
    "\n",
    "# BUSCAR O CONDICIONAR POR PRECIO:\n",
    "#  SELECT * FROM Products\n",
    "#  WHERE Price <= 40"
   ]
  },
  {
   "cell_type": "markdown",
   "metadata": {},
   "source": [
    "=> OPERADORES LÓGICOS // AND / OR / NOT ..."
   ]
  },
  {
   "cell_type": "code",
   "execution_count": null,
   "metadata": {},
   "outputs": [],
   "source": [
    "# ...\n",
    "# OPERADORES LÓGICOS AND / OR / NOT ... AND LIMIT\n",
    "\n",
    "# OPERADOR (AND)... // WHERE Condition1 AND Condition2...\n",
    "# EJ: => SELECT * FROM Customers\n",
    "#        WHERE Customer >= 50 AND Customer < 55 => Seleccionar por dos condiciones correctas... // Customer / (Cliente)...\n",
    "\n",
    "\n",
    "# OPERADOR (OR)... // WHERE Condition1 OR Condition2...\n",
    "# EJ: => SELECT *  FROM Employees\n",
    "#        WHERE FirstName = \"Michael\" OR FirstName = \"Anne\" => Seleccionar por dos condiciones\n",
    "#        Una verdadera & otra falsa y viceversa... // Employees / (Empleados)\n",
    "\n",
    "\n",
    "# NOTA: Puedo unir dos condiciones (AND & OR) En una sola consulta...\n",
    "# EJ: => SELECT * FROM Products\n",
    "#        WHERE (Price < 20 OR CategoryID = 6) AND SupplierID = 7 //  WHERE Price < 20 OR (CategoryID = 6 AND SupplierID = 7) \n",
    "\n",
    "\n",
    "\n",
    "# OPERADOR (NOT)... \n",
    "# EJ: => SELECT * FROM Customers \n",
    "#        WHERE NOT Country = \"USA\" => Que me seleccione todos los paises menos los de \"USA\"...\n",
    "#        WHERE NOT Country = \"USA\" AND NOT Country \"France\" => Para seleccionar y negar dos condicones...\n",
    "\n",
    "\n",
    "# CLAUSULA (LIMIT)... // Para limitar el numero de valores o resultados en una consulta...\n",
    "# EJ: => SELECT * FROM Customers\n",
    "#        WHERE CustomerID >= 50\n",
    "#        LIMIT 5 => (5) Número limite de valor por consulta...\n",
    "\n"
   ]
  }
 ],
 "metadata": {
  "kernelspec": {
   "display_name": "venv",
   "language": "python",
   "name": "python3"
  },
  "language_info": {
   "name": "python",
   "version": "3.11.4"
  },
  "orig_nbformat": 4
 },
 "nbformat": 4,
 "nbformat_minor": 2
}
