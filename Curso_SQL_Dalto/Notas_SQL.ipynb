{
 "cells": [
  {
   "cell_type": "markdown",
   "metadata": {},
   "source": [
    "=> NOTAS SQL..."
   ]
  },
  {
   "cell_type": "code",
   "execution_count": null,
   "metadata": {},
   "outputs": [],
   "source": []
  },
  {
   "cell_type": "markdown",
   "metadata": {},
   "source": [
    "=> FUNDAMENTOS DE BASES DE DATOS...\n"
   ]
  },
  {
   "cell_type": "code",
   "execution_count": null,
   "metadata": {},
   "outputs": [],
   "source": [
    "# ENTIDAD...  /  [Se representa encerrada en un cuadrado]...\n",
    "# Es una palabra encerrada en un cuadro... \n",
    "# Es una representación de algo...clientes, productos, ordenes de compra, proveedores, ETC...\n",
    "# Nomenclatura usada... NOTACIÓN DE CHEN...\n",
    "# Ej: Casa[Encerrada en un cuadrado] / Sus atributos(Se representan con un ovalo): Tamaño, Dirección, Ambientes, Ubicación, Precio...\n"
   ]
  },
  {
   "cell_type": "markdown",
   "metadata": {},
   "source": [
    "=> ATRIBUTOS..."
   ]
  },
  {
   "cell_type": "code",
   "execution_count": null,
   "metadata": {},
   "outputs": [],
   "source": [
    "# ATRIBUTOS... /  (Se representan con un ovalo)...\n",
    "\n",
    "# Atributos simples: Datos unicos... / Ej: Precio...    ...ENTIDAD CASA...\n",
    "\n",
    "# Atributos compuestos: / Que tienen más atributos... / Ej: Ambientes: Tamaño y Tipo...\n",
    "\n",
    "# Atributos multivalor: (Se representan con doble ovalo) / Tienen + de un valor... /   EJ: Ventanas / Puertas...\n",
    "\n",
    "# Atributos derivados: (Se representan con ovalo punteado) /  Se pueden obtener con cualquier otra información, osea de otro atributo...\n",
    "# Ej: Ubicación se puede obtener de la dirreción... / Antiguedad se puede obtener de la fecha de construcción...\n"
   ]
  },
  {
   "cell_type": "markdown",
   "metadata": {},
   "source": [
    "=> CLAVE / KEY..."
   ]
  },
  {
   "cell_type": "code",
   "execution_count": null,
   "metadata": {},
   "outputs": [],
   "source": [
    "# CLAVE O KEY...\n",
    "# Tambien son atributos... (Se representan con el ovalo y ademas van subrayados...)\n",
    "# Una forma unica de representar algo...  /   EJ: (ID)\n"
   ]
  }
 ],
 "metadata": {
  "kernelspec": {
   "display_name": "venv",
   "language": "python",
   "name": "python3"
  },
  "language_info": {
   "name": "python",
   "version": "3.11.4"
  },
  "orig_nbformat": 4
 },
 "nbformat": 4,
 "nbformat_minor": 2
}
