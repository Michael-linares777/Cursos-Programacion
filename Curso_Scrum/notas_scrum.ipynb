{
 "cells": [
  {
   "cell_type": "markdown",
   "metadata": {},
   "source": [
    "=> NOTAS METODOLIGIAS AGILES... //  SCRUM..."
   ]
  },
  {
   "cell_type": "code",
   "execution_count": null,
   "metadata": {},
   "outputs": [],
   "source": [
    "# ...\n",
    "# NOTAS...\n",
    "\n",
    "# Scrum:\n",
    "\n",
    "# => LOS CUATRO VALORES ÁGILES:\n",
    "#  - 1. Valoras a las personas y sus interacciones, sobre los procesos y las herramientas...\n",
    "#  - 2. Software funconando, sobre la documentación excesiva...\n",
    "#  - 3. Colaboración con el cliente, sobre negociación de contratos...\n",
    "#  - 4. Respuesta ante el cambio, sobre seguir el plan...\n",
    "\n",
    "# \n"
   ]
  },
  {
   "cell_type": "code",
   "execution_count": null,
   "metadata": {},
   "outputs": [],
   "source": [
    "# Scrum es un marco de trabajo ágil utilizado comúnmente en el desarrollo de software, aunque también se ha aplicado con éxito en otros campos. Se centra en la gestión de proyectos complejos, permitiendo que los equipos entreguen de manera incremental y regular productos de alta calidad. Aquí hay algunos puntos clave sobre Scrum:\n",
    "\n",
    "# 1. **Iterativo e Incremental:** Scrum divide el trabajo en iteraciones llamadas \"sprints\". Cada sprint generalmente dura de 2 a 4 semanas y al final de cada uno, se produce una versión incrementada y potencialmente entregable del producto.\n",
    "\n",
    "# 2. **Roles Definidos:**\n",
    "#    - **Product Owner:** Representa los intereses del cliente y prioriza el trabajo del equipo.\n",
    "#    - **Scrum Master:** Facilita el proceso y elimina obstáculos para el equipo.\n",
    "#    - **Equipo de Desarrollo:** Grupo multifuncional de profesionales que realiza el trabajo real.\n",
    "\n",
    "# 3. **Backlog de Producto y Sprint:**\n",
    "#    - **Backlog de Producto:** Una lista priorizada de características, mejoras y correcciones necesarias para el producto.\n",
    "#    - **Sprint Backlog:** Subconjunto del Backlog de Producto seleccionado para el sprint actual.\n",
    "\n",
    "# 4. **Reuniones Clave:**\n",
    "#    - **Sprint Planning:** Al comienzo de cada sprint, el equipo selecciona tareas del Backlog de Producto para trabajar.\n",
    "#    - **Daily Scrum:** Reunión diaria de 15 minutos para que el equipo sincronice sus actividades.\n",
    "#    - **Sprint Review:** Al final de cada sprint, el equipo presenta el trabajo completado.\n",
    "#    - **Sprint Retrospective:** Una sesión después del Sprint Review para reflexionar sobre el sprint y mejorar continuamente.\n",
    "\n",
    "# 5. **Artefactos:**\n",
    "#    - **Incremento:** La versión del producto al final de cada sprint.\n",
    "#    - **Product Backlog:** Lista priorizada de lo que se necesita en el producto.\n",
    "#    - **Sprint Backlog:** Tareas seleccionadas para el sprint actual.\n",
    "\n",
    "# 6. **Principios Ágiles:**\n",
    "#    - **Adaptabilidad:** Scrum se basa en la inspección y adaptación continua.\n",
    "#    - **Colaboración:** Fomenta la comunicación constante entre los miembros del equipo y partes interesadas.\n",
    "#    - **Entrega Continua de Valor:** Se enfoca en entregar productos de alta calidad de manera regular.\n",
    "\n",
    "# En resumen, Scrum es un marco de trabajo ágil que aborda la complejidad y la incertidumbre en el desarrollo de proyectos al fomentar la flexibilidad, la comunicación constante y la entrega incremental de productos de calidad."
   ]
  }
 ],
 "metadata": {
  "language_info": {
   "name": "python"
  }
 },
 "nbformat": 4,
 "nbformat_minor": 2
}
