{
 "cells": [
  {
   "cell_type": "markdown",
   "metadata": {},
   "source": [
    "#### => EJERCICIOS UDEMY...\n"
   ]
  },
  {
   "cell_type": "markdown",
   "metadata": {},
   "source": [
    "=> Proyecto del Día 2..."
   ]
  },
  {
   "cell_type": "code",
   "execution_count": 13,
   "metadata": {},
   "outputs": [
    {
     "name": "stdout",
     "output_type": "stream",
     "text": [
      "Tus ventas Michael son de $5000\n",
      "Tu porcentajes de ventas es: $650.0\n",
      "Tus ventas Linares  son de $10000\n",
      "Tu porcentajes de ventas es: $650.0\n"
     ]
    }
   ],
   "source": [
    "# Calcular porcentaje de ventas...\n",
    "nombre = input(\"Escribe tu nombre: \")\n",
    "ventas = input(\"Escribe tus ventas: \")\n",
    "ventas = int(ventas)\n",
    "porcentaje = ventas * 13 / 100\n",
    "redondear = round(porcentaje, 2)\n",
    "print(f\"Tus ventas {nombre} son de ${ventas}\\nTu porcentajes de ventas es: ${redondear}\")\n",
    "\n",
    "nombre = input(\"Escribe tu nombre: \")\n",
    "ventas = int(input(\"Escribe tus ventas: \"))\n",
    "porcentaje = round(ventas * 13 / 100)\n",
    "print(f\"Tus ventas {nombre} son de ${ventas}\\nTu porcentajes de ventas es: ${porcentaje}\")\n",
    "\n",
    "\n"
   ]
  }
 ],
 "metadata": {
  "kernelspec": {
   "display_name": "Python 3",
   "language": "python",
   "name": "python3"
  },
  "language_info": {
   "codemirror_mode": {
    "name": "ipython",
    "version": 3
   },
   "file_extension": ".py",
   "mimetype": "text/x-python",
   "name": "python",
   "nbconvert_exporter": "python",
   "pygments_lexer": "ipython3",
   "version": "3.11.4"
  },
  "orig_nbformat": 4
 },
 "nbformat": 4,
 "nbformat_minor": 2
}
