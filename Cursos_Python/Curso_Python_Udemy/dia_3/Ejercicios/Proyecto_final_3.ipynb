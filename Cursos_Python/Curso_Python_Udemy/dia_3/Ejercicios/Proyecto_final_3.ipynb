{
 "cells": [
  {
   "cell_type": "markdown",
   "metadata": {},
   "source": [
    "=> PROYECTO FINAL UDEMY DÍA 3..."
   ]
  },
  {
   "cell_type": "code",
   "execution_count": null,
   "metadata": {},
   "outputs": [],
   "source": [
    "# La consigna es la siguiente: vas a crear un programa que primero le pida al usuario que ingrese un texto. Puede ser un texto\n",
    "# cualquiera: un artículo entero, un párrafo, una frase, un poema, lo que quiera. Luego, el programa le va a pedir al usuario\n",
    "# que también ingrese tres letras a su elección y a partir de ese momento nuestro código va a procesar esa información \n",
    "# para hacer cinco tipos de análisis y devolverle al usuario la siguiente información: \n",
    "\n",
    "# 1.  Primero: ¿cuántas veces aparece cada una de las letras que eligió? Para lograr esto, te recomiendo almacenar esas letras\n",
    "#     en una lista y luego usar algún método propio de string que nos permita contar cuantas veces aparece un sub string dentro\n",
    "#     del string. Algo que debes tener en cuenta es que al buscar las letras pueden haber mayúsculas y minúsculas y esto va a\n",
    "#     afectar el resultado. Lo que deberías hacer para asegurarte de que se encuentren absolutamente todas las letras es pasar,\n",
    "#     tanto eltexto original como las letras a buscar, a minúsculas. \n",
    "\n",
    "# 2.  Segundo: le vas a decir al usuario cuántas palabras hay a lo largo de todo el texto. Y para lograr esta parte, recuerda\n",
    "#     que hay un método de string que permite transformarlo en una lista y que luego hay una función que permite averiguar el\n",
    "#     largo de una lista.\n",
    "\n",
    "# 3.  Tercero: nos va a informar cuál es la primera letra del texto y cuál es la última. Aquí claramente echaremos mano de\n",
    "#     la indexación. \n",
    "\n",
    "# 4.  Cuarto: el sistema nos va a mostrar cómo quedaría el texto si invirtiéramos el orden de las palabras. ¿Acaso hay algún\n",
    "#     método que permita invertir el orden de una lista, y otro que permita unir esos elementos con espacios intermedios?\n",
    "#     Piénsalo. \n",
    "\n",
    "# 5.  Y por último: el sistema nos va a decir si la palabra “Python” se encuentra dentro del texto. Esta parte puede ser algo\n",
    "#     complicada de imaginársela, pero te voy a dar una pista: puedes usar booleanos para hacer tu averiguación y un diccionario\n",
    "#     para encontrar la manera de expresarle al usuario tu respuesta. "
   ]
  },
  {
   "cell_type": "code",
   "execution_count": null,
   "metadata": {},
   "outputs": [],
   "source": [
    "# Michael Steven Linares Velasco\n",
    "texto = input(\"Ingresa un parrafo cualquiera: \")\n",
    "letras = input(\"Ingresa 3 letras a tú elección: \")"
   ]
  },
  {
   "cell_type": "code",
   "execution_count": null,
   "metadata": {},
   "outputs": [],
   "source": [
    "texto = texto.lower()\n",
    "letras = letras.lower()\n",
    "letras = letras.split()\n",
    "\n",
    "print(texto)\n",
    "print(letras)"
   ]
  },
  {
   "cell_type": "code",
   "execution_count": null,
   "metadata": {},
   "outputs": [],
   "source": [
    "a1, b1, c1 = letras\n",
    "print(a1, b1, c1)\n"
   ]
  },
  {
   "cell_type": "code",
   "execution_count": null,
   "metadata": {},
   "outputs": [],
   "source": [
    "a1 = texto.count(a1)\n",
    "b1 = texto.count(b1)\n",
    "c1 = texto.count(c1)\n",
    " \n",
    "print(a1)"
   ]
  },
  {
   "cell_type": "code",
   "execution_count": 58,
   "metadata": {},
   "outputs": [
    {
     "name": "stdout",
     "output_type": "stream",
     "text": [
      "['michael', 'steven', 'linares', 'velasco']\n"
     ]
    }
   ],
   "source": [
    "cantidad_palabras = texto.split()\n",
    "print(cantidad_palabras)"
   ]
  },
  {
   "cell_type": "code",
   "execution_count": null,
   "metadata": {},
   "outputs": [],
   "source": [
    "primera_letra = texto[0:1]\n",
    "print(primera_letra)"
   ]
  },
  {
   "cell_type": "code",
   "execution_count": null,
   "metadata": {},
   "outputs": [],
   "source": [
    "ultima_letra = texto[-1]\n",
    "print(ultima_letra)"
   ]
  },
  {
   "cell_type": "code",
   "execution_count": 81,
   "metadata": {},
   "outputs": [
    {
     "name": "stdout",
     "output_type": "stream",
     "text": [
      "ocsalev seranil nevets leahcim\n"
     ]
    }
   ],
   "source": [
    "invertir_texto = texto[::-1]\n",
    "print(invertir_texto)\n"
   ]
  },
  {
   "cell_type": "code",
   "execution_count": 82,
   "metadata": {},
   "outputs": [
    {
     "name": "stdout",
     "output_type": "stream",
     "text": [
      "velasco linares steven michael\n"
     ]
    }
   ],
   "source": [
    "unir = \" \".join(cantidad_palabras)\n",
    "print(unir)"
   ]
  },
  {
   "cell_type": "code",
   "execution_count": 65,
   "metadata": {},
   "outputs": [
    {
     "name": "stdout",
     "output_type": "stream",
     "text": [
      "False\n"
     ]
    }
   ],
   "source": [
    "encuentra_palabra = ('Python' in texto)\n",
    "print(encuentra_palabra)"
   ]
  },
  {
   "cell_type": "code",
   "execution_count": 83,
   "metadata": {},
   "outputs": [
    {
     "name": "stdout",
     "output_type": "stream",
     "text": [
      "michael steven linares velasco\n",
      "['a', 'o', 'e']\n",
      "El texto tiene 4 palabras...\n",
      "La vocal 'a' aparece 3 veces... / La vocal 'o' aparece 1 veces... / La vocal 'e' aparece 5 veces...\n",
      "La primera letra del texto es la letra: m\n",
      "La última letra del texto es la letra: o\n",
      "El texto invertido quedaria asi: ocsalev seranil nevets leahcim\n",
      "Unir texto invertido con esapcios intermedios / Quedaria así: velasco linares steven michael\n",
      "La palabra 'Python?' en el texto: False\n"
     ]
    }
   ],
   "source": [
    "print(texto)\n",
    "print(letras)\n",
    "print(f\"El texto tiene {len(cantidad_palabras)} palabras...\")\n",
    "print(f\"La vocal 'a' aparece {a1} veces... / La vocal 'o' aparece {b1} veces... / La vocal 'e' aparece {c1} veces...\")\n",
    "print(f\"La primera letra del texto es la letra: {primera_letra}\")\n",
    "print(f\"La última letra del texto es la letra: {ultima_letra}\")\n",
    "print(f\"El texto invertido quedaria asi: {invertir_texto}\")\n",
    "print(f\"Unir texto invertido con esapcios intermedios / Quedaria así: {unir}\")\n",
    "print(f\"La palabra 'Python?' en el texto: {encuentra_palabra}\")\n",
    "\n"
   ]
  }
 ],
 "metadata": {
  "kernelspec": {
   "display_name": "base",
   "language": "python",
   "name": "python3"
  },
  "language_info": {
   "codemirror_mode": {
    "name": "ipython",
    "version": 3
   },
   "file_extension": ".py",
   "mimetype": "text/x-python",
   "name": "python",
   "nbconvert_exporter": "python",
   "pygments_lexer": "ipython3",
   "version": "3.11.4"
  },
  "orig_nbformat": 4
 },
 "nbformat": 4,
 "nbformat_minor": 2
}
