{
 "cells": [
  {
   "cell_type": "markdown",
   "metadata": {},
   "source": [
    "#### => EJERCICIOS TEORICOS / UDEMY...\n"
   ]
  },
  {
   "cell_type": "code",
   "execution_count": null,
   "metadata": {},
   "outputs": [],
   "source": [
    "# EJERCICIO 1. Buscar un caracter por indice...\n",
    "\n",
    "mi_texto = \"Esto es una prueba: \"\n",
    "result = mi_texto[0]\n",
    "print(result)\n",
    "\n",
    "mi_texto = \"Esto es una prueba\"\n",
    "result = mi_texto[9]\n",
    "print(result)\n",
    "\n",
    "mi_texto = \"Esto es una prueba\"\n",
    "result = mi_texto[5]\n",
    "print(result)\n",
    "\n",
    "mi_texto = \"Esto es una prueba\"\n",
    "result = mi_texto[-1]\n",
    "print(result)\n",
    "\n",
    "mi_texto = \"Esto es una prueba\"\n",
    "result = mi_texto[-4]\n",
    "print(result)"
   ]
  },
  {
   "cell_type": "code",
   "execution_count": null,
   "metadata": {},
   "outputs": [],
   "source": [
    "# EJERCICIO 2. MÉTODO index()...  Ver el caracter que posición ocupa... (error / si no encuentra el caracter...)\n",
    "\n",
    "mi_texto = \"Esto es una prueba\"\n",
    "result = mi_texto.index('E')\n",
    "print(result)\n",
    "\n",
    "mi_texto = \"Esto es una prueba\"\n",
    "result = mi_texto.index('t')\n",
    "print(result)\n",
    "\n",
    "mi_texto = \"Esto es una prueba\"\n",
    "result = mi_texto.index('n')\n",
    "print(result)\n",
    "\n",
    "mi_texto = \"Esto es una prueba\"\n",
    "result = mi_texto.index('r')\n",
    "print(result)\n",
    "\n",
    "\n",
    "mi_texto = \"Esto es una prueba\"\n",
    "result = mi_texto.index('prueba')\n",
    "print(result)\n",
    "\n",
    "mi_texto = \"Esto es una prueba\" # .index('a', star=, end= )\n",
    "result = mi_texto.index('a', 5, 10 )\n",
    "print(result)\n",
    "\n",
    "mi_texto = \"Esto es una prueba\"\n",
    "result = mi_texto.index('r')\n",
    "print(result)\n",
    "\n",
    "'''mi_texto = \"Esto es una prueba\"\n",
    "result = mi_texto.index('x')\n",
    "print(result) # ValueError: substring not found'''\n"
   ]
  },
  {
   "cell_type": "code",
   "execution_count": null,
   "metadata": {},
   "outputs": [],
   "source": [
    "# EJERCICIO 3. MÉTODO rindex()... Ver el caracter que posición ocupa, contando hacia atras...\n",
    "\n",
    "mi_texto = \"Esto es una prueba\"\n",
    "result = mi_texto.rindex('a')\n",
    "print(result)\n",
    "\n",
    "mi_texto = \"Esto es una prueba\"\n",
    "result = mi_texto.rindex('b')\n",
    "print(result)\n",
    "\n",
    "mi_texto = \"Esto es una prueba\"\n",
    "result = mi_texto.rindex('s')\n",
    "print(result)\n",
    "\n",
    "mi_texto = \"Esto es una prueba\"\n",
    "result = mi_texto.rindex('una')\n",
    "print(result)\n"
   ]
  },
  {
   "cell_type": "code",
   "execution_count": null,
   "metadata": {},
   "outputs": [],
   "source": [
    "# EJERCICIO 4. Fragmentando string...  /  slicing... [1:5:3] [desde:hasta:cada cuantas letras]...\n",
    "\n",
    "texto = \"ABCDEFGHIJKLM\"\n",
    "fragmento = texto[0:10:2]\n",
    "print(fragmento)\n",
    "\n",
    "texto = \"ABCDEFGHIJKLM\"\n",
    "fragmento = texto[:2]\n",
    "print(fragmento)\n",
    "\n",
    "texto = \"ABCDEFGHIJKLM\"\n",
    "fragmento = texto[5:]\n",
    "print(fragmento)\n",
    "\n",
    "texto = \"ABCDEFGHIJKLM\"\n",
    "fragmento = texto[::2]\n",
    "print(fragmento)"
   ]
  },
  {
   "cell_type": "markdown",
   "metadata": {},
   "source": [
    "=> MÉTODOS DE STRING..."
   ]
  },
  {
   "cell_type": "code",
   "execution_count": null,
   "metadata": {},
   "outputs": [],
   "source": [
    "# EJERCICIO 5... MÉTODO upper()... Transformar todos los caracteres del string en mayusculas...\n",
    "\n",
    "texto = \"Este es el texto de Michael\"\n",
    "result = texto.upper()\n",
    "print(result)\n",
    "\n",
    "texto = \"Este es el texto de Michael\"\n",
    "result = texto[2].upper()\n",
    "print(result)\n",
    "\n"
   ]
  },
  {
   "cell_type": "code",
   "execution_count": null,
   "metadata": {},
   "outputs": [],
   "source": [
    "# EJERCICIO 6... MÉTODO lower()... Transformar todos los caracteres del string en minusculas...\n",
    "\n",
    "texto = \"Este es el texto de Michael\"\n",
    "result = texto.lower()\n",
    "print(result)\n",
    "\n",
    "texto = \"Este es el texto de Michael\"\n",
    "result = texto[8].upper()\n",
    "print(result)"
   ]
  },
  {
   "cell_type": "code",
   "execution_count": null,
   "metadata": {},
   "outputs": [],
   "source": [
    "# EJERCICIO 7... MÉTODO split()... Separa los elementos y los guarda en una lista[] entre parentesis y separados por comas... \n",
    "\n",
    "texto = \"Este es el texto de Michael\"\n",
    "result = texto.split()\n",
    "print(result)"
   ]
  },
  {
   "cell_type": "code",
   "execution_count": null,
   "metadata": {},
   "outputs": [],
   "source": [
    "# EJERCICIO 8... MÉTODO \" \".join()... Une los elementos en un solo string... Una sola cadena...\n",
    "a = \"Aprender\"\n",
    "b = \"Python\"\n",
    "c = \"Es\"\n",
    "d = \"Genial...\" \n",
    "e = \" \".join([a,b,c,d])\n",
    "print(e)"
   ]
  },
  {
   "cell_type": "code",
   "execution_count": null,
   "metadata": {},
   "outputs": [],
   "source": [
    "# EJERCICIO 9...  MÉTODO find()...(-1 / si no lo encuentra) Busca un determinado caracter dentro de mi string... Devuelve el indice del caracter... \n",
    "\n",
    "texto = \"Este es el texto de Michael\"\n",
    "result = texto.find(\"t\")\n",
    "print(result)\n",
    "\n",
    "texto = \"Este es el texto de Michael\"\n",
    "result = texto.find(\"z\")\n",
    "print(result)"
   ]
  },
  {
   "cell_type": "code",
   "execution_count": null,
   "metadata": {},
   "outputs": [],
   "source": [
    "# EJERCICIO 10...  MÉTODO replace(old, new)... Reemplaza un caracter por otro..\n",
    "\n",
    "texto = \"Este es el texto de Michael\"\n",
    "result = texto.replace(\"Michael\", \"Linares\")\n",
    "print(result)\n",
    "\n",
    "texto = \"Este es el texto de Michael\"\n",
    "result = texto.replace(\"e\", \"x\")\n",
    "print(result)"
   ]
  },
  {
   "cell_type": "markdown",
   "metadata": {},
   "source": []
  }
 ],
 "metadata": {
  "kernelspec": {
   "display_name": "Python 3",
   "language": "python",
   "name": "python3"
  },
  "language_info": {
   "codemirror_mode": {
    "name": "ipython",
    "version": 3
   },
   "file_extension": ".py",
   "mimetype": "text/x-python",
   "name": "python",
   "nbconvert_exporter": "python",
   "pygments_lexer": "ipython3",
   "version": "3.11.4"
  },
  "orig_nbformat": 4
 },
 "nbformat": 4,
 "nbformat_minor": 2
}
