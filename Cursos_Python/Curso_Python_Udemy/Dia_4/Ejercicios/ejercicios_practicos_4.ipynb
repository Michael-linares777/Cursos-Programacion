{
 "cells": [
  {
   "cell_type": "markdown",
   "metadata": {},
   "source": [
    "=> EJERCICIOS PRACTICOS DÍA 4...\n"
   ]
  },
  {
   "cell_type": "markdown",
   "metadata": {},
   "source": [
    "=> EJERCICIOS... /  PRÁCTICA DE OPERADORES DE COMPARACIÓN..."
   ]
  },
  {
   "cell_type": "code",
   "execution_count": 1,
   "metadata": {},
   "outputs": [
    {
     "name": "stdout",
     "output_type": "stream",
     "text": [
      "True\n"
     ]
    }
   ],
   "source": [
    "# EJERCICIO 1. Práctica Operadores de Comparación 1...\n",
    "# Crea dos variables (num1 y  num2) con los valores 36 y 17 respectivamente.\n",
    "# Verifica si num1 es mayor o igual que num2 y almacena el resultado de dicha comparación en una variable llamada mi_bool\n",
    "\n",
    "num1 = 36\n",
    "num2 = 17\n",
    "mi_bool = num1 >= num2\n",
    "print(mi_bool)"
   ]
  },
  {
   "cell_type": "code",
   "execution_count": null,
   "metadata": {},
   "outputs": [],
   "source": [
    "# EJERCICIO 2.  Práctica Operadores de Comparación 2...\n",
    "# Crea dos variables (num1 y  num2):\n",
    "# Dentro de num1, almacena el resultado de la operación raíz cuadrada de 25\n",
    "# Dentro de num2, almacena el número 5.\n",
    "# Verifica si num1 es igual a num2 y almacena el resultado de dicha comparación en una variable llamada mi_bool.\n",
    "\n",
    "num1 = (25 ** 0.5)\n",
    "num2 = (5)\n",
    "mi_bool = num1 == num2 \n",
    "print(mi_bool)"
   ]
  },
  {
   "cell_type": "code",
   "execution_count": null,
   "metadata": {},
   "outputs": [],
   "source": [
    "# EJERCICIO 3. Práctica Operadores de Comparación 3...\n",
    "# Crea dos variables (num1 y  num2):\n",
    "# Dentro de num1, almacena el resultado de la operación 64 x 3\n",
    "# Dentro de num2, almacena el resultado de la operación 24 x 8\n",
    "# Verifica si num1 es diferente a num2 y almacena el resultado de dicha comparación en una variable llamada mi_bool.\n",
    "\n",
    "num1 = (64 * 3)\n",
    "num2 = (24 * 8)\n",
    "mi_bool = num1 != num2\n",
    "print(mi_bool)"
   ]
  },
  {
   "cell_type": "markdown",
   "metadata": {},
   "source": [
    "=> EJERCICIOS / PRÁCTICA DE OPERADORES LÓGICOS..."
   ]
  },
  {
   "cell_type": "code",
   "execution_count": null,
   "metadata": {},
   "outputs": [],
   "source": [
    "# EJERCICIO 4. Práctica Operadores Lógicos 1... \n",
    "# Crea tres variables (num1 ,  num2 y num3):\n",
    "# Dentro de num1, almacena el valor 36\n",
    "# Dentro de num2, almacena el resultado de la operación 72/2\n",
    "# Dentro de num3, almacena el valor 48\n",
    "# Verifica si num1 es mayor que num2, y menor que num3. Almacena el resultado de dicha comparación en una variable\n",
    "# llamada mi_bool.\n",
    "\n",
    "num1 = 36\n",
    "num2 = (72 / 2)\n",
    "num3 = 48\n",
    "mi_bool = (num1 > num2) and (num1 < num3)\n",
    "print(mi_bool)"
   ]
  },
  {
   "cell_type": "code",
   "execution_count": null,
   "metadata": {},
   "outputs": [],
   "source": [
    "# EJERCICIO 5. Práctica Operadores Lógicos 2...\n",
    "# Crea tres variables (num1 ,  num2 y num3):\n",
    "# Dentro de num1, almacena el valor 36\n",
    "# Dentro de num2, almacena el resultado de la operación 72/2\n",
    "# Dentro de num3, almacena el valor 48\n",
    "# Verifica si num1 es mayor que num2, o menor que num3. Almacena el resultado de dicha comparación en una variable\n",
    "# llamada mi_bool.\n",
    "\n",
    "num1 = 36\n",
    "num2 = (72 / 2)\n",
    "num3 = 48\n",
    "mi_bool = (num1 > num2) or (num1 < num3)\n",
    "print(mi_bool)"
   ]
  },
  {
   "cell_type": "code",
   "execution_count": null,
   "metadata": {},
   "outputs": [],
   "source": [
    "# EJERCICIO 6. Práctica Operadores Lógicos 3...\n",
    "# Verifica si las palabras almacenadas en las siguientes variables:\n",
    "# palabra1 = \"éxito\", y\n",
    "# palabra2 = \"tecnología\"\n",
    "# no se encuentran en la frase a continuación, y almacena el resultado de esta comprobación (un booleano) en una variable\n",
    "# llamada mi_bool:\n",
    "\n",
    "frase = \"Cuando algo es lo suficientemente importante, lo haces incluso si las probabilidades de que salga bien no te acompañan\"\n",
    "palabra1 = \"éxito\"\n",
    "palabra2 = \"tecnología\"\n",
    "\n",
    "mi_bool = (palabra1 not in frase) and (palabra2 not in frase)\n",
    "print(mi_bool)\n"
   ]
  },
  {
   "cell_type": "markdown",
   "metadata": {},
   "source": [
    "=> EJERCICIOS / PRACTICA CONTROL DE FLUJO... "
   ]
  },
  {
   "cell_type": "code",
   "execution_count": null,
   "metadata": {},
   "outputs": [],
   "source": [
    "# EJERCICIO 7. Práctica Control de Flujo 1...\n",
    "# Utilizando las variables num1 y num2, que se alimentan con el input del usuario (tal como en el código ya proporcionado):\n",
    "# Crea una estructura de control de flujo que compare los valores de las variables, y arroje un resultado de acuerdo al caso:\n",
    "# \"num1 es mayor que num2\"\n",
    "# \"num2 es mayor que num1\"\n",
    "# \"num1 y num2 son iguales\"\n",
    "# Debes mostrar en pantalla el valor de las variables ingresadas en lugar de num1 y num2.\n",
    "\n",
    "num1 = int(input(\"Ingresa un número:\"))\n",
    "num2 = int(input(\"Ingresa otro número:\"))\n",
    "\n",
    "if num1 > num2:\n",
    "    print(f\"{num1} es mayor que {num2}\")\n",
    "elif num2 > num1:\n",
    "    print(f\"{num2} es mayor que {num1}\")\n",
    "else:\n",
    "    print(f\"{num1} y {num2} son iguales...\")\n",
    "    \n",
    "\n"
   ]
  },
  {
   "cell_type": "code",
   "execution_count": null,
   "metadata": {},
   "outputs": [],
   "source": [
    "# EJERCICIO 8. Práctica Control de Flujo 2...\n",
    "# Las leyes de un país establecen que un adulto puede conducir si tiene licencia para hacerlo, y para optar por una licencia\n",
    "# para conducir, debe de tener 18 años o más.\n",
    "# Crea una estructura condicional para verificar si una persona de 16 años sin licencia puede conducir, y muestra el resultado\n",
    "# que corresponda en pantalla:\n",
    "# \"Puedes conducir\"\n",
    "# \"No puedes conducir aún. Debes tener 18 años y contar con una licencia\"\n",
    "# \"No puedes conducir. Necesitas contar con una licencia\"\n",
    "# Utiliza la base de código ya proporcionada para plantear la estructura de control de flujo apropiada y verificar dichas\n",
    "# condiciones.\n",
    "\n",
    "edad = 16\n",
    "tiene_licencia = False\n",
    "\n",
    "if edad >= 18 and tiene_licencia:\n",
    "    print(\"Puedes conducir\")\n",
    "elif edad < 18:\n",
    "    print(\"No puedes conducir aún. Debes tener 18 años y contar con una licencia\")\n",
    "else: \n",
    "    print(\"No puedes conducir. Necesitas contar con una licencia\")\n",
    "    \n"
   ]
  },
  {
   "cell_type": "code",
   "execution_count": null,
   "metadata": {},
   "outputs": [],
   "source": [
    "# EJERCICIO 9. Práctica Control de Flujo 3...\n",
    "# Para acceder a un determinado puesto de trabajo, el candidato debe ser capaz de programar en Python y tener conocimientos\n",
    "# de inglés.\n",
    "# Crea una estructura condicional para evaluar a un candidato dadas estas condiciones, y muestra el mensaje correspondiente\n",
    "# en pantalla:\n",
    "# \"Cumples con los requisitos para postularte\"\n",
    "# \"Para postularte, necesitas saber programar en Python y tener conocimientos de inglés\"\n",
    "# \"Para postularte, necesitas tener conocimientos de inglés\"\n",
    "# \"Para postularte, necesitas saber programar en Python\"\n",
    "# Utiliza la base de código ya proporcionada para plantear la estructura de control de flujo apropiada y verificar dichas\n",
    "# condiciones. Evalúa a un candidato que sabe inglés, pero no programa en Python.\n",
    "\n",
    "habla_ingles = True\n",
    "sabe_python = False\n",
    "\n",
    "if habla_ingles and sabe_python:\n",
    "    print(\"Cumples con los requisitos para postularte\")\n",
    "elif  habla_ingles and sabe_python:\n",
    "    print(\"Para postularte, necesitas saber programar en Python y tener conocimientos de inglés\")\n",
    "elif habla_ingles and sabe_python:\n",
    "    print(\"Para postularte, necesitas tener conocimientos de inglés\")\n",
    "else:\n",
    "    print(\"Para postularte, necesitas saber programar en Python\")\n",
    "\n",
    "\n"
   ]
  },
  {
   "cell_type": "markdown",
   "metadata": {},
   "source": [
    "=> EJERCICIOS / PRÁCTICA LOOP FOR..."
   ]
  },
  {
   "cell_type": "code",
   "execution_count": null,
   "metadata": {},
   "outputs": [],
   "source": [
    "# EJERCICIO 10. Práctica Loop For 1...\n",
    "# Utilizando loops For, saluda a todos los miembros de una clase, imprimiendo \"Hola\" + su nombre.\n",
    "# Por ejemplo: \"Hola María\"\n",
    "\n",
    "alumnos_clase = [\"María\", \"José\", \"Carlos\", \"Martina\", \"Isabel\", \"Tomás\", \"Daniela\"]\n",
    "\n",
    "for alumno in alumnos_clase:\n",
    "    print(f'\"Hola {alumno}\"')"
   ]
  },
  {
   "cell_type": "code",
   "execution_count": null,
   "metadata": {},
   "outputs": [],
   "source": [
    "# EJERCICIO 11. Práctica Loop For 2...\n",
    "# Dada la siguiente lista de números, realiza la suma de todos los números utilizando loops For y almacena el resultado de la\n",
    "# suma en una variable llamada suma_numeros:\n",
    "\n",
    "lista_numeros = [1,5,8,7,6,8,2,5,2,6,4,8,5,9,8,3,5,4,2,5,6,4]\n",
    "cont = 0\n",
    "for numero in lista_numeros:\n",
    "    suma_numeros = cont = cont + numero\n",
    "print(suma_numeros) "
   ]
  },
  {
   "cell_type": "code",
   "execution_count": null,
   "metadata": {},
   "outputs": [],
   "source": [
    "# EJERCICIO 12. Práctica Loop For 3...\n",
    "# Dada la siguiente lista de números, realiza la suma de todos los números pares e impares* por separado en las variables\n",
    "# suma_pares y suma_impares respectivamente:\n",
    "# lista_numeros = [1,5,8,7,6,8,2,5,2,6,4,8,5,9,8,3,5,4,2,5,6,4]\n",
    "\n",
    "# *Recordando de los días anteriores: el módulo (o resto) de un número dividido 2 es cero cuando dicho valor es par, y 1\n",
    "# cuando es impar...\n",
    "# num % 2 == 0 (valores pares)\n",
    "# num % 2 == 1 (valores impares)\n",
    "\n",
    "\n",
    "lista_numeros = [1,5,8,7,6,8,2,5,2,6,4,8,5,9,8,3,5,4,2,5,6,4]\n",
    "suma_pares = []\n",
    "suma_impares = []\n",
    "\n",
    "for num in lista_numeros:\n",
    "    if num % 2 == 0:\n",
    "        suma_pares.append(num)\n",
    "        cont = 0 \n",
    "        for num in suma_pares:\n",
    "            suma_num_pares = cont = cont + num\n",
    "    else:\n",
    "        cont = 0\n",
    "        suma_impares.append(num)\n",
    "        for num in suma_impares:\n",
    "            suma_num_impares = cont = cont + num\n",
    "        \n",
    "print(f\"La suma de los números pares es: {suma_num_pares}\")\n",
    "print(f\"La suma de los números impares es: {suma_num_impares}\")\n",
    "        "
   ]
  },
  {
   "cell_type": "code",
   "execution_count": null,
   "metadata": {},
   "outputs": [],
   "source": [
    "# EJERCICIO 12.1.  Práctica Loop For 3...\n",
    "# Dada la siguiente lista de números, realiza la suma de todos los números pares e impares* por separado en las variables\n",
    "# suma_pares y suma_impares respectivamente:\n",
    "# lista_numeros = [1,5,8,7,6,8,2,5,2,6,4,8,5,9,8,3,5,4,2,5,6,4]\n",
    "\n",
    "# *Recordando de los días anteriores: el módulo (o resto) de un número dividido 2 es cero cuando dicho valor es par, y 1\n",
    "# cuando es impar...\n",
    "# num % 2 == 0 (valores pares)\n",
    "# num % 2 == 1 (valores impares)\n",
    "\n",
    "\n",
    "lista_numeros = [1, 5, 8, 7, 6, 8, 2, 5, 2, 6, 4, 8, 5, 9, 8, 3, 5, 4, 2, 5, 6, 4]\n",
    "suma_pares = 0\n",
    "suma_impares = 0\n",
    "\n",
    "for num in lista_numeros:\n",
    "    if num % 2 == 0:\n",
    "        suma_pares += num\n",
    "    else:\n",
    "        suma_impares += num\n",
    "\n",
    "print(f\"La suma de los números pares es: {suma_pares}\")\n",
    "print(f\"La suma de los números impares es: {suma_impares}\")\n"
   ]
  },
  {
   "cell_type": "markdown",
   "metadata": {},
   "source": [
    "=> EJERCICIOS / PRACTICA LOOP WHILE..."
   ]
  },
  {
   "cell_type": "code",
   "execution_count": null,
   "metadata": {},
   "outputs": [],
   "source": [
    "# EJERCICIO 13.  Práctica Loop While 1...\n",
    "# Crea un Loop While que se imprima en pantalla los números del 10 al 0, uno a la vez.\n",
    "\n",
    "numero = 10\n",
    "\n",
    "while numero >= 0:\n",
    "     print(numero)\n",
    "     numero -= 1"
   ]
  },
  {
   "cell_type": "code",
   "execution_count": null,
   "metadata": {},
   "outputs": [],
   "source": [
    "# EJERCICIO 14.  Práctica Loop While 2...\n",
    "# Crea un Loop While que reste de uno en uno los números desde el 50 al 0 (ambos números incluídos) con las siguientes\n",
    "# condiciones adicionales:\n",
    "# - Si el número es divisible por 5, mostrar dicho número en pantalla (¡recuerda que aquí puedes utilizar la operación módulo\n",
    "#   dividiendo por 5 y verificando el resto!)..\n",
    "# - Si el número no es divisible por 5, continuar ejecutando el loop sin mostrar el valor en pantalla (no te olvides de seguir\n",
    "#   restando para que el programa no corra infinitamente).\n",
    "\n",
    "\n",
    "numero = 50\n",
    "\n",
    "while numero > 0:\n",
    "    if numero % 5 == 0:\n",
    "        print(numero)\n",
    "    numero -= 1\n",
    "else: \n",
    "    print(numero)\n"
   ]
  },
  {
   "cell_type": "code",
   "execution_count": null,
   "metadata": {},
   "outputs": [],
   "source": [
    "# EJERCICIO 15. Práctica Interrupción de Flujo ... \n",
    "# Crea un loop For a lo largo de la siguiente lista de números, imprimiendo en pantalla cada uno de sus elementos, e interrumpe\n",
    "# el flujo en el momento que encuentres un valor negativo:\n",
    "\n",
    "\n",
    "lista_numeros = [4,5,8,7,6,9,8,2,4,5,7,1,9,5,6,-1,-5,6,-6,-4,-3]\n",
    "\n",
    "for num in lista_numeros:\n",
    "    if num >= 0:\n",
    "        print(num)\n",
    "    else:\n",
    "        break\n",
    "        "
   ]
  },
  {
   "cell_type": "markdown",
   "metadata": {},
   "source": [
    "=> EJERCICIOS / PRÁCTICA RANGO..."
   ]
  },
  {
   "cell_type": "code",
   "execution_count": null,
   "metadata": {},
   "outputs": [],
   "source": [
    "# EJERCICIO 16.  Práctica Rango 1...\n",
    "# Crea una lista formada por todos los números desde el 2500 al 2585 (inclusive). Almacena dicha lista en la variable mi_lista.\n",
    "\n",
    "mi_lista = list(range(2500, 2586))\n",
    "print(mi_lista)\n"
   ]
  },
  {
   "cell_type": "code",
   "execution_count": null,
   "metadata": {},
   "outputs": [],
   "source": [
    "# EJERCICIO 17.  Práctica Rango 2...\n",
    "# Utilizando la función range(), crea en una única linea de código una lista formada por todos los números múltiplos de 3 \n",
    "# desde el 3 al 300 (inclusive). Almacena dicha lista en la variable mi_lista.\n",
    "\n",
    "mi_lista = list(range(3, 301, 3))\n",
    "print(mi_lista)"
   ]
  },
  {
   "cell_type": "code",
   "execution_count": null,
   "metadata": {},
   "outputs": [],
   "source": [
    "# EJERCICIO 18.  Práctica Rango 3...\n",
    "# Utiliza la función range() y un loop para sumar los cuadrados de todos los números del 1 al 15 (inclusive). \n",
    "# Almacena el resultado en una variable llamada suma_cuadrados.\n",
    "# Para ello:\n",
    "# Crea un rango de valores que puedas recorrer en un loop\n",
    "# Para cada uno de estos valores, calcula su valor al cuadrado (potencia de 2). Puede que necesites crear variables\n",
    "# intermedias (de manera opcional).\n",
    "# Suma todos los valores al cuadrado obtenidos. Acumula la suma en la variable suma_cuadrados.\n",
    "\n",
    "suma_cuadrados = 0\n",
    "\n",
    "mi_lista =list(range(1, 16))\n",
    "\n",
    "for num in mi_lista:\n",
    "    num_cuadrado = num ** 2\n",
    "    suma_cuadrados += num_cuadrado\n",
    "print(f\"La suma de los cuadrados de la lista de números es: {suma_cuadrados}\")\n",
    "    \n",
    "    \n",
    "    \n",
    "    \n",
    "    \n",
    "        \n"
   ]
  },
  {
   "cell_type": "markdown",
   "metadata": {},
   "source": [
    "=> EJERCICICIOS / PRÁCTICA ENUMERATE..."
   ]
  },
  {
   "cell_type": "code",
   "execution_count": null,
   "metadata": {},
   "outputs": [],
   "source": [
    "# EJERCICIO 19.  Práctica Enumerador 1...\n",
    "# Imprime en pantalla frases como la siguiente:\n",
    "# '{nombre} se encuentra en el índice {indice}'\n",
    "# Donde nombre debe ser cada uno de los nombres de la lista a continuación, y el índice, obtenido mediante enumerate().\n",
    "# lista_nombres = [\"Marcos\", \"Laura\", \"Mónica\", \"Javier\", \"Celina\", \"Marta\", \"Darío\", \"Emiliano\", \"Melisa\"]\n",
    "# Puedes modificar la línea print() otorgada como ejemplo, pero las frases entregadas deberán ser iguales.\n",
    "# Tip: utiliza loops!\n",
    "\n",
    "lista_nombres = [\"Marcos\", \"Laura\", \"Mónica\", \"Javier\", \"Celina\", \"Marta\", \"Darío\", \"Emiliano\", \"Melisa\"]\n",
    "\n",
    "for indice, nombre in enumerate(lista_nombres):\n",
    "    print(f\"{nombre} se encuentra en el índice {indice}\")\n"
   ]
  },
  {
   "cell_type": "code",
   "execution_count": null,
   "metadata": {},
   "outputs": [],
   "source": [
    "# EJERCICIO 20. Práctica Enumerador 2...\n",
    "# Crea una lista formada por las tuplas (indice, elemento), formadas a partir de obtener mediante enumerate() los índices\n",
    "# de cada caracter del string \"Python\".\n",
    "# Llama a la lista obtenida con el nombre de variable lista_indices .\n",
    "\n",
    "\"Python\"\n",
    "lista = list(\"Python\")\n",
    "\n",
    "lista_tuplas = []\n",
    "\n",
    "for item in enumerate(lista):\n",
    "    lista_tuplas.append(item)\n",
    "print(lista_tuplas)"
   ]
  },
  {
   "cell_type": "code",
   "execution_count": null,
   "metadata": {},
   "outputs": [],
   "source": [
    "# EJERCICIO 20.1.  Práctica Enumerador 2...\n",
    "# Crea una lista formada por las tuplas (indice, elemento), formadas a partir de obtener mediante enumerate() los índices\n",
    "# de cada caracter del string \"Python\".\n",
    "# Llama a la lista obtenida con el nombre de variable lista_indices .\n",
    "\n",
    "\"Python\"\n",
    "lista_indices = list(enumerate(\"Python\"))\n",
    "print(lista_indices)\n"
   ]
  },
  {
   "cell_type": "code",
   "execution_count": null,
   "metadata": {},
   "outputs": [],
   "source": [
    "# EJERCICIO 21. Práctica Enumerador 3...\n",
    "# Imprime en pantalla únicamente los índices de aquellos nombres de la lista a continuación, que empiecen con M:\n",
    "\n",
    "# Puedes resolverlo de diferentes maneras, pero servirá que tengas presente todos o algunos de los siguientes elementos:\n",
    "# Loops / Condicionales if / El método enumerate() / Métodos de strings o indexado \n",
    "\n",
    "lista_nombres = [\"Marcos\", \"Laura\", \"Mónica\", \"Javier\", \"Celina\", \"Marta\", \"Darío\", \"Emiliano\", \"Melisa\"]\n",
    "\n",
    "nombres = list(enumerate(lista_nombres))\n",
    "for indice, nombre in nombres:\n",
    "    if nombre[0] == \"M\":\n",
    "        print(indice)"
   ]
  },
  {
   "cell_type": "markdown",
   "metadata": {},
   "source": [
    "=> EJERCICIOS / PRACTICA ZIP...\n"
   ]
  },
  {
   "cell_type": "code",
   "execution_count": null,
   "metadata": {},
   "outputs": [],
   "source": [
    "# EJERCICIO 22. Práctica Zip 1...\n",
    "\n",
    "# Muestra en pantalla frases como la del siguiente ejemplo:\n",
    "\n",
    "# La capital de Alemania es Berlín\n",
    "# Utiliza la función zip, loops, y las siguientes listas de países y capitales para resolverlo rápida y eficientemente.\n",
    "\n",
    "capitales = [\"Berlín\", \"Tokio\", \"París\", \"Helsinki\", \"Ottawa\", \"Canberra\"]\n",
    "paises = [\"Alemania\", \"Japón\", \"Francia\", \"Finlandia\", \"Canadá\", \"Australia\"]\n",
    "\n",
    "combinados = list(zip(capitales, paises ))\n",
    "\n",
    "for capital, pais in combinados:\n",
    "    print(f\"La capital de {pais} es: {capital}...\")"
   ]
  },
  {
   "cell_type": "code",
   "execution_count": null,
   "metadata": {},
   "outputs": [],
   "source": [
    "# EJERCICIO 23. Práctica Zip 2...\n",
    "# Crea un objeto zip formado a partir de listas, de un conjunto de marcas y productos que tú prefieras, dentro\n",
    "# de la variable mi_zip.\n",
    "\n",
    "marcas = [\"Mazda\", \"BMW\", \"Renoutl\", \"Ferrari\"]\n",
    "productos = [\"camisas\", \"shorts\", \"pantalones\", \"Medias\"]\n",
    "\n",
    "mi_zip = zip(marcas, productos)\n",
    "print(type(mi_zip))"
   ]
  },
  {
   "cell_type": "code",
   "execution_count": null,
   "metadata": {},
   "outputs": [],
   "source": [
    "# EJERCICIO 24. Práctica Zip 3...\n",
    "# Crea el zip con las traducciones los números del 1 al 5 en español, portugués e inglés (en el mismo orden), y convierte \n",
    "# el objeto generado en una lista almacenada en la variable numeros:\n",
    "\n",
    "# uno / um / one\n",
    "# dos / dois / two\n",
    "# tres / três / three\n",
    "# cuatro / quatro / four\n",
    "# cinco / cinco / five\n",
    "\n",
    "num = [\"uno\", \"dos\", \"tres\", \"cuatro\", \"cinco\"]\n",
    "por = [\"um\", \"dois\", \"três\", \"quatro\", \"cinco\"]\n",
    "ing = [\"one\", \"two\", \"three\", \"four\", \"five\"]\n",
    "\n",
    "numeros = list(zip(num, por, ing))\n",
    "print(numeros)"
   ]
  },
  {
   "cell_type": "markdown",
   "metadata": {},
   "source": [
    "=> EJERCICIOS / PRÁCTICA Min & Max..."
   ]
  },
  {
   "cell_type": "code",
   "execution_count": null,
   "metadata": {},
   "outputs": [],
   "source": [
    "# EJERCICIO 25. Práctica Min y Max 1...\n",
    "# Obtén el valor máximo entre los valores de la siguiente lista, y almacénalo en una variable llamada valor_maximo:\n",
    "\n",
    "lista_numeros = [44542247/2, 21310/5, 2134747*33, 44556475, 121676, 6654067, 353254, 123134, 55**12, 611**5]\n",
    "valor_maximo = max(lista_numeros)\n",
    "print(f\"El valor máximo de la lista es: {valor_maximo}\")\n"
   ]
  },
  {
   "cell_type": "code",
   "execution_count": null,
   "metadata": {},
   "outputs": [],
   "source": [
    "# EJERCICIO 26. Práctica Min y Max 2...\n",
    "# Calcula la diferencia entre el valor máximo y el mínimo en la siguiente lista de números, y almacénalo en una\n",
    "# variable llamada rango:\n",
    "\n",
    "lista_numeros = [44542247, 21310, 2134747, 44556475, 121676, 6654067, 353254, 123134, 552512, 611665]\n",
    "\n",
    "maximo = max(lista_numeros)\n",
    "minimo = min(lista_numeros)\n",
    "\n",
    "rango = maximo - minimo\n",
    "print(rango)"
   ]
  },
  {
   "cell_type": "code",
   "execution_count": null,
   "metadata": {},
   "outputs": [],
   "source": [
    "# EJERCICIO 27. Práctica Min y Max 3...\n",
    "# Utilizando max(), min() y métodos de diccionarios, obtén el mínimo valor a partir del siguiente diccionario:\n",
    "# Almacena dicho valor en una variable llamada edad_minima.\n",
    "# También, obtén el nombre que se ubica último en orden alfabético, y almacénalo en una variable llamada ultimo_nombre.\n",
    "\n",
    "diccionario_edades = {\"Carlos\":55, \"María\":42, \"Mabel\":78, \"José\":44, \"Lucas\":24, \"Rocío\":35, \"Sebastián\":19, \"Catalina\":2,\"Darío\":49}\n",
    "\n",
    "edad_minima = min(diccionario_edades.values())\n",
    "print(edad_minima)\n",
    "\n",
    "ultimo_nombre = max(diccionario_edades)\n",
    "print(ultimo_nombre)"
   ]
  },
  {
   "cell_type": "markdown",
   "metadata": {},
   "source": [
    "=> EJERCICIOS / PRÁCTICA RANDOM..."
   ]
  },
  {
   "cell_type": "code",
   "execution_count": null,
   "metadata": {},
   "outputs": [],
   "source": [
    "# EJERCICIO 28. Práctica Random 1... \n",
    "# Implementa la función randint() de la librería random que te permita obtener un número entero del 1 al 10, y\n",
    "# almacena dicho valor en una variable llamada aleatorio.\n",
    "\n",
    "from random import randint\n",
    "\n",
    "aleatorio = randint(1, 11)\n",
    "print(aleatorio)"
   ]
  },
  {
   "cell_type": "code",
   "execution_count": null,
   "metadata": {},
   "outputs": [],
   "source": [
    "# EJERCICIO 29. Práctica Random 2...\n",
    "# Implementa la función random() de la librería random que te permita obtener un número decimal entre 0 y 1, y\n",
    "# almacena dicho valor en una variable llamada aleatorio.\n",
    "\n",
    "from random import random\n",
    "\n",
    "aleatorio = random()\n",
    "print(aleatorio)"
   ]
  },
  {
   "cell_type": "code",
   "execution_count": null,
   "metadata": {},
   "outputs": [],
   "source": [
    "# EJERCICIO 30. Práctica Random 3...\n",
    "# Utiliza el método choice() de la librería random para obtener un elemento al azar de la lista de nombres a continuación, y\n",
    "# almacena el nombre escogido en una variable llamada sorteo.\n",
    "\n",
    "from random import choice\n",
    "\n",
    "nombres = [\"Carlos\", \"Julia\", \"Nicole\", \"Laura\", \"Mailen\"]\n",
    "\n",
    "sorteo = choice(nombres)\n",
    "print(sorteo)"
   ]
  },
  {
   "cell_type": "markdown",
   "metadata": {},
   "source": [
    "=> EJERCICIOS / COMPRENSIÓN DE LISTAS..."
   ]
  },
  {
   "cell_type": "code",
   "execution_count": null,
   "metadata": {},
   "outputs": [],
   "source": [
    "# EJERCICIO 31. Práctica Comprensión de Listas 1...\n",
    "# Para realizar el ejercicio a continuación, puedes optar por diferentes caminos. Si bien en programación el camino correcto es\n",
    "# el que devuelve el resultado correcto, te animo a que intentes aplicar los conceptos de comprensión de listas para comenzar\n",
    "# a afianzarlos para el futuro. ¡Pueden resultarte muy útiles en tu práctica profesional!\n",
    "\n",
    "# Crea una lista \"valores_cuadrado\" formada por los números de la lista valores, elevados al cuadrado.\n",
    "\n",
    "valores = [1, 2, 3, 4, 5, 6, 9.5]\n"
   ]
  },
  {
   "cell_type": "code",
   "execution_count": null,
   "metadata": {},
   "outputs": [],
   "source": [
    "# EJERCICIO 32. Práctica Comprensión de Listas 2...\n",
    "# Para realizar el ejercicio a continuación, puedes optar por diferentes caminos. Si bien en programación el camino correcto es\n",
    "# el que devuelve el resultado correcto, te animo a que intentes aplicar los conceptos de comprensión de listas para comenzar\n",
    "# a afianzarlos para el futuro. ¡Pueden resultarte muy útiles en tu práctica profesional!\n",
    "\n",
    "# Crea una lista valores_pares formada por los números de la lista valores que (¡adivinaste!) sean pares.\n",
    "\n",
    "valores = [1, 2, 3, 4, 5, 6, 9.5]\n"
   ]
  },
  {
   "cell_type": "code",
   "execution_count": null,
   "metadata": {},
   "outputs": [],
   "source": [
    "# EJERCICIO 33. Práctica Comprensión de Listas 3...\n",
    "# Para realizar el ejercicio a continuación, puedes optar por diferentes caminos. Si bien en programación el camino correcto\n",
    "# es el que devuelve el resultado correcto, te animo a que intentes aplicar los conceptos de comprensión de listas para\n",
    "# comenzar a afianzarlos para el futuro. ¡Pueden resultarte muy útiles en tu práctica profesional!\n",
    "\n",
    "# Para la siguiente lista de temperaturas en grados Fahrenheit, expresa estos mismos valores en una nueva lista de valores\n",
    "# de temperatura en grados Celsius. La conversión entre tipo de unidades es la siguiente:\n",
    "# °C = (°F - 32) * (5/9) / o expresado de otro modo: (grados_fahrenheit-32)*(5/9)\n",
    "\n",
    "# La lista de temperaturas es la siguiente:\n",
    "# temperatura_fahrenheit = [32, 212, 275] \n",
    "# Almacena esta nueva lista en una variable llamada grados_celsius\n",
    "\n",
    "temperatura_fahrenheit = [32, 212, 275]"
   ]
  }
 ],
 "metadata": {
  "kernelspec": {
   "display_name": "base",
   "language": "python",
   "name": "python3"
  },
  "language_info": {
   "codemirror_mode": {
    "name": "ipython",
    "version": 3
   },
   "file_extension": ".py",
   "mimetype": "text/x-python",
   "name": "python",
   "nbconvert_exporter": "python",
   "pygments_lexer": "ipython3",
   "version": "3.11.4"
  },
  "orig_nbformat": 4
 },
 "nbformat": 4,
 "nbformat_minor": 2
}
