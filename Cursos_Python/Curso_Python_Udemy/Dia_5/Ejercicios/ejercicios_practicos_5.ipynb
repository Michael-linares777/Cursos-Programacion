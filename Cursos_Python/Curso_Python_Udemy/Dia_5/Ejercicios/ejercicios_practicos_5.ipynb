{
 "cells": [
  {
   "cell_type": "markdown",
   "metadata": {},
   "source": [
    "=> EJERCICIOS PRACTICOS... DÍA 5..."
   ]
  },
  {
   "cell_type": "markdown",
   "metadata": {},
   "source": [
    "=> EJERCICIOS / PRÁCTICA MÉTODOS & AYUDA...\n"
   ]
  },
  {
   "cell_type": "code",
   "execution_count": null,
   "metadata": {},
   "outputs": [],
   "source": [
    "# EJERCICIO 1. Práctica Métodos y Ayuda 1...\n",
    "# Remueve los caracteres a la izquierda de nuestro texto principal:  (,) / (:) / (%) / (_) / (#)\n",
    "# Utiliza el método lstrip(). Imprime el resultado en pantalla:\n",
    "# \",:_#,,,,,,:::____##Pyt%on_ _Total,,,,,,::#\"\n",
    "# Busca en la documentación acerca del funcionamiento del método solicitado para saber cómo actúa.\n",
    "# Puedes utilizar variables intermedias si las necesitas.\n",
    "\n",
    "cadena = \",:_#,,,,,,:::____##Pyt%on_ _Total,,,,,,::#\"\n",
    "nueva_cadena = cadena.lstrip(\",:%_#\")\n",
    "print(nueva_cadena)\n"
   ]
  },
  {
   "cell_type": "code",
   "execution_count": null,
   "metadata": {},
   "outputs": [],
   "source": [
    "# EJERCICIO 2.  Práctica Métodos y Ayuda 2...\n",
    "# Añade el elemento \"naranja\" como el cuarto elemento de la siguiente lista \"frutas\", utilizando el método insert():\n",
    "# Busca en la documentación acerca del funcionamiento del método solicitado para saber cómo actúa y cómo es su funcionamiento.\n",
    "\n",
    "frutas = [\"mango\", \"banana\", \"cereza\", \"ciruela\", \"pomelo\"]\n",
    "frutas.insert(3, \"naranja\")\n",
    "print(frutas)"
   ]
  },
  {
   "cell_type": "code",
   "execution_count": null,
   "metadata": {},
   "outputs": [],
   "source": [
    "# EJERCICIO 3.  Práctica Métodos y Ayuda 3...\n",
    "# Verifica si los sets a continuación forman conjuntos aislados (es decir, que no tienen elementos en común), utilizando\n",
    "# el método isdisjoint().\n",
    "# Almacena dicho resultado en la variable conjuntos_aislados:\n",
    "\n",
    "marcas_smartphones = {\"Samsung\", \"Xiaomi\", \"Apple\", \"Huawei\", \"LG\"}\n",
    "\n",
    "marcas_tv = {\"Sony\", \"Philips\", \"Samsung\", \"LG\"}\n",
    "\n",
    "conjuntos_aislados = marcas_smartphones.isdisjoint(marcas_tv)\n",
    "\n",
    "print(conjuntos_aislados)\n"
   ]
  },
  {
   "cell_type": "markdown",
   "metadata": {},
   "source": [
    "=> EJERCICIOS / FUNCIONES..."
   ]
  },
  {
   "cell_type": "code",
   "execution_count": null,
   "metadata": {},
   "outputs": [],
   "source": [
    "# EJERCICIO 4.  Práctica Crear Funciones 1...\n",
    "# Declara una función llamada saludar, que cada vez que sea llamada imprima en pantalla \"¡Hola mundo!\"\n",
    "# Solo debes definir la función, no debes invocarla luego.\n",
    "\n",
    "def saludar():\n",
    "    print(\"¡Hola mundo!\")\n",
    "    \n",
    "saludar()"
   ]
  },
  {
   "cell_type": "code",
   "execution_count": null,
   "metadata": {},
   "outputs": [],
   "source": [
    "# EJERCICIO 5.  Práctica Crear Funciones 2...\n",
    "# Declara una función llamada bienvenida, que tome como argumento el nombre de una persona, y que cada vez que sea llamada\n",
    "# imprima en pantalla \"¡Bienvenido {nombre_persona}!\"\n",
    "# Crea la variable nombre_persona, y almacena dentro de la misma el nombre que prefieras.\n",
    "# Solo debes definir la función y crear la variable, no debes invocar la función luego.\n",
    "\n",
    "def bienvenida(nombre_persona):\n",
    "    print(f\"¡Bienvenido {nombre_persona}!\")\n",
    "    \n",
    "nombre_persona = \"Michael\"\n",
    "bienvenida(nombre_persona)"
   ]
  },
  {
   "cell_type": "code",
   "execution_count": null,
   "metadata": {},
   "outputs": [],
   "source": [
    "# EJERCICIO 6. Práctica Crear Funciones 3...\n",
    "# Declara una función llamada cuadrado, que tome como argumento un número cualquiera, y que cada vez que sea llamada, \n",
    "# imprima en pantalla el cuadrado de dicho número (es decir, la potencia 2 del valor).\n",
    "# El nombre del argumento que debe tomar dicha función es un_numero. Crea dicha variable y asígnale un número cualquiera.\n",
    "\n",
    "\n",
    "def cuadrado(num):\n",
    "    potencia = (num ** 2)\n",
    "    print(potencia)\n",
    "    \n",
    "un_numero = 7\n",
    "cuadrado(un_numero)"
   ]
  },
  {
   "cell_type": "markdown",
   "metadata": {},
   "source": [
    "=> EJERCICIOS / RETURN"
   ]
  },
  {
   "cell_type": "code",
   "execution_count": null,
   "metadata": {},
   "outputs": [],
   "source": [
    "# EJERCICIO 7.  Práctica Return 1...\n",
    "# Crea una función llamada potencia que tome dos valores numéricos como argumentos. Deberá devolver el número que resulte\n",
    "# de resolver una potencia, utilizando el primer número como base, y el segundo como exponente:\n",
    "\n",
    "def potencia(num1, num2):\n",
    "    result = (num1 ** num2)\n",
    "    return result\n",
    "\n",
    "print(potencia(1,2))"
   ]
  },
  {
   "cell_type": "code",
   "execution_count": null,
   "metadata": {},
   "outputs": [],
   "source": [
    "# EJERCICIO 8.  Práctica Return 2...\n",
    "# Crea una función llamada usd_a_eur que tome como único parámetro un valor numérico (un monto en dólares estadounidenses),\n",
    "# y devuelva como resultado el monto equivalente en euros. A fines de este ejemplo, tomaremos la conversión 1 USD = 0.90 EUR.\n",
    "# Crea una variable llamada dolares y almacena en ella un monto cualquiera para entregárselo a tu función y evaluar su resultado.\n",
    "# Pista: para realizar la conversión, la función internamente debe multiplicar este valor en dólares por 0.90 para obtener el\n",
    "# monto equivalente en euros.\n",
    "\n",
    "dolares = 5\n",
    "def usd_a_eur(dolares):\n",
    "    conversion = dolares * 0.90\n",
    "    return conversion\n",
    "\n",
    "print(usd_a_eur(dolares))"
   ]
  },
  {
   "cell_type": "code",
   "execution_count": null,
   "metadata": {},
   "outputs": [],
   "source": [
    "# EJERCICIO 9. Práctica Return 3...\n",
    "# Crea una función llamada invertir_palabra que tome los caracteres de una palabra dada como argumento, invierta el orden\n",
    "# de sus caracteres y los devuelva de ese modo y en mayúsculas.\n",
    "# Por ejemplo, si le proporcionamos la palabra \"Python\", deberá devolver: \"NOHTYP\"\n",
    "# También, deberás crear una variable llamada palabra, que contenga el string que tú prefieras, para sumisitrarle como\n",
    "# argumento a la función creada.\n",
    "# Pista: dentro de la función creada, deberás utilizar métodos de strings ya vistos.\n",
    "\n",
    "palabra = \"michael\"\n",
    "def invertir_palabra(palabra):\n",
    "    invertir = palabra[::-1]\n",
    "    mayuscula = invertir.upper()\n",
    "    return mayuscula\n",
    "\n",
    "print(invertir_palabra(palabra))"
   ]
  },
  {
   "cell_type": "markdown",
   "metadata": {},
   "source": [
    "=> EJERCICIOS / FUNCIONES DINÁMICAS..."
   ]
  },
  {
   "cell_type": "code",
   "execution_count": null,
   "metadata": {},
   "outputs": [],
   "source": [
    "# EJERCICIO 10.  Práctica Funciones Dinámicas 1...\n",
    "# Crea una función (todos_positivos) que reciba una lista de números como parámetro, y devuelva True si todos los valores de una lista son\n",
    "# positivos, y False si al menos uno de los valores es negativo. Crea una lista llamada lista_numeros con valores positivos y negativos.\n",
    "# No invoques la función, solo es necesario definirla.\n",
    "\n",
    "lista_numeros = [1, -2, 3, -4]\n",
    "\n",
    "def todos_positivos(lista_numeros):\n",
    "    for num in lista_numeros:\n",
    "        if num < 0:\n",
    "            return False\n",
    "    return True\n",
    "\n",
    "print(todos_positivos(lista_numeros))"
   ]
  },
  {
   "cell_type": "code",
   "execution_count": null,
   "metadata": {},
   "outputs": [],
   "source": [
    "# EJERCICIO 11. Práctica Funciones Dinámicas 2...\n",
    "# Crea una función (suma_menores) que sume los números de una lista (almacenada en la variable lista_numeros) siempre y cuando sean mayores a 0 y menores\n",
    "# a 1000, y devuelva el resultado de dicha suma.\n",
    "\n",
    "lista_numeros = [1,50,500,5000,750,600]\n",
    "\n",
    "def suma_menores(lista_numeros):\n",
    "    suma = 0\n",
    "    for num in lista_numeros:\n",
    "        if num in range(1, 1000):\n",
    "            suma += num\n",
    "    return suma\n",
    "\n",
    "print(suma_menores(lista_numeros))\n"
   ]
  },
  {
   "cell_type": "code",
   "execution_count": null,
   "metadata": {},
   "outputs": [],
   "source": [
    "# EJERCICIO 12.  Práctica Funciones Dinámicas 3...\n",
    "# Crea una función (cantidad_pares) que cuente la cantidad de números pares que existen en una lista (lista_numeros), y \n",
    "# devuelva el resultado de dicha cuenta.\n",
    "\n",
    "lista_numeros = [1, 2, 3, 4, 5, 6, 7, 8, 9]\n",
    "\n",
    "def cantidad_pares(lista_numeros):\n",
    "    pares = []\n",
    "    for num in lista_numeros:\n",
    "        if num % 2 == 0:\n",
    "            pares.append(num)\n",
    "            result = len(pares)       \n",
    "    return result\n",
    "\n",
    "print(cantidad_pares(lista_numeros))"
   ]
  },
  {
   "cell_type": "markdown",
   "metadata": {},
   "source": [
    "=> EJERCICIOS / INTERACCIÓN ENTRE FUNCIONES..."
   ]
  },
  {
   "cell_type": "code",
   "execution_count": null,
   "metadata": {},
   "outputs": [],
   "source": [
    "# EJERCICIO 13. Práctica sobre Interacción entre Funciones 1...\n",
    "# Crea una función (lanzar_dados) que arroje dos dados al azar y devuelva sus resultados:\n",
    "# La función debe retornar dos valores resultado, que se encuentren entre 1 y 6).\n",
    "# Dicha función no debe requerir argumentos para funcionar, sino que debe generar internamente los valores aleatorios.\n",
    "# Proporciona el resultado de estos dos dados a una función que se llame evaluar_jugada (es decir, esta segunda función debe recibir dos argumentos)\n",
    "# y que retorne -sin imprimirlo- un mensaje según la suma de estos valores:\n",
    "# Si la suma es menor o igual a 6:\n",
    "# \"La suma de tus dados es {suma_dados}. Lamentable\"\n",
    "# Si la suma es mayor a 6 y menor a 10:\n",
    "# \"La suma de tus dados es {suma_dados}. Tienes buenas chances\"\n",
    "# Si la suma es mayor o igual a 10:\n",
    "# \"La suma de tus dados es {suma_dados}. Parece una jugada ganadora\"\n",
    "# Pistas: utiliza el método choice o randint de la biblioteca random para elegir un valor al azar entre 1 y 6.\n",
    "\n",
    "from random import randint\n",
    "\n",
    "def lanzar_dados():\n",
    "    return randint(1, 6), randint(1, 6)\n",
    "dado1, dado2 = lanzar_dados()\n",
    "\n",
    "def evaluar_jugada(dado1, dado2):\n",
    "    suma_dados = dado1 + dado2\n",
    "    if suma_dados <= 6:\n",
    "        return (f\"La suma de tus dados es {suma_dados}. Lamentable\")\n",
    "    elif (suma_dados > 6) and (suma_dados < 10):\n",
    "        return (f\"La suma de tus dados es {suma_dados}. Tienes buenas chances\")\n",
    "    else:\n",
    "        return (f\"La suma de tus dados es {suma_dados}. Parece una jugada ganadora\")\n",
    "    \n",
    "print(evaluar_jugada(dado1, dado2))\n",
    "    "
   ]
  },
  {
   "cell_type": "code",
   "execution_count": null,
   "metadata": {},
   "outputs": [],
   "source": [
    "# EJERCICIO 14. Práctica sobre Interacción entre Funciones 2...\n",
    "# Crea una función llamada reducir_lista() que tome una lista como argumento (crea también la variable lista_numeros), y devuelva la misma lista, pero\n",
    "# eliminando duplicados (dejando uno solo de los números si hay repetidos) y eliminando el valor más alto. El orden de los elementos puede modificarse.\n",
    "# Por ejemplo, si se le proporciona la lista [1,2,15,7,2] debe devolver [1,2,7].\n",
    "# Crea una función llamada promedio() que pueda recibir como argumento la lista devuelta por la anterior función, y que calcule el promedio de los\n",
    "# valores de la misma. Debe devolver el resultado, sin imprimirlo.\n",
    "\n",
    "lista_numeros = [1, 2, 15, 7, 2]\n",
    "\n",
    "def reducir_lista(lista_numeros):\n",
    "    lista_numeros = list(set(lista_numeros))\n",
    "    numero_alto = max(lista_numeros)\n",
    "    lista_numeros.remove(numero_alto)\n",
    "    return lista_numeros\n",
    "\n",
    "\n",
    "lista_def = reducir_lista(lista_numeros)\n",
    "def promedio(lista_def):\n",
    "    result = sum(lista_def) / len(lista_def)\n",
    "    return result\n",
    "\n",
    "print(promedio(lista_def))"
   ]
  },
  {
   "cell_type": "code",
   "execution_count": null,
   "metadata": {},
   "outputs": [],
   "source": [
    "# EJERCICIO 14.1.  Práctica sobre Interacción entre Funciones 2...\n",
    "\n",
    "lista_numeros = [1,2,15,7,2,8]\n",
    "\n",
    "def reducir_lista(lista):\n",
    "    lista = list(set(lista))\n",
    "    lista.sort()\n",
    "    lista.pop(-1)\n",
    "    return lista\n",
    "\n",
    "def promedio(lista):\n",
    "    valor_medio = sum(lista)/len(lista)\n",
    "    return valor_medio\n"
   ]
  },
  {
   "cell_type": "code",
   "execution_count": null,
   "metadata": {},
   "outputs": [],
   "source": [
    "# EJERCICIO 15. Práctica sobre Interacción entre Funciones 3...\n",
    "# Crea una función (llamada lanzar_moneda) que devuelva el resultado de lanzar una moneda (al azar). Dicha función debe poder devolver los resultados\n",
    "# \"Cara\" o \"Cruz\", y no debe recibir argumentos para funcionar.\n",
    "# Crea una segunda función (llamada probar_suerte), que tome dos argumentos: el primero, debe ser el resultado del lanzamiento de la moneda.\n",
    "# El segundo argumento, será una lista de números cualquiera (debes crear una lista con valores y llamarla lista_numeros).\n",
    "# Si se le proporciona una \"Cara\", debe mostrar el mensaje al usuario: \"La lista se autodestruirá\", y eliminarla (devolverla como lista vacía []).\n",
    "# Si se le proporciona una \"Cruz\", debe imprimir en pantalla: \"La lista fue salvada\" y devolver la lista intacta.\n",
    "# Pistas: utiliza el método choice de la biblioteca random para elegir un elemento al azar de una secuencia.\n",
    "\n",
    "import random\n",
    "\n",
    "def lanzar_moneda():\n",
    "    lista = [\"Cara\", \"Cruz\"]\n",
    "    cara_cruz = random.choice(lista)\n",
    "    return cara_cruz\n",
    "\n",
    "result = lanzar_moneda()\n",
    "lista_numeros = [1, 2, 3, 4, 5]\n",
    "def probar_suerte(result, lista_numeros):\n",
    "    if result == \"Cara\":\n",
    "        print(f\"La lista se autodestruirá...\")\n",
    "        return []\n",
    "    else: \n",
    "        print(f\"La lista fue salvada...\")\n",
    "        return lista_numeros\n",
    "    \n",
    "probar_suerte(result, lista_numeros)\n"
   ]
  },
  {
   "cell_type": "code",
   "execution_count": null,
   "metadata": {},
   "outputs": [],
   "source": [
    "# EJERCICIO 15.1.  Práctica sobre Interacción entre Funciones 3...\n",
    "lista_numeros = [1,2,15,7,2,8]\n",
    "\n",
    "import random\n",
    "\n",
    "def lanzar_moneda():\n",
    "    resultado = random.choice([\"Cara\", \"Cruz\"])\n",
    "    return resultado\n",
    "\n",
    "def probar_suerte(moneda, lista):\n",
    "    if moneda == \"Cara\":\n",
    "        print(\"La lista se autodestruirá\")\n",
    "        return []\n",
    "    elif moneda == \"Cruz\":\n",
    "        print(\"La lista fue salvada\")\n",
    "        return lista"
   ]
  },
  {
   "cell_type": "markdown",
   "metadata": {},
   "source": [
    "=> EJERCICIOS / ARGUMENTOS INDEFINIDOS (*args)..."
   ]
  },
  {
   "cell_type": "code",
   "execution_count": null,
   "metadata": {},
   "outputs": [],
   "source": [
    "# EJERCICIO 16. Práctica sobre Argumentos Indefinidos (*args) 1...\n",
    "# Crea una función llamada suma_cuadrados que tome una cantidad indeterminada de argumentos numéricos, y que retorne la suma de sus valores al cuadrado.\n",
    "# Por ejemplo para los argumentos suma_cuadrados(1,2,3) deberá retornar 14 (1+4+9).\n",
    "\n",
    "def suma_cuadrados(*args):\n",
    "    suma = 0\n",
    "    for num in args:\n",
    "        num_cuadrado = (num ** 2)\n",
    "        suma += num_cuadrado\n",
    "    return suma \n",
    "\n",
    "print(suma_cuadrados(1, 2, 3,))\n"
   ]
  },
  {
   "cell_type": "code",
   "execution_count": null,
   "metadata": {},
   "outputs": [],
   "source": [
    "# EJERCICIO 17. Práctica sobre Argumentos Indefinidos (*args) 2...\n",
    "# Crea una función llamada suma_absolutos, que tome un conjunto de argumentos de cualquier extensión, y retorne la suma de sus valores absolutos\n",
    "# (es decir, que tome los valores sin signo y los sume, o lo que es lo mismo, los considere a todos -negativos y positivos- como positivos).\n",
    "\n",
    "def suma_absolutos(*args):\n",
    "    suma = 0\n",
    "    for num in args:\n",
    "        num_abs = abs(num)\n",
    "        suma += num_abs\n",
    "    return suma\n",
    "\n",
    "print(suma_absolutos(-1, 5, -20, 8))\n"
   ]
  },
  {
   "cell_type": "code",
   "execution_count": null,
   "metadata": {},
   "outputs": [],
   "source": [
    "# EJERCICIO 18. Práctica sobre Argumentos Indefinidos (*args) 3...\n",
    "# Crea una función llamada numeros_persona que reciba, como primer argumento, un nombre, y a continuación, una cantidad indefinida de números.\n",
    "# La función debe devolver el siguiente mensaje:\n",
    "\"{nombre}, la suma de tus números es {suma_numeros}\"\n",
    "\n",
    "def numeros_persona(nombre, *args):\n",
    "    suma_numeros = sum(args)\n",
    "    return (f\"{nombre}, la suma de tus números es {suma_numeros}...\")\n",
    "\n",
    "print(numeros_persona(\"Michael\", 10, 10, 5, 5, 6))"
   ]
  },
  {
   "cell_type": "markdown",
   "metadata": {},
   "source": [
    "=> EJERCICIOS / ARGUMENTOS INDEFINIDOS (**KWARGS)...\n"
   ]
  },
  {
   "cell_type": "code",
   "execution_count": null,
   "metadata": {},
   "outputs": [],
   "source": [
    "# EJERCICIO 19. Práctica sobre Argumentos Indefinidos (**kwargs) 1...\n",
    "# Crea una función llamada cantidad_atributos que cuente la cantidad de parémetros que se entregan, y devuelva esa cantidad como resultado.\n",
    "\n",
    "def cantidad_atributos(**kwargs):\n",
    "    cant_parametros = len(kwargs)\n",
    "    return cant_parametros\n",
    "\n",
    "print(cantidad_atributos(x=1, y=2, z=3))"
   ]
  },
  {
   "cell_type": "code",
   "execution_count": null,
   "metadata": {},
   "outputs": [],
   "source": [
    "# EJERCICIO 19.1. Práctica sobre Argumentos Indefinidos (**kwargs) 1...\n",
    "\n",
    "def cantidad_atributos(**kwargs):\n",
    "    cantidad = 0\n",
    "    for clave in kwargs.items():\n",
    "        cantidad += 1\n",
    "    return cantidad\n",
    "\n",
    "print(cantidad_atributos(x=1, y=2, z=3))"
   ]
  },
  {
   "cell_type": "code",
   "execution_count": null,
   "metadata": {},
   "outputs": [],
   "source": [
    "# EJERCICIO 20. Práctica sobre Argumentos Indefinidos (**kwargs) 2...\n",
    "# Crea una función llamada lista_atributos que devuelva en forma de lista los valores de los atributos entregados en forma de palabras clave (keywords).\n",
    "# La función debe preveer recibir cualquier cantidad de argumentos de este tipo.\n",
    "\n",
    "def lista_atributos(**kwargs):\n",
    "    lista = []\n",
    "    for clave, valor in kwargs.items():\n",
    "        lista.append(valor)\n",
    "    return lista\n",
    "\n",
    "print(lista_atributos(x=1, y=2, z=3))"
   ]
  },
  {
   "cell_type": "code",
   "execution_count": null,
   "metadata": {},
   "outputs": [],
   "source": [
    "# EJERCICIO 20.1. Práctica sobre Argumentos Indefinidos (**kwargs) 2...\n",
    "\n",
    "def lista_atributos(**kwargs):\n",
    "    lista = []\n",
    "    for valor in kwargs.values():\n",
    "        lista.append(valor)\n",
    "    return lista\n",
    "\n",
    "print(lista_atributos(x=1, y=2, z=3))"
   ]
  },
  {
   "cell_type": "code",
   "execution_count": null,
   "metadata": {},
   "outputs": [],
   "source": [
    "# EJERCICIO 21. Práctica sobre Argumentos Indefinidos (**kwargs) 3...\n",
    "# Crea una función llamada describir_persona, que tome como parámetros su nombre y luego una cantidad indetermida de argumentos.\n",
    "# Esta función deberá mostrar en pantalla:\n",
    "# Características de {nombre}:\n",
    "# {nombre_argumento}: {valor_argumento}\n",
    "# {nombre_argumento}: {valor_argumento}\n",
    "# etc...\n",
    "# Por ejemplo:\n",
    "# describir_persona(\"María\", color_ojos=\"azules\", color_pelo=\"rubio\")\n",
    "# Mostrará en pantalla:\n",
    "# Características de María:\n",
    "# color_ojos: azules\n",
    "# color_pelo: rubio\n",
    "\n",
    "def describir_persona(nombre, **kwargs):\n",
    "    print(f\"Características de {nombre}:\")\n",
    "    for clave, valor in kwargs.items():\n",
    "        print(f\"{clave}: {valor}\")\n",
    "\n",
    "describir_persona(\"María\", color_ojos=\"azules\", color_pelo=\"rubio\")\n"
   ]
  },
  {
   "cell_type": "markdown",
   "metadata": {},
   "source": [
    "=> EJERCICIOS / 4 PROBLEMAS PRACTICOS QUE TOCABA HACER AL FINAL DE LA LEECIÓN..."
   ]
  },
  {
   "cell_type": "code",
   "execution_count": null,
   "metadata": {},
   "outputs": [],
   "source": [
    "# EJERCICIO 22....   # 1\n",
    "# Crea una función llamada devolver_distintos() que reciba 3 integers como parámetros.Si la suma de los 3 numeros es mayor a 15, va a devolver el número mayor.\n",
    "# Si la suma de los 3 numeros es menor a 10, va a devolver el número menor.Si la suma de los 3 números es un valor entre 10 y 15(incluidos) va a devolver el\n",
    "# número de valor intermedio.\n",
    "\n",
    "def devolver_distintos(num1, num2, num3):\n",
    "    lista = [num1, num2, num3]\n",
    "    lista.sort()\n",
    "    suma = sum(lista)\n",
    "    if suma > 15:\n",
    "        return (f\"El número mayor es: {lista[2]}\")\n",
    "    elif suma < 10:\n",
    "        return (f\"El número menor es: {lista[0]}\")\n",
    "    else:\n",
    "        return (f\"El número intermedio es: {lista[1]}\")\n",
    "\n",
    "print(devolver_distintos(7, 8, 9))"
   ]
  },
  {
   "cell_type": "code",
   "execution_count": null,
   "metadata": {},
   "outputs": [],
   "source": [
    "# EJERCICIO 23....   # 2\n",
    "# Escribe una función (puedes ponerle cualquier nombre que quieras) que reciba cualquier palabra como parámetro, y que devuelva todas sus letras únicas\n",
    "# (sin repetir) pero en ordenalfabético.Por ejemplo si al invocar esta función pasamos la palabra\"entretenido\", debería devolver\n",
    "# ['d', 'e', 'i', 'n', 'o', 'r', 't']\n",
    "\n",
    "def letras_unicas(palabra):\n",
    "    mi_set = set(palabra)\n",
    "    lista_ordenada = list(mi_set)\n",
    "    lista_ordenada.sort()\n",
    "    return lista_ordenada\n",
    "\n",
    "print(letras_unicas(\"mmiicchhaaeell\"))\n"
   ]
  },
  {
   "cell_type": "code",
   "execution_count": null,
   "metadata": {},
   "outputs": [],
   "source": [
    "# EJERCICIO 24...  # 3\n",
    "# Escribe una función que requiera una cantidad indefinida de argumentos. Lo que hará esta función es devolver True si en algún momento se ha ingresado al\n",
    "# numero cero repetido dos veces consecutivas.\n",
    "# Por ejemplo:(5,6,1,0,0,9,3,5) >>> True (6,0,5,1,0,3,0,1) >>> False\n",
    "\n",
    "def cant_argumentos(*args):\n",
    "    numero_anterior = None\n",
    "    \n",
    "    for num in args:\n",
    "        if num == 0 and numero_anterior == 0:\n",
    "            return True\n",
    "        numero_anterior = num\n",
    "    else:\n",
    "        return False\n",
    "\n",
    "print(cant_argumentos(5,6,1,0,0,9,3,5))\n",
    "print(cant_argumentos(6,0,5,1,0,3,0,1))"
   ]
  },
  {
   "cell_type": "code",
   "execution_count": null,
   "metadata": {},
   "outputs": [],
   "source": [
    "# EJERCICIO 25...  # 4  \n",
    "# Escribe una función llamada contar_primos() que requiera un solo argumento numérico.\n",
    "# Esta función va a mostrar en pantalla todos los números primos existentes en el rango que va desde cero hasta ese número incluido, y va a devolver la\n",
    "# cantidad de números primos que encontró.\n",
    "# Aclaración, por convención el 0 y el 1 no se consideran primos.\n",
    "\n",
    "def es_primo(numero):\n",
    "    if numero < 2:\n",
    "        return False\n",
    "    for i in range(2, numero):\n",
    "        if numero % i == 0:\n",
    "            return False\n",
    "    return True\n",
    "\n",
    "def contar_primos_en_rango(numero):\n",
    "    contador = 0\n",
    "    for n in range(2, numero + 1):\n",
    "        if es_primo(n):\n",
    "            contador += 1\n",
    "    return contador\n",
    "\n",
    "numero = 20\n",
    "cantidad_de_primos = contar_primos_en_rango(numero)\n",
    "print(f\"Encontré {cantidad_de_primos} números primos en el rango de 2 a {numero}.\")\n"
   ]
  }
 ],
 "metadata": {
  "kernelspec": {
   "display_name": "base",
   "language": "python",
   "name": "python3"
  },
  "language_info": {
   "codemirror_mode": {
    "name": "ipython",
    "version": 3
   },
   "file_extension": ".py",
   "mimetype": "text/x-python",
   "name": "python",
   "nbconvert_exporter": "python",
   "pygments_lexer": "ipython3",
   "version": "3.11.4"
  },
  "orig_nbformat": 4
 },
 "nbformat": 4,
 "nbformat_minor": 2
}
