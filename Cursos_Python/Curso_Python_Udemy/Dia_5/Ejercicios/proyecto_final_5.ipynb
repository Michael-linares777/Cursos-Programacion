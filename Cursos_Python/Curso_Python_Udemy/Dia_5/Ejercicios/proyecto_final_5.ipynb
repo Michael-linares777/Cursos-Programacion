{
 "cells": [
  {
   "cell_type": "markdown",
   "metadata": {},
   "source": [
    "=> PROYECTO DÍA # 5... JUEGO DEL AHORCADO..."
   ]
  },
  {
   "cell_type": "code",
   "execution_count": null,
   "metadata": {},
   "outputs": [],
   "source": [
    "'''\n",
    "El programa va a elegir una palabra secreta y le va a mostrar al jugador solamente una serie de guiones que representa la cantidad de letras que tiene la\n",
    "palabra. El jugador en cada turno deberá elegir una letra y si la letra se encuentra en la palabra oculta, el sistema le va a mostrar en qué lugares se\n",
    "encuentra. Pero si el jugador dice una letra que no se encuentra en la palabra oculta, pierde una vida. \n",
    "\n",
    "En el juego real del ahorcado, cada vez que perdemos una vida, se va completando el dibujo del ahorcado miembro por miembro. Pero en nuestro caso, como aún\n",
    "no tenemos elementos gráficos, simplemente le vamos a decir que tiene seis vidas y se las iremos descontando de una en una, cada vez que el jugador elija\n",
    "una letra incorrecta. \n",
    "\n",
    "Si se agotan las vidas antes de adivinar la palabra, el jugador pierde. Pero si adivina la palabra completa antes de perder todas las vidas, el jugador gana. \n",
    "Parece sencillo, pero ¿cómo diseñamos todo este código? Bueno, aquí van algunas ayudas:  \n",
    "\n",
    "  Primero vas a crear un código que importe el método choice, ya que lo vas a necesitar para que el sistema pueda elegir una palabra al azar dentro de una\n",
    "lista de palabras que también vas a crear al comienzo. \n",
    "\n",
    "  Luego de eso, vas a crear tantas funciones como creas necesarias para que el programa haga cosas como pedirle al usuario que elija una letra, para\n",
    "corroborar si lo que el usuario ha ingresado es una letra válida, para chequear si la letra ingresada se encuentra en la palabra o no, para\n",
    "verificar si ha ganado o no, etc. \n",
    "\n",
    "  Recuerda  escribir  primero  las  funciones  y  luego  el  código  que  las  implementa ordenadamente.\n",
    "'''"
   ]
  },
  {
   "cell_type": "code",
   "execution_count": 19,
   "metadata": {},
   "outputs": [
    {
     "name": "stdout",
     "output_type": "stream",
     "text": [
      "computadora\n"
     ]
    }
   ],
   "source": [
    "from random import choice\n",
    "\n",
    "def palabra_azar():\n",
    "    lista_palabras = [\"manzana\", \"gato\", \"montaña\", \"felicidad\", \"audifonos\", \"libro\", \"playa\", \"computadora\", \"jirafa\", \"chocolate\"]\n",
    "    palabra_random = choice(lista_palabras)\n",
    "    return palabra_random\n",
    "print(palabra_azar())"
   ]
  },
  {
   "cell_type": "code",
   "execution_count": null,
   "metadata": {},
   "outputs": [],
   "source": []
  }
 ],
 "metadata": {
  "kernelspec": {
   "display_name": "base",
   "language": "python",
   "name": "python3"
  },
  "language_info": {
   "codemirror_mode": {
    "name": "ipython",
    "version": 3
   },
   "file_extension": ".py",
   "mimetype": "text/x-python",
   "name": "python",
   "nbconvert_exporter": "python",
   "pygments_lexer": "ipython3",
   "version": "3.11.4"
  },
  "orig_nbformat": 4
 },
 "nbformat": 4,
 "nbformat_minor": 2
}
