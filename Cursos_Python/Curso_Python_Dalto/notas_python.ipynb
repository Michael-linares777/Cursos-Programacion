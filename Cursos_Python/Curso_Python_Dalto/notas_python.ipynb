{
 "cells": [
  {
   "cell_type": "markdown",
   "metadata": {},
   "source": [
    "=> NOTAS PYTHON...\n"
   ]
  },
  {
   "cell_type": "code",
   "execution_count": null,
   "metadata": {},
   "outputs": [],
   "source": [
    "# ...\n",
    "# NOTAS PYTHON...\n",
    "\n",
    "# => (del)... Operador para borrar datos...\n",
    "# EJ: saludo = \"hello\" // Out => hello\n",
    "#     del saludo // Out => 'saludo' is not defined\n",
    "saludo = \"hello\"\n",
    "del saludo\n",
    "print(saludo)\n",
    "\n",
    "\n"
   ]
  },
  {
   "cell_type": "markdown",
   "metadata": {},
   "source": [
    "=> PORQUE USAR PYTHON... WHY USE PYTHON???"
   ]
  },
  {
   "cell_type": "code",
   "execution_count": null,
   "metadata": {},
   "outputs": [],
   "source": [
    "# ...\n",
    "# > PORQUE USAR PYTHON... WHY USE PYTHON???\n",
    "\n",
    "# => 1. Sintaxis muy facil de aprender...\n",
    "\n",
    "# => 2. Se usan menos lineas de código al programar... No se usan tantas llaves  ni corchetes... // \"SE USA LA IDENTACIÓN\"...\n",
    "\n",
    "# => 3.Se puede usar para diferentes sistemas operativos... // \"UN SOLO CÓDIGO, MULTIPLES PLATAFORMAS\"... // \"MULTIPARADIGMA\"...\n",
    "\n",
    "# => 4. Tiene una biblioteca estandar y muy variada... // Osea que no debemos escribir código desde cero... / Python no brinda ya un código echo que\n",
    "#       podemos reulitizar... NOTA: No importar todas las bibliotecas a la vez, solo importa lo que vas a usar... Le restan rendimiento al programa...\n",
    "\n",
    "# => 5. Lo podemos mezclar con otros lenguajes de programción... // (java, C, C++)...\n",
    "\n",
    "# => 6. Comunidad fuerte y muy activa... Millones de desarrolladores en todo el mundo dispuestos a ayudar...\n",
    "\n",
    "# => 7. Python se le dice... // \"EL AUMENTA SALARIOS\""
   ]
  },
  {
   "cell_type": "markdown",
   "metadata": {},
   "source": [
    "=> QUE SE PUEDE HACER CON PYTHON... THINS CAN I DO WITH PYTHON..."
   ]
  },
  {
   "cell_type": "code",
   "execution_count": null,
   "metadata": {},
   "outputs": [],
   "source": [
    "#...\n",
    "# => QUE SE PUEDE HACER CON PYTHON... THINS CAN I DO WITH PYTHON...\n",
    "\n",
    "# => 1. Desarrollo wed con... (Flask & django )...\n",
    "\n",
    "# => 2. Crear aplicaciones mobiles y desktop / (Escritorio)... \"Gran parte de Google\" // \"Blender\" // \"Vitorrent\" // \"Premiere\" // \"After Effects\"\n",
    "\n",
    "# => 3. \"PARA AUTOMATIZACÍON DE SCRIPTS\"... \"Monitorear la bateria / La salud de la bateria / Reportamos la cantidad de energia y muchas cosas mas\" \n",
    "#    \"Detectar archivos 'log4j / Es una biblioteca de Java'... Que tiene problemas de seguridad...  En que lugares los podemos tener activos...\n",
    "#     Basicamente para evitar fallos de seguridad...\" \n",
    "\n",
    "# => 4. Para realizar tareas de ciencia de datos y analisis de datos... \"Numpy & Pandas...\" //  Realizar Machine learning.. / \"Rama de la IA\"...\n",
    "\n",
    "# => 5. Desarrollo de software \"Aparatos / Rapper & Arduino\"... // Crear programas de gestión y muchas cosas más...\n",
    "\n",
    "# => 6. Empresas que usarón Python... // \"Pinterest\" / \"Panda 3D\" / \"Dropbox\" / \"Spotify\" / \"Netflix\" / \"Uber\" / \"Google\" / \"Microsoft\" / \"YouTube\"....\n",
    "\n",
    "# => 7. \"AUTOMATIZACIÓN DE PRUEBAS DE SOFTWARE\"... // Hacer pruebas de QA / Pruebas de funcionamiento...\n",
    "\n",
    "# => 8. Desarrollar video-juegos... // NO ES EL MEJOR / PERO SE PUEDE... // Librerias como \"PYGAME\" / EJ: \"Battlefield 2\"..."
   ]
  },
  {
   "cell_type": "code",
   "execution_count": null,
   "metadata": {},
   "outputs": [],
   "source": []
  }
 ],
 "metadata": {
  "kernelspec": {
   "display_name": "Mv1",
   "language": "python",
   "name": "python3"
  },
  "language_info": {
   "codemirror_mode": {
    "name": "ipython",
    "version": 3
   },
   "file_extension": ".py",
   "mimetype": "text/x-python",
   "name": "python",
   "nbconvert_exporter": "python",
   "pygments_lexer": "ipython3",
   "version": "3.11.4"
  }
 },
 "nbformat": 4,
 "nbformat_minor": 2
}
