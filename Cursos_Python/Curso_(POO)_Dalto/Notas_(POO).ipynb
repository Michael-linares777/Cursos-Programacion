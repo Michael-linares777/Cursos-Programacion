{
 "cells": [
  {
   "cell_type": "markdown",
   "metadata": {},
   "source": [
    "=> NOTAS (POO)...\n"
   ]
  },
  {
   "cell_type": "code",
   "execution_count": null,
   "metadata": {},
   "outputs": [],
   "source": [
    "# => CLASE..."
   ]
  },
  {
   "cell_type": "code",
   "execution_count": null,
   "metadata": {},
   "outputs": [],
   "source": [
    "# => OBJETO..."
   ]
  },
  {
   "cell_type": "code",
   "execution_count": null,
   "metadata": {},
   "outputs": [],
   "source": [
    "# => ATRIBUTOS / ATRIBUTOS DE INSTANCIA..."
   ]
  },
  {
   "cell_type": "code",
   "execution_count": null,
   "metadata": {},
   "outputs": [],
   "source": [
    "# => MÉTODOS == ACCIONES...    /  MÉTODO == FUNCIÓN...\n",
    "\n",
    "# EJEMPLOS...\n",
    "class Celular:\n",
    "    def __init__(self, marca, modelo, camara):\n",
    "        self.marca = marca\n",
    "        self.modelo = modelo\n",
    "        self.camara = camara\n",
    "\n",
    "    def llamar(self): # MÉTODO == FUNCIÓN...\n",
    "        print(f\"Estas haciendo una llamada desde un: '{self.modelo}'\")\n",
    "\n",
    "    def cortar(self): # MÉTODO == FUNCIÓN...\n",
    "        print(f\"Cortaste la llamada desde un: '{self.modelo}'\")\n",
    "\n",
    "celular1 = Celular( \"SaMsung\", \"S23\", \"48MP\")\n",
    "celular2 = Celular( \"apple\", \"Iphone 15 Pro\", \"96MP\")\n",
    "\n",
    "celular1.llamar()\n"
   ]
  },
  {
   "cell_type": "code",
   "execution_count": null,
   "metadata": {},
   "outputs": [],
   "source": [
    "# => MÉTODO O FUNCIÓN __init__()...   / MÉTODO CONSTRUCTOR...\n",
    "class Animal:\n",
    "    def __init__():\n",
    "        pass\n",
    "\n",
    "# ES UN MÉTODO ESPECIAL... Que va a definir las propiedades iniciales del objeto...\n"
   ]
  },
  {
   "cell_type": "code",
   "execution_count": null,
   "metadata": {},
   "outputs": [],
   "source": [
    "# => PROPIEDADES == CARACTERISTICAS..."
   ]
  },
  {
   "cell_type": "markdown",
   "metadata": {},
   "source": [
    "=> LOS 4 PILARES DE LA (POO)..."
   ]
  },
  {
   "cell_type": "code",
   "execution_count": null,
   "metadata": {},
   "outputs": [],
   "source": [
    "# =>  HERENCIA...\n",
    "# Permitir a la clase hija acceder a todos los metodos y tener todas las propiedades de la clase padre..."
   ]
  }
 ],
 "metadata": {
  "kernelspec": {
   "display_name": "venv",
   "language": "python",
   "name": "python3"
  },
  "language_info": {
   "codemirror_mode": {
    "name": "ipython",
    "version": 3
   },
   "file_extension": ".py",
   "mimetype": "text/x-python",
   "name": "python",
   "nbconvert_exporter": "python",
   "pygments_lexer": "ipython3",
   "version": "3.11.4"
  },
  "orig_nbformat": 4
 },
 "nbformat": 4,
 "nbformat_minor": 2
}
