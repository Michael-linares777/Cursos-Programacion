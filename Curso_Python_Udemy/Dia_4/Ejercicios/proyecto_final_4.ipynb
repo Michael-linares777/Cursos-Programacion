{
 "cells": [
  {
   "cell_type": "markdown",
   "metadata": {},
   "source": [
    "=> PROYECTO DÍA # 4... ADIVINA EL NÚMERO..."
   ]
  },
  {
   "cell_type": "code",
   "execution_count": null,
   "metadata": {},
   "outputs": [],
   "source": [
    "\"\"\"\n",
    "La consigna es esta: el programa le va a preguntar al usuario su nombre, y luego le va a decir algo así como “Bueno, Juan, he\n",
    "pensado un número entre 1 y 100, y tienes solo ocho intentos para adivinar cuál crees que es el número”. Entonces, en cada\n",
    "intento el jugador dirá un número y el programa puede responder cuatro cosas distintas: \n",
    "\n",
    " Si el número que dijo el usuario es menor a 1 o superior a 100, le va a decir que ha elegido un número que no está permitido. \n",
    "\n",
    "  Si el número que ha elegido el usuario es menor al que ha pensado el programa, le va a decir que su respuesta es incorrecta\n",
    "y que ha elegido un número menor al número secreto. \n",
    "\n",
    "  Si el usuario eligió un número mayor al número secreto, también se lo hará saber de la misma manera.  \n",
    "\n",
    "  Y si el usuario acertó el número secreto, se le va a informar que ha ganado y cuántos intentos le ha tomado.  \n",
    "\n",
    "Si el usuario no ha acertado en este primer intento, se le va a volver a pedir que elija otro número. Y así hasta que gane o\n",
    "hasta que se agoten los ocho intentos. \n",
    "\"\"\""
   ]
  },
  {
   "cell_type": "code",
   "execution_count": null,
   "metadata": {},
   "outputs": [],
   "source": [
    "import random\n",
    "\n",
    "intentos = 0 \n",
    "numero_aleatorio = random.randint(1, 50)\n",
    "print(numero_aleatorio)\n",
    "nombre = input(\"Decime tu nombre???\")\n",
    "\n",
    "mensaje = \"\"\" he pensado un número entre 1 y 100...\\n- Tienes solo ocho intentos para adivinar...\\n- Cuál crees que es el número???”\"\"\"\n",
    "print(f\"”Bueno '{nombre}'{mensaje}\")\n",
    "\n",
    "for intento in range(1, 9): \n",
    "    num = input(\"Cual es el número??? \")\n",
    "    num = int(num)\n",
    "    intentos += 1\n",
    "    \n",
    "    if (num < 1) or (num > 100):    \n",
    "        print(\"Ha elegido un número que no está permitido.\")\n",
    "    elif num < numero_aleatorio:\n",
    "        print(\"Tu respuesta es INCORRECTA...\\nMi número es mas alto.\")\n",
    "    elif num > numero_aleatorio:\n",
    "        print(\"Tu respuesta es INCORRECTA....\\nMi número es más bajo.\")\n",
    "    else:\n",
    "        print(f\"¡EUREKA!!!{nombre} / HAS GANADO / ADIVINASTE EL NÚMERO!\\nEl número ganador es el: {numero_aleatorio}\")\n",
    "        print(f\"Te tomó {intentos} intentos para adivinar.\")\n",
    "        break\n",
    "else:\n",
    "    print(f\"Lo siento {nombre}, has agotado tus 8 intentos. El número secreto era: {numero_aleatorio}\")"
   ]
  }
 ],
 "metadata": {
  "kernelspec": {
   "display_name": "base",
   "language": "python",
   "name": "python3"
  },
  "language_info": {
   "codemirror_mode": {
    "name": "ipython",
    "version": 3
   },
   "file_extension": ".py",
   "mimetype": "text/x-python",
   "name": "python",
   "nbconvert_exporter": "python",
   "pygments_lexer": "ipython3",
   "version": "3.11.4"
  },
  "orig_nbformat": 4
 },
 "nbformat": 4,
 "nbformat_minor": 2
}
