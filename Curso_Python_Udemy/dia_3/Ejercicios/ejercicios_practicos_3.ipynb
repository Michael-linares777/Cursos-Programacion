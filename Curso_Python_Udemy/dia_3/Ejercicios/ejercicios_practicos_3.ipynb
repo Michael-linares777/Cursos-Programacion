{
 "cells": [
  {
   "cell_type": "markdown",
   "metadata": {},
   "source": [
    "#### => EJERCICIOS UDEMY..."
   ]
  },
  {
   "cell_type": "markdown",
   "metadata": {},
   "source": [
    "=> EJERCICIOS PRACTICA..."
   ]
  },
  {
   "cell_type": "markdown",
   "metadata": {},
   "source": [
    "=> EJERCICIOS index()...  rindex()..."
   ]
  },
  {
   "cell_type": "code",
   "execution_count": null,
   "metadata": {},
   "outputs": [],
   "source": [
    "# EJERCICIO 1...  Práctica Método Index() 1...\n",
    "# => Encuentra y muestra en pantalla qué caracter ocupa la cuarta posición dentro de la siguiente\n",
    "#    palabra: \"ordenador\"\n",
    "\n",
    "palabra = \"ordenador\"\n",
    "print(palabra[4])"
   ]
  },
  {
   "cell_type": "code",
   "execution_count": null,
   "metadata": {},
   "outputs": [],
   "source": [
    "# EJERCICIO 2...  Práctica Método Index() 2...\n",
    "# => Encuentra y muestra en pantalla el índice de la primera aparición de la palabra \"práctica\" en la siguiente frase:\n",
    "#    \"En teoría, la teoría y la práctica son los mismos. En la práctica, no lo son.\"\n",
    "\n",
    "frase = \"En teoría, la teoría y la práctica son los mismos. En la práctica, no lo son.\"\n",
    "print(frase.index(\"práctica\"))"
   ]
  },
  {
   "cell_type": "code",
   "execution_count": null,
   "metadata": {},
   "outputs": [],
   "source": [
    "# EJERCICIO 3...  Práctica Método rindex() 3...\n",
    "# => Encuentra y muestra en pantalla el índice de la última aparición de la palabra \"práctica\" en la siguiente frase:\n",
    "#    \"En teoría, la teoría y la práctica son los mismos. En la práctica, no lo son.\"\n",
    "\n",
    "frase = \"En teoría, la teoría y la práctica son los mismos. En la práctica, no lo son.\"\n",
    "result = frase.rindex(\"práctica\")\n",
    "print(result)"
   ]
  },
  {
   "cell_type": "markdown",
   "metadata": {},
   "source": [
    "=> EJERCICIOS slicing..."
   ]
  },
  {
   "cell_type": "code",
   "execution_count": null,
   "metadata": {},
   "outputs": [],
   "source": [
    "# EJERCICIO 4...  Práctica Sub-Strings 1...\n",
    "# => Extrae la primera palabra de la siguiente frase utilizando slicing, y muéstrala en pantalla:\n",
    "#    \"Controlar la complejidad es la esencia de la programación\"\n",
    "#    Pista: \"Controlar\" tiene un largo de 9 caracteres.\n",
    "\n",
    "frase = \"Controlar la complejidad es la esencia de la programación\"\n",
    "result = frase[0:9]\n",
    "print(result)"
   ]
  },
  {
   "cell_type": "code",
   "execution_count": null,
   "metadata": {},
   "outputs": [],
   "source": [
    "# EJERCICIO 5... Práctica Sub-Strings 2...\n",
    "# => Toma cada tercer caracter empezando desde el noveno hasta el final de la frase, e imprime el resultado.\n",
    "#    \"Nunca confíes en un ordenador que no puedas lanzar por una ventana\"\n",
    "\n",
    "frase = \"Nunca confíes en un ordenador que no puedas lanzar por una ventana\"\n",
    "result = frase[8::3]\n",
    "print(result)\n",
    "\n",
    "frase.isascii"
   ]
  },
  {
   "cell_type": "code",
   "execution_count": null,
   "metadata": {},
   "outputs": [],
   "source": [
    "# EJERCICIO 6... Práctica Sub-Strings 3...\n",
    "# => Invierte la posición de todos los caracteres de la siguiente frase y muestra el resultado en pantalla.\n",
    "#    \"Es genial trabajar con ordenadores. No discuten, lo recuerdan todo y no se beben tu cerveza\"\n",
    "\n",
    "frase = \"Es genial trabajar con ordenadores. No discuten, lo recuerdan todo y no se beben tu cerveza\"\n",
    "result = frase[::-1]\n",
    "print(result)"
   ]
  },
  {
   "cell_type": "markdown",
   "metadata": {},
   "source": [
    "=> EJERCICIOS MÉTODOS DE STRING..."
   ]
  },
  {
   "cell_type": "code",
   "execution_count": null,
   "metadata": {},
   "outputs": [],
   "source": [
    "# EJERCICIO 7... Práctica Métodos de String 1.\n",
    "# => Imprime el siguiente texto en mayúsculas, empleando el método específico de strings:\n",
    "\n",
    "frase = \"Especialmente en las comunicaciones electrónicas, la escritura enteramente en mayúsculas equivale a gritar.\"\n",
    "result = frase.upper()\n",
    "print(result)"
   ]
  },
  {
   "cell_type": "code",
   "execution_count": null,
   "metadata": {},
   "outputs": [],
   "source": [
    "# EJERCICIO 8... Práctica Métodos de String 2\n",
    "# => Une la siguiente lista en un string, separando cada elemento con un espacio.\n",
    "#    Utiliza el método apropiado de listas/strings, y muestra en pantalla el resultado.\n",
    "\n",
    "lista_palabras = [\"La\",\"legibilidad\",\"cuenta.\"]\n",
    "result = \" \".join(lista_palabras)\n",
    "print(result)"
   ]
  },
  {
   "cell_type": "code",
   "execution_count": null,
   "metadata": {},
   "outputs": [],
   "source": [
    "# EJERCICIO 9. Práctica Métodos de String 3...\n",
    "# => Reemplaza en la siguiente frase: \"Si la implementación es difícil de explicar, puede que sea una mala idea.\"\n",
    "# los siguientes pares de palabras:\n",
    "#                                  \"difícil\" --> \"fácil\"\n",
    "#                                   \"mala\" --> \"buena\"\n",
    "# y muestra en pantalla la frase con ambas palabras modificadas.\n",
    "\n",
    "frase = (\"Si la implementación es difícil de explicar, puede que sea una mala idea.\")\n",
    "result = frase.replace('difícil', \"fácil\")\n",
    "result2 = result.replace(\"mala\", \"buena\")\n",
    "print(result2)\n",
    "\n",
    "\n",
    "\n"
   ]
  },
  {
   "cell_type": "markdown",
   "metadata": {},
   "source": [
    "=> EJERCICIOS PROPIEDADES DE STRING...\n"
   ]
  },
  {
   "cell_type": "code",
   "execution_count": null,
   "metadata": {},
   "outputs": [],
   "source": [
    "# EJERCICIO 10.  Práctica Propiedades de Strings 1...\n",
    "# => Concatena 15 veces el texto \"Repetición\" y muestra el resultado en pantalla. Por suerte, conoces que los strings son\n",
    "# multiplicables y puedes realizar esta actividad de forma simple y elegante.\n",
    "\n",
    "print(\"Repetición\" * 15)\n",
    "\n"
   ]
  },
  {
   "cell_type": "code",
   "execution_count": null,
   "metadata": {},
   "outputs": [],
   "source": [
    "# EJERCICIO 11. Práctica Propiedades de Strings 2...\n",
    "\n",
    "# Verifica si la palabra \"agua\" no se encuentra en el siguiente haiku. Debes imprimir el booleano.\n",
    "poema = \"\"\"Tierra mojada,\n",
    " mis recuerdos de viaje\n",
    " entre las lluvias\"\"\"\n",
    "\n",
    "print(\"agua\" not in poema)"
   ]
  },
  {
   "cell_type": "code",
   "execution_count": null,
   "metadata": {},
   "outputs": [],
   "source": [
    "# EJERCICIO 12. Práctica Propiedades de Strings 3...\n",
    "# Muestra en pantalla el largo (en números de caracteres) de la palabra electroencefalografista.\n",
    "\n",
    "palabra = 'electroencefalografista'\n",
    "print(len(palabra))"
   ]
  },
  {
   "cell_type": "markdown",
   "metadata": {},
   "source": [
    "=> EJERCICIOS LISTAS..."
   ]
  },
  {
   "cell_type": "code",
   "execution_count": null,
   "metadata": {},
   "outputs": [],
   "source": [
    "# EJERCICIO 13. Práctica Listas 1...\n",
    "# Crea una lista con 5 elementos, dentro de la variable mi_lista. Puedes incluir strings, booleanos, números, etc.\n",
    "\n",
    "mi_lista = ['Michael', True, 7, 'Danny', False, [7, 8, 9]]\n",
    "print(mi_lista)"
   ]
  },
  {
   "cell_type": "code",
   "execution_count": null,
   "metadata": {},
   "outputs": [],
   "source": [
    "# EJERCICIO 14. Práctica Listas 2...\n",
    "# Agrega el elemento \"motocicleta\" a la siguiente lista de medios de transporte:\n",
    "# medios_transporte = [\"avión\", \"auto\", \"barco\", \"bicicleta\"]\n",
    "# No debes modificar la línea de código ya suministrada, sino que debes emplear el método apropiado de listas para añadir\n",
    "# un nuevo elemento.\n",
    "\n",
    "medios_transporte = [\"avión\", \"auto\", \"barco\", \"bicicleta\"]\n",
    "\n",
    "medios_transporte.append(\"motocicleta\")\n",
    "\n",
    "print(medios_transporte)"
   ]
  },
  {
   "cell_type": "code",
   "execution_count": null,
   "metadata": {},
   "outputs": [],
   "source": [
    "# EJERCICIO 15. Práctica Listas 3...\n",
    "# Utiliza el método pop() para quitar el tercer elemento de la siguiente lista llamada frutas, y almacénalo en una variable\n",
    "# llamada eliminado. Utiliza métodos de listas sin alterar la línea de código ya suministrada.\n",
    "\n",
    "frutas = [\"manzana\", \"banana\", \"mango\", \"cereza\", \"sandía\"]\n",
    "\n",
    "eliminado = frutas.pop(2)\n",
    "\n",
    "print(eliminado)\n"
   ]
  },
  {
   "cell_type": "markdown",
   "metadata": {},
   "source": [
    "=> EJERCICIOS DICCIONARIOS...\n"
   ]
  },
  {
   "cell_type": "code",
   "execution_count": null,
   "metadata": {},
   "outputs": [],
   "source": [
    "# EJERCICIO 16. Práctica Diccionarios 1...\n",
    "# Crea un diccionario llamado mi_dic que almacene la siguiente información de una persona:\n",
    "\n",
    "mi_dic = {\"nombre\": 'Karen', \"apellido\": 'Jurgens', \"edad\": 35, \"ocupacion\": 'Periodista'}"
   ]
  },
  {
   "cell_type": "code",
   "execution_count": null,
   "metadata": {},
   "outputs": [],
   "source": [
    "# EJERCICIO 17. Práctica Diccionarios 2...\n",
    "# Crea una función print que devuelva del segundo item de la lista llamada points2, dentro del siguiente diccionario.\n",
    "# Si el valor 300 cambiara en el futuro, el código debería funcionar igual para devolver el valor que se encuentre en\n",
    "# esa misma posición. Para ello, deberás hacer referencia a los nombres de las claves y/o índices según corresponda.\n",
    "\n",
    "mi_dict = {\"valores_1\":{\"v1\":3,\"v2\":6},\"puntos\":{\"points1\":9,\"points2\":[10,300,15]}}\n",
    "print(mi_dict[\"puntos\"][\"points2\"][1])"
   ]
  },
  {
   "cell_type": "code",
   "execution_count": null,
   "metadata": {},
   "outputs": [],
   "source": [
    "# EJERCICIO 18. Práctica Diccionarios 3...\n",
    "# Actualiza la información de nuestro diccionario llamado mi_dic.  (reasignando nuevos valores a las claves según corresponda),\n",
    "# y agrega una nueva clave llamada \"pais\" (sin tilde). Los nuevos datos son:\n",
    "# nombre: Karen\n",
    "# apellido: Jurgens\n",
    "# edad: 36\n",
    "# ocupacion: Editora\n",
    "# pais: Colombia\n",
    "\n",
    "mi_dic = {\"nombre\":\"Karen\", \"apellido\":\"Jurgens\", \"edad\":35, \"ocupacion\":\"Periodista\"}\n",
    "\n",
    "mi_dic[\"edad\"] = 36\n",
    "mi_dic[\"ocupacion\"] = \"Editora\"\n",
    "mi_dic[\"pais\"] = \"Colombia\"\n",
    "print(mi_dic)\n",
    "\n"
   ]
  },
  {
   "cell_type": "markdown",
   "metadata": {},
   "source": [
    "=> EJERCICIOS TUPLAS... "
   ]
  },
  {
   "cell_type": "code",
   "execution_count": null,
   "metadata": {},
   "outputs": [],
   "source": [
    "# EJERCICIO 19. Práctica Tuples 1... \n",
    "# Utiliza un método de tuplas para contar la cantidad de veces que aparece el valor 2 en la siguiente tupla, y muestra\n",
    "# el resultado (integer) en pantalla:\n",
    "\n",
    "mi_tupla = (1, 2, 3, 2, 3, 1, 3, 2, 3, 3, 3, 1, 3, 2, 2, 1, 3, 2)\n",
    "\n",
    "result = mi_tupla.count(2)\n",
    "\n",
    "print(result)"
   ]
  },
  {
   "cell_type": "code",
   "execution_count": null,
   "metadata": {},
   "outputs": [],
   "source": [
    "# EJERCICIO 20. Práctica Tuples 2... \n",
    "# Convierte a lista la siguiente tupla, y almacénala en una variable llamada mi_lista.\n",
    "\n",
    "mi_tupla = (1, 2, 3, 2, 3, 1, 3, 2)\n",
    "\n",
    "mi_lista = list(mi_tupla)\n",
    "\n",
    "print(mi_lista)\n"
   ]
  },
  {
   "cell_type": "code",
   "execution_count": null,
   "metadata": {},
   "outputs": [],
   "source": [
    "# EJERCICIO 21. Práctica Tuples 3...\n",
    "# Extrae los elementos de la siguiente tupla en cuatro variables: a, b, c, d\n",
    "\n",
    "mi_tupla = (1, 2, 3, 4)\n",
    "\n",
    "a, b, c, d = mi_tupla\n",
    "\n",
    "print(a, b, c, d)"
   ]
  },
  {
   "cell_type": "markdown",
   "metadata": {},
   "source": [
    "=> EJERCICIOS SETS..."
   ]
  },
  {
   "cell_type": "code",
   "execution_count": null,
   "metadata": {},
   "outputs": [],
   "source": [
    "# EJERCICIO 22. Práctica Sets 1...\n",
    "# Une los siguientes sets en uno solo, llamado mi_set_3:\n",
    "\n",
    "mi_set_1 = {1, 2, \"tres\", \"cuatro\"}\n",
    "\n",
    "mi_set_2 = {\"tres\", 4, 5} \n",
    "\n",
    "mi_set_3 = mi_set_1.union(mi_set_2)\n",
    "\n",
    "print(mi_set_3)"
   ]
  },
  {
   "cell_type": "code",
   "execution_count": null,
   "metadata": {},
   "outputs": [],
   "source": [
    "# EJERCICIO 23... Práctica Sets 2\n",
    "# Elimina un elemento al azar del siguiente set, utilizando métodos de sets..\n",
    "\n",
    "sorteo = {\"Camila\", \"Margarita\", \"Axel\", \"Jorge\", \"Miguel\", \"Mónica\"}\n",
    "\n",
    "result = sorteo.pop()\n",
    "\n",
    "print(result)"
   ]
  },
  {
   "cell_type": "code",
   "execution_count": null,
   "metadata": {},
   "outputs": [],
   "source": [
    "# EJERCICIO 24. Práctica Sets 3...\n",
    "# Agrega el nombre Damián al siguiente set, utilizando métodos de sets:\n",
    "\n",
    "sorteo = {\"Camila\", \"Margarita\", \"Axel\", \"Jorge\", \"Miguel\", \"Mónica\"}\n",
    "\n",
    "sorteo.add(\"Damián\")\n",
    "\n",
    "print(sorteo)"
   ]
  },
  {
   "cell_type": "markdown",
   "metadata": {},
   "source": [
    "=> EJERCICIOS BOOLEANOS..."
   ]
  },
  {
   "cell_type": "code",
   "execution_count": null,
   "metadata": {},
   "outputs": [],
   "source": [
    "# EJERCICIO 25. Práctica Booleanos 1... \n",
    "# Realiza una comparación que arroje como resultado un booleano y almacena el resultado (True/False) en una variable\n",
    "# llamada prueba.\n",
    "\n",
    "prueba = 7 == 7.0\n",
    "\n",
    "print(prueba)"
   ]
  },
  {
   "cell_type": "code",
   "execution_count": null,
   "metadata": {},
   "outputs": [],
   "source": [
    "# EJERCICIO 26. Práctica Booleanos 2...\n",
    "# Verifica si 17834/34 es mayor que 87*56 y muestra el resultado (booleano) en pantalla utilizando print().\n",
    "\n",
    "print(17834/34 > 87*56)"
   ]
  },
  {
   "cell_type": "code",
   "execution_count": null,
   "metadata": {},
   "outputs": [],
   "source": [
    "# EJERCICIO 27. Práctica Booleanos 3... \n",
    "# Verifica si la raíz cuadrada de 25 es igual a 5 y muestra el resultado (booleano) en pantalla utilizando print()\n",
    "\n",
    "print(25 ** 0.5 == 5)"
   ]
  }
 ],
 "metadata": {
  "kernelspec": {
   "display_name": "Python 3",
   "language": "python",
   "name": "python3"
  },
  "language_info": {
   "codemirror_mode": {
    "name": "ipython",
    "version": 3
   },
   "file_extension": ".py",
   "mimetype": "text/x-python",
   "name": "python",
   "nbconvert_exporter": "python",
   "pygments_lexer": "ipython3",
   "version": "3.11.4"
  },
  "orig_nbformat": 4
 },
 "nbformat": 4,
 "nbformat_minor": 2
}
