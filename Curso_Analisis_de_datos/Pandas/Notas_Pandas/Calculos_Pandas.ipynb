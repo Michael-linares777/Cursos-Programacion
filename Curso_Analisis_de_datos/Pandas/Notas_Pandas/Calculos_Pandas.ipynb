{
 "cells": [
  {
   "cell_type": "markdown",
   "metadata": {},
   "source": [
    "### => Calculos pandas..."
   ]
  },
  {
   "cell_type": "markdown",
   "metadata": {},
   "source": [
    "=> Media...\n"
   ]
  },
  {
   "cell_type": "code",
   "execution_count": null,
   "metadata": {},
   "outputs": [],
   "source": [
    "# => Media de una Serie...\n",
    "\n",
    "import pandas as pd\n",
    "\n",
    "# Crear una Serie de ejemplo\n",
    "datos = pd.Series([10, 20, 30, 40, 50])\n",
    "\n",
    "# Calcular la media\n",
    "media = datos.mean()\n",
    "\n",
    "print(\"La media es:\", media)"
   ]
  },
  {
   "cell_type": "code",
   "execution_count": null,
   "metadata": {},
   "outputs": [],
   "source": [
    "# => Media de una columna en un DataFrame...\n",
    "\n",
    "import pandas as pd\n",
    "\n",
    "# Crear un DataFrame de ejemplo\n",
    "data = {\n",
    "    'Nombre': ['Juan', 'María', 'Carlos', 'Ana'],\n",
    "    'Edad': [25, 30, 22, 28],\n",
    "}\n",
    "\n",
    "df = pd.DataFrame(data)\n",
    "\n",
    "# Calcular la media de la columna \"Edad\"\n",
    "media_edades = df['Edad'].mean()\n",
    "\n",
    "print(\"La media de edades es:\", media_edades)"
   ]
  },
  {
   "cell_type": "code",
   "execution_count": null,
   "metadata": {},
   "outputs": [],
   "source": [
    "# => Media de todas las columnas en un DataFrame...\n",
    "\n",
    "import pandas as pd\n",
    "\n",
    "# Crear un DataFrame de ejemplo\n",
    "data = {\n",
    "    'Edad': [25, 30, 22, 28],\n",
    "    'Puntaje': [85, 90, 78, 92]\n",
    "}\n",
    "\n",
    "df = pd.DataFrame(data)\n",
    "\n",
    "# Calcular la media de todas las columnas numéricas\n",
    "media_todas_columnas = df.mean()\n",
    "\n",
    "print(\"Medias de todas las columnas:\")\n",
    "print(media_todas_columnas)"
   ]
  },
  {
   "cell_type": "markdown",
   "metadata": {},
   "source": [
    "=> Desviación estándar..."
   ]
  },
  {
   "cell_type": "code",
   "execution_count": null,
   "metadata": {},
   "outputs": [],
   "source": [
    "# => Desviación estándar de una Serie...\n",
    "\n",
    "import pandas as pd\n",
    "\n",
    "# Crear una Serie de ejemplo\n",
    "datos = pd.Series([10, 20, 30, 40, 50])\n",
    "\n",
    "# Calcular la desviación estándar\n",
    "desviacion_estandar = datos.std()\n",
    "\n",
    "print(\"La desviación estándar es:\", desviacion_estandar)"
   ]
  },
  {
   "cell_type": "code",
   "execution_count": null,
   "metadata": {},
   "outputs": [],
   "source": [
    "# => Desviación estándar de una columna en un DataFrame...\n",
    "\n",
    "import pandas as pd\n",
    "\n",
    "# Crear un DataFrame de ejemplo\n",
    "data = {\n",
    "    'Edad': [25, 30, 22, 28],\n",
    "    'Puntaje': [85, 90, 78, 92]\n",
    "}\n",
    "\n",
    "df = pd.DataFrame(data)\n",
    "\n",
    "# Calcular la desviación estándar de la columna \"Puntaje\"\n",
    "desviacion_puntaje = df['Puntaje'].std()\n",
    "\n",
    "print(\"La desviación estándar del puntaje es:\", desviacion_puntaje)\n"
   ]
  },
  {
   "cell_type": "code",
   "execution_count": null,
   "metadata": {},
   "outputs": [],
   "source": [
    "# => Desviación estándar de todas las columnas en un DataFrame...\n",
    "\n",
    "import pandas as pd\n",
    "\n",
    "# Crear un DataFrame de ejemplo\n",
    "data = {\n",
    "    'Edad': [25, 30, 22, 28],\n",
    "    'Puntaje': [85, 90, 78, 92]\n",
    "}\n",
    "\n",
    "df = pd.DataFrame(data)\n",
    "\n",
    "# Calcular la desviación estándar de todas las columnas numéricas\n",
    "desviacion_todas_columnas = df.std()\n",
    "\n",
    "print(\"Desviaciones estándar de todas las columnas:\")\n",
    "print(desviacion_todas_columnas)\n"
   ]
  },
  {
   "cell_type": "code",
   "execution_count": null,
   "metadata": {},
   "outputs": [],
   "source": []
  }
 ],
 "metadata": {
  "kernelspec": {
   "display_name": "base",
   "language": "python",
   "name": "python3"
  },
  "language_info": {
   "codemirror_mode": {
    "name": "ipython",
    "version": 3
   },
   "file_extension": ".py",
   "mimetype": "text/x-python",
   "name": "python",
   "nbconvert_exporter": "python",
   "pygments_lexer": "ipython3",
   "version": "3.11.4"
  },
  "orig_nbformat": 4
 },
 "nbformat": 4,
 "nbformat_minor": 2
}
