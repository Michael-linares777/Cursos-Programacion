{
 "cells": [
  {
   "cell_type": "markdown",
   "metadata": {},
   "source": [
    "## => Notas pandas..."
   ]
  },
  {
   "cell_type": "markdown",
   "metadata": {},
   "source": [
    "### => Temas...\n"
   ]
  },
  {
   "cell_type": "code",
   "execution_count": null,
   "metadata": {},
   "outputs": [],
   "source": [
    "#... Temas pandas ...\n",
    "\n",
    "# - Conceptos basicos... Dataframe / Series...\n",
    "\n",
    "# - Ingresar y visualizar datos.. read_csv  /  shape[]  /  head()  /  tail()  /  info()\n",
    "\n",
    "# - Analisis: Contar y ordenar registros...  value_counts()  /  sort_values()  /  \n",
    "# * Indexación Booleana\n",
    "# * Manejo de strings\n",
    "\n",
    "# - Graficos... con matplotlib.\n",
    "\n",
    "# - Indexación... Con _index()  /  set_index()  /  reset_index()  /  sort_index()\n",
    "# * Localizar por etiquetas... Con loc[] / Grupos por etiquetas... con iloc[]\n",
    "\n",
    "# - Agrupar elementos... Con Groupby()\n",
    "# * Iterar entre grupos..\n",
    "\n",
    "# - Dar formato... Redefinir el formato DataFrame...\n",
    "# * Apilar y desapilar datos... Con stack() y unstack()\n",
    "\n"
   ]
  },
  {
   "cell_type": "markdown",
   "metadata": {},
   "source": [
    "### => Algo de teoria..."
   ]
  },
  {
   "cell_type": "code",
   "execution_count": 6,
   "metadata": {},
   "outputs": [],
   "source": [
    "# => Serie:\n",
    "# Imagina una lista organizada de datos, como una columna en una hoja de cálculo. Cada dato tiene un lugar y puedes acceder\n",
    "# a ellos por su posición o etiqueta. Por ejemplo, una Serie podría ser como una lista de tus amigos y sus edades.\n",
    "# Puedes pensar en una Serie como una sola columna de información."
   ]
  },
  {
   "cell_type": "code",
   "execution_count": 7,
   "metadata": {},
   "outputs": [],
   "source": [
    "# => DataFrame:\n",
    "# Piensa en un DataFrame como una tabla en una hoja de cálculo o una base de datos pequeña.Tiene filas y columnas, y cada celda\n",
    "# contiene información. Cada columna puede ser una Serie diferente que comparte un índice común. Por ejemplo, puedes tener un\n",
    "# DataFrame que contiene información sobre tus amigos, con filas para cada amigo y columnas para sus nombres, edades y ciudades.\n",
    "# Un DataFrame es como una tabla organizada de información donde cada fila es un registro y cada columna es un tipo de dato."
   ]
  },
  {
   "cell_type": "code",
   "execution_count": 8,
   "metadata": {},
   "outputs": [],
   "source": [
    "# En resumen... \n",
    "# Una Serie es como una columna de datos y un DataFrame es como una tabla completa con filas y columnas que\n",
    "# contienen información relacionada."
   ]
  },
  {
   "cell_type": "markdown",
   "metadata": {},
   "source": [
    "### => Conceptos basicos... Series y DataFrames: conceptos básicos y creación...\n"
   ]
  },
  {
   "cell_type": "code",
   "execution_count": 2,
   "metadata": {},
   "outputs": [],
   "source": [
    "# => Primero debes importar la biblioteca...\n",
    "# Para utilizar Pandas, primero debes importar la biblioteca: import pandas as pd.\n",
    "\n",
    "import pandas as pd"
   ]
  },
  {
   "cell_type": "markdown",
   "metadata": {},
   "source": [
    "### => Series en Pandas:"
   ]
  },
  {
   "cell_type": "markdown",
   "metadata": {},
   "source": [
    "=> Creación de series..."
   ]
  },
  {
   "cell_type": "code",
   "execution_count": null,
   "metadata": {},
   "outputs": [],
   "source": [
    "# Crear una Serie a partir de una lista...\n",
    "# => Puedes crear una Serie usando pd.Series(data, index), donde data puede ser una lista,\n",
    "#    arreglo de NumPy u otra Serie, y index es una etiqueta para cada elemento.\n",
    "\n",
    "import pandas as pd\n",
    "\n",
    "numeros = [1, 2, 3, 4, 5]\n",
    "serie_numeros = pd.Series(numeros, index=['a', 'b', 'c', 'd', 'e'])\n",
    "\n",
    "print(serie_numeros)"
   ]
  },
  {
   "cell_type": "code",
   "execution_count": 4,
   "metadata": {},
   "outputs": [],
   "source": [
    "# Crear una Serie a partir de un diccionario...\n",
    "\n",
    "import pandas as pd\n",
    "\n",
    "diccionario = {'a': 10, 'b': 20, 'c': 30}\n",
    "serie_diccionario = pd.Series(diccionario)\n"
   ]
  },
  {
   "cell_type": "markdown",
   "metadata": {},
   "source": [
    "=> Acceso a elementos de una Serie...\n"
   ]
  },
  {
   "cell_type": "code",
   "execution_count": null,
   "metadata": {},
   "outputs": [],
   "source": [
    "# Acceso por índice numérico\n",
    "primer_elemento = serie_numeros[0]"
   ]
  },
  {
   "cell_type": "code",
   "execution_count": null,
   "metadata": {},
   "outputs": [],
   "source": [
    "# Acceso por etiqueta\n",
    "valor_b = serie_numeros['b']"
   ]
  },
  {
   "cell_type": "markdown",
   "metadata": {},
   "source": [
    "### => DataFrames en Pandas:"
   ]
  },
  {
   "cell_type": "markdown",
   "metadata": {},
   "source": [
    "=> Creación de DataFrames..."
   ]
  },
  {
   "cell_type": "code",
   "execution_count": 2,
   "metadata": {},
   "outputs": [],
   "source": [
    "# => Un DataFrame se puede crear a partir de un diccionario de Series o arreglos de NumPy.\n",
    "#    Usando pd.DataFrame(data, columns, index).  donde \"data\" es el diccionario de datos,\n",
    "#    \"columns\" es una lista opcional de nombres de columnas y \"index\" es una lista opcional de etiquetas para las filas.\n",
    "\n",
    "import pandas as pd\n",
    "\n",
    "# Crear un DataFrame a partir de un diccionario de Series\n",
    "data = {'Nombre': ['Juan', 'María', 'Carlos'],\n",
    "        'Edad': [25, 30, 22]}\n",
    "df = pd.DataFrame(data)\n",
    "\n",
    "# Crear un DataFrame con nombres de columnas y etiquetas de fila\n",
    "data = {'Nombre': ['Juan', 'María', 'Carlos'],\n",
    "        'Edad': [25, 30, 22]}\n",
    "df = pd.DataFrame(data, columns=['Nombre', 'Edad'], index=['a', 'b', 'c'])"
   ]
  },
  {
   "cell_type": "markdown",
   "metadata": {},
   "source": [
    "=> Acceso a elementos de un DataFrame..."
   ]
  },
  {
   "cell_type": "code",
   "execution_count": null,
   "metadata": {},
   "outputs": [],
   "source": [
    "# => Puedes acceder a elementos de una Serie o DataFrame usando índices y etiquetas...\n",
    "#    Al igual que con las Series. Puedes acceder a columnas utilizando el nombre\n",
    "#    de la columna y a filas utilizando las etiquetas de fila."
   ]
  },
  {
   "cell_type": "code",
   "execution_count": null,
   "metadata": {},
   "outputs": [],
   "source": [
    "# => Acceso a una columna o columnas...\n",
    "\n",
    "import pandas as pd\n",
    "\n",
    "# Crear un DataFrame de ejemplo\n",
    "data = {\n",
    "    'Nombre': ['Juan', 'María', 'Carlos', 'Ana'],\n",
    "    'Edad': [25, 30, 22, 28],\n",
    "    'Puntaje': [85, 90, 78, 92]\n",
    "}\n",
    "\n",
    "df = pd.DataFrame(data)\n",
    "\n",
    "# Seleccionar una columna\n",
    "nombre_columna = df['Nombre']\n",
    "print(nombre_columna)\n",
    "\n",
    "# Seleccionar varias columnas\n",
    "columnas_seleccionadas = df[['Nombre', 'Edad']]\n",
    "print(columnas_seleccionadas)\n"
   ]
  },
  {
   "cell_type": "code",
   "execution_count": null,
   "metadata": {},
   "outputs": [],
   "source": [
    "# => Acceso a una fila por etiqueta\n",
    "fila_a = df.loc['a']"
   ]
  },
  {
   "cell_type": "code",
   "execution_count": null,
   "metadata": {},
   "outputs": [],
   "source": [
    "# => Acceso a un elemento específico...\n",
    "\n",
    "\n",
    "import pandas as pd\n",
    "\n",
    "# Crear un DataFrame a partir de un diccionario de Series\n",
    "data = {'Nombre': ['Juan', 'María', 'Carlos'],\n",
    "        'Edad': [25, 30, 22]}\n",
    "df = pd.DataFrame(data)\n",
    "\n",
    "# Crear un DataFrame con nombres de columnas y etiquetas de fila\n",
    "data = {'Nombre': ['Juan', 'María', 'Carlos'],\n",
    "        'Edad': [25, 30, 22]}\n",
    "df = pd.DataFrame(data, columns=['Nombre', 'Edad'], index=['a', 'b', 'c'])\n",
    "\n",
    "# => Acceso a un elemento específico\n",
    "edad_carlos = df.loc['c', 'Edad']\n",
    "\n",
    "print(edad_carlos)\n",
    "\n"
   ]
  },
  {
   "cell_type": "code",
   "execution_count": null,
   "metadata": {},
   "outputs": [],
   "source": [
    "# => Acceso a un elemento específico...\n",
    "\n",
    "import pandas as pd\n",
    "\n",
    "peliculas = {\n",
    "    \"Titulo\": [\"Inception\", \"Redemption\", \"The Lord\"],\n",
    "    \"Genero\": [\"Acción\", \"Drama\", \"Aventura\"],\n",
    "    \"Lanzamiento\": [2010, 1994, 2001]\n",
    "}\n",
    "\n",
    "df = pd.DataFrame(peliculas)\n",
    "\n",
    "# Acceder al título de la tercera película\n",
    "titulo_tercera_pelicula = df.loc[2, \"Titulo\"]\n",
    "\n",
    "print(titulo_tercera_pelicula)\n"
   ]
  },
  {
   "cell_type": "markdown",
   "metadata": {},
   "source": [
    "### => Lectura de Datos con read_csv()..."
   ]
  },
  {
   "cell_type": "code",
   "execution_count": null,
   "metadata": {},
   "outputs": [],
   "source": [
    "\"\"\"\n",
    "La función pd.read_csv('archivo.csv') es una forma eficiente de cargar datos desde un archivo CSV en un DataFrame de Pandas. Aquí hay más detalles sobre cómo funciona y las opciones que puedes usar:\n",
    "\n",
    "Opciones Comunes:\n",
    "delimiter: Te permite especificar el carácter que se utiliza como delimitador de campos en el archivo CSV. El delimitador predeterminado es la coma ,, pero puedes cambiarlo a otro carácter como ';', '\\t' (tabulador), etc.\n",
    "encoding: Te permite especificar el esquema de codificación utilizado en el archivo CSV, como 'utf-8', 'latin1', 'cp1252', entre otros.\n",
    "header: Puedes indicar qué fila del archivo CSV se utiliza como encabezado de las columnas. Puede ser un número (por ejemplo, header=0) o una lista de números de filas para usar como encabezados compuestos.\n",
    "usecols: Te permite especificar qué columnas deseas cargar en el DataFrame. Puede ser una lista de nombres de columnas o una función para seleccionar columnas basada en sus nombres.\n",
    "Ejemplo de uso:\n",
    "\n",
    "import pandas as pd\n",
    "\n",
    "# Cargar datos desde un archivo CSV\n",
    "df = pd.read_csv('archivo.csv', delimiter=';', encoding='utf-8', header=0, usecols=['Nombre', 'Edad'])\n",
    "\n",
    "\"\"\""
   ]
  },
  {
   "cell_type": "markdown",
   "metadata": {},
   "source": [
    "### => Escritura de Datos con to_csv()..."
   ]
  },
  {
   "cell_type": "code",
   "execution_count": null,
   "metadata": {},
   "outputs": [],
   "source": [
    "\"\"\"\n",
    "El método dataframe.to_csv('archivo_salida.csv', index=False) te permite escribir un DataFrame en un archivo CSV. Aquí tienes más información sobre cómo funciona y las opciones disponibles:\n",
    "\n",
    "Opciones Comunes:\n",
    "path_or_buf: Especifica la ruta del archivo CSV de salida donde se guardará el DataFrame.\n",
    "index: Determina si se debe incluir el índice del DataFrame en el archivo CSV. Puedes establecerlo como index=False para excluirlo.\n",
    "sep: Define el delimitador de campos en el archivo CSV.\n",
    "header: Controla si se incluye una fila de encabezado en el archivo CSV. Puedes establecerlo como header=True (predeterminado) o header=False.\n",
    "Ejemplo de uso:\n",
    "    \n",
    "    import pandas as pd\n",
    "\n",
    "# Crear un DataFrame de ejemplo\n",
    "data = {\n",
    "    'Nombre': ['Juan', 'María', 'Carlos'],\n",
    "    'Edad': [25, 30, 22]\n",
    "}\n",
    "df = pd.DataFrame(data)\n",
    "\n",
    "# Escribir el DataFrame en un archivo CSV\n",
    "df.to_csv('archivo_salida.csv', index=False, sep=';', header=True)\n",
    "\"\"\""
   ]
  },
  {
   "cell_type": "markdown",
   "metadata": {},
   "source": [
    "=> Etiquetas / Pandas...\n"
   ]
  },
  {
   "cell_type": "code",
   "execution_count": 6,
   "metadata": {},
   "outputs": [],
   "source": [
    "# index = []..."
   ]
  },
  {
   "cell_type": "markdown",
   "metadata": {},
   "source": [
    "=> Parámetros Pandas..."
   ]
  }
 ],
 "metadata": {
  "kernelspec": {
   "display_name": "Python 3",
   "language": "python",
   "name": "python3"
  },
  "language_info": {
   "codemirror_mode": {
    "name": "ipython",
    "version": 3
   },
   "file_extension": ".py",
   "mimetype": "text/x-python",
   "name": "python",
   "nbconvert_exporter": "python",
   "pygments_lexer": "ipython3",
   "version": "3.11.4"
  },
  "orig_nbformat": 4
 },
 "nbformat": 4,
 "nbformat_minor": 2
}
