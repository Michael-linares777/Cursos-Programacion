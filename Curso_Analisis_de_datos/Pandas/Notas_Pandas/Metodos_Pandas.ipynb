{
 "cells": [
  {
   "cell_type": "markdown",
   "metadata": {},
   "source": [
    "### => MÉTODOS PANDAS..."
   ]
  },
  {
   "cell_type": "code",
   "execution_count": null,
   "metadata": {},
   "outputs": [],
   "source": [
    "# => MÉTODO memory_usage()...  Verificar la cantidad de memoria utilizada por un DataFrame...\n",
    "\n",
    "# => Este método te proporciona información sobre el uso de memoria en bytes para cada\n",
    "#    columna del DataFrame. \n",
    "\n",
    "import pandas as pd\n",
    "\n",
    "# Crear un DataFrame de ejemplo\n",
    "data = {\n",
    "    'Nombre': ['Juan', 'María', 'Carlos', 'Ana'],\n",
    "    'Edad': [25, 30, 22, 28],\n",
    "    'Ciudad': ['Madrid', 'Barcelona', 'Valencia', 'Sevilla']\n",
    "}\n",
    "\n",
    "df = pd.DataFrame(data)\n",
    "\n",
    "# Obtener la cantidad de memoria utilizada por cada columna en bytes\n",
    "memory_usage = df.memory_usage(deep=True)\n",
    "\n",
    "# Sumar la cantidad total de memoria utilizada\n",
    "total_memory = memory_usage.sum()\n",
    "\n",
    "# Imprimir la cantidad de memoria utilizada por cada columna y el total\n",
    "print(\"Uso de memoria por columna:\")\n",
    "print(memory_usage)\n",
    "print(\"\\nTotal de uso de memoria:\", total_memory, \"bytes\")\n"
   ]
  },
  {
   "cell_type": "code",
   "execution_count": null,
   "metadata": {},
   "outputs": [],
   "source": [
    "# => MÉTODO insert()...  Insertar una nueva columna en una posición específica...\n",
    "# => Te permite insertar una nueva columna en una posición específica del DataFrame.\n",
    "#    Puedes utilizar el índice de la posición en la que deseas insertar la columna. \n",
    "\n",
    "import pandas as pd\n",
    "\n",
    "# Crear un DataFrame de ejemplo\n",
    "data = {\n",
    "    'Nombre': ['Juan', 'María', 'Carlos', 'Ana'],\n",
    "    'Edad': [25, 30, 22, 28],\n",
    "}\n",
    "\n",
    "df = pd.DataFrame(data)\n",
    "\n",
    "# Agregar una nueva columna llamada \"Ciudad\" en la segunda posición (índice 1)\n",
    "ciudades = ['Madrid', 'Barcelona', 'Valencia', 'Sevilla']\n",
    "df.insert(1, 'Ciudad', ciudades)\n",
    "\n",
    "print(df)"
   ]
  },
  {
   "cell_type": "markdown",
   "metadata": {},
   "source": [
    "=> MÉTODOS PARA REALIZAR CALCULOS..."
   ]
  },
  {
   "cell_type": "code",
   "execution_count": null,
   "metadata": {},
   "outputs": [],
   "source": [
    "# => MÉTODO mean()...   Calcular la media...\n",
    "\n",
    "import pandas as pd\n",
    "\n",
    "# Crear un DataFrame de ejemplo\n",
    "data = {\n",
    "    'Nombre': ['Juan', 'María', 'Carlos', 'Ana'],\n",
    "    'Edad': [25, 30, 22, 28],\n",
    "}\n",
    "\n",
    "df = pd.DataFrame(data)\n",
    "\n",
    "# Calcular la media de la columna \"Edad\"\n",
    "media_edades = df['Edad'].mean()\n",
    "\n",
    "print(\"La media de edades es:\", media_edades)\n"
   ]
  },
  {
   "cell_type": "code",
   "execution_count": null,
   "metadata": {},
   "outputs": [],
   "source": [
    "# => MÉTODO std()...   Calcular la desviación estándar...\n",
    "\n",
    "import pandas as pd\n",
    "\n",
    "# Crear un DataFrame de ejemplo\n",
    "data = {\n",
    "    'Edad': [25, 30, 22, 28],\n",
    "    'Puntaje': [85, 90, 78, 92]\n",
    "}\n",
    "\n",
    "df = pd.DataFrame(data)\n",
    "\n",
    "# Calcular la desviación estándar de la columna \"Puntaje\"\n",
    "desviacion_puntaje = df['Puntaje'].std()\n",
    "\n",
    "print(\"La desviación estándar del puntaje es:\", desviacion_puntaje)"
   ]
  },
  {
   "cell_type": "code",
   "execution_count": null,
   "metadata": {},
   "outputs": [],
   "source": [
    "# => MÉTODO"
   ]
  },
  {
   "cell_type": "code",
   "execution_count": null,
   "metadata": {},
   "outputs": [],
   "source": [
    "# => MÉTODO"
   ]
  },
  {
   "cell_type": "code",
   "execution_count": null,
   "metadata": {},
   "outputs": [],
   "source": [
    "# => MÉTODO"
   ]
  },
  {
   "cell_type": "code",
   "execution_count": null,
   "metadata": {},
   "outputs": [],
   "source": [
    "# => MÉTODO"
   ]
  },
  {
   "cell_type": "code",
   "execution_count": null,
   "metadata": {},
   "outputs": [],
   "source": [
    "# => MÉTODO"
   ]
  },
  {
   "cell_type": "code",
   "execution_count": null,
   "metadata": {},
   "outputs": [],
   "source": [
    "# => MÉTODO"
   ]
  },
  {
   "cell_type": "code",
   "execution_count": null,
   "metadata": {},
   "outputs": [],
   "source": [
    "# => MÉTODO"
   ]
  }
 ],
 "metadata": {
  "kernelspec": {
   "display_name": "base",
   "language": "python",
   "name": "python3"
  },
  "language_info": {
   "codemirror_mode": {
    "name": "ipython",
    "version": 3
   },
   "file_extension": ".py",
   "mimetype": "text/x-python",
   "name": "python",
   "nbconvert_exporter": "python",
   "pygments_lexer": "ipython3",
   "version": "3.11.4"
  },
  "orig_nbformat": 4
 },
 "nbformat": 4,
 "nbformat_minor": 2
}
