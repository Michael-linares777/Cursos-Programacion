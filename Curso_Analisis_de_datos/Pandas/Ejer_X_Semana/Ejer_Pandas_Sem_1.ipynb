{
 "cells": [
  {
   "cell_type": "markdown",
   "metadata": {},
   "source": [
    "## => EJERCICIOS PANDAS..."
   ]
  },
  {
   "cell_type": "markdown",
   "metadata": {},
   "source": [
    "### => Día 1: Introducción a Pandas y su importancia en el análisis de datos..."
   ]
  },
  {
   "cell_type": "code",
   "execution_count": null,
   "metadata": {},
   "outputs": [],
   "source": [
    "# EJERCICIO #1. \n",
    "\n",
    "# Importa la biblioteca Pandas y crea una Serie con tus cinco colores favoritos.\n",
    "\n",
    "import pandas as pd\n",
    "\n",
    "colores = pd.Series([\"Verde\", \"Negro\", \"Rojo\", \"Azul\", \"Naranja\"])\n",
    "\n",
    "print(colores)"
   ]
  },
  {
   "cell_type": "code",
   "execution_count": null,
   "metadata": {},
   "outputs": [],
   "source": [
    "# EJERCICIO #2. \n",
    "# Crea un DataFrame con información ficticia sobre nombres, edades y ciudades de amigos.\n",
    "\n",
    "import pandas as pd \n",
    "\n",
    "info = { \"Nombre\": [\"Juan\", \"Carlos\", \"Maria\"],\n",
    "        \"Edad\": [24, 50, 34],\n",
    "        \"Ciudad\": [\"Medellin\", \"Bogota\", \"Cali\"]\n",
    "        }\n",
    "df = pd.DataFrame(info)\n",
    "\n",
    "print(df)"
   ]
  },
  {
   "cell_type": "code",
   "execution_count": null,
   "metadata": {},
   "outputs": [],
   "source": [
    "# EJERCICIO #3. \n",
    "# Investiga cómo puedes verificar la cantidad de memoria utilizada por un DataFrame.\n",
    "\n",
    "import pandas as pd \n",
    "\n",
    "info = { \"Nombre\": [\"Juan\", \"Carlos\", \"Maria\"],\n",
    "        \"Edad\": [24, 50, 34],\n",
    "        \"Ciudad\": [\"Medellin\", \"Bogota\", \"Cali\"]\n",
    "        }\n",
    "df = pd.DataFrame(info)\n",
    "\n",
    "memoria_usada = df.memory_usage(deep=True)\n",
    "total_memoria = memoria_usada.sum()\n",
    "\n",
    "print(f\"{total_memoria} bytes.\")\n"
   ]
  },
  {
   "cell_type": "code",
   "execution_count": null,
   "metadata": {},
   "outputs": [],
   "source": [
    "# EJERCICIO #4. \n",
    "# Agrega una nueva columna al DataFrame anterior para representar la profesión de cada amigo.\n",
    "\n",
    "import pandas as pd \n",
    "\n",
    "info = { \"Nombre\": [\"Juan\", \"Carlos\", \"Maria\"],\n",
    "        \"Edad\": [24, 50, 34],\n",
    "        \"Ciudad\": [\"Medellin\", \"Bogota\", \"Cali\"]\n",
    "        }\n",
    "df = pd.DataFrame(info)\n",
    "\n",
    "profesiones = [\"Panadero\", \"Barrendero\", \"Estilista\"]\n",
    "df.insert(3, \"profesion\", profesiones)\n",
    "\n",
    "print(df)"
   ]
  },
  {
   "cell_type": "code",
   "execution_count": null,
   "metadata": {},
   "outputs": [],
   "source": [
    "# EJERCICIO #5. \n",
    "# ¿Por qué es Pandas esencial en el análisis de datos? Investiga y escribe un breve resumen.\n",
    "\n",
    "# Rta / Porque facilita el trabajo... Pandas es esencial en el análisis de datos porque permite\n",
    "#       cargar, limpiar, transformar y analizar datos de manera eficiente."
   ]
  },
  {
   "cell_type": "markdown",
   "metadata": {},
   "source": [
    "### => Día 2: Series y DataFrames: conceptos básicos y creación..."
   ]
  },
  {
   "cell_type": "code",
   "execution_count": null,
   "metadata": {},
   "outputs": [],
   "source": [
    "# EJERCICIO #1. \n",
    "# Crea una Serie que represente las temperaturas diarias en una semana en grados Celsius.\n",
    "\n",
    "import pandas as pd \n",
    "\n",
    "temperaturas = [\"10°C\", \"20°C\", \"30°C\", \"40°C\", \"50°C\", \"60°C\", \"70°C\"]\n",
    "\n",
    "grados_celcius = pd.Series(temperaturas, index=[\"Domingo\", \"Lunes\", \"Martes\", \"Miercoles\", \"Jueves\", \"Viernes\", \"Sabado\"])\n",
    "\n",
    "print(grados_celcius)"
   ]
  },
  {
   "cell_type": "code",
   "execution_count": null,
   "metadata": {},
   "outputs": [],
   "source": [
    "# EJERCICIO #2.\n",
    "# Crea un DataFrame con información de películas, incluyendo título, género y año de lanzamiento.\n",
    "\n",
    "import pandas as pd\n",
    "\n",
    "peliculas = { \"Pelicula\": [ \"Inception\", \"Redemption\", \"The Lord\"],\n",
    "             \"Automovil\": [\"Acción\", \"Drama\", \"Aventura\"],\n",
    "             \"Lanzamiento\": [2010,1994,2001]\n",
    "             }\n",
    "\n",
    "df = pd.DataFrame(peliculas)\n",
    "print(df)"
   ]
  },
  {
   "cell_type": "code",
   "execution_count": null,
   "metadata": {},
   "outputs": [],
   "source": [
    "# EJERCICIO #3. \n",
    "# Accede a la tercera película en el DataFrame de películas que creaste.\n",
    "\n",
    "import pandas as pd\n",
    "\n",
    "peliculas = { \"Titulo\": [ \"Inception\", \"Redemption\", \"The Lord\"],\n",
    "             \"Automovil\": [\"Acción\", \"Drama\", \"Aventura\"],\n",
    "             \"Lanzamiento\": [2010,1994,2001]\n",
    "             }\n",
    "\n",
    "df = pd.DataFrame(peliculas)\n",
    "\n",
    "pelicula3 = df.loc[2, \"Titulo\"]\n",
    "\n",
    "print(pelicula3)"
   ]
  },
  {
   "cell_type": "code",
   "execution_count": null,
   "metadata": {},
   "outputs": [],
   "source": [
    "# EJERCICIO #4. \n",
    "# Calcula la media y la desviación estándar de las temperaturas en la Serie de temperaturas.\n",
    "\n",
    "import pandas as pd \n",
    "\n",
    "temperaturas = [10, 20, 30, 40, 50, 60, 70]\n",
    "\n",
    "grados_celcius = pd.Series(temperaturas, index=[\"Domingo\", \"Lunes\", \"Martes\", \"Miercoles\", \"Jueves\", \"Viernes\", \"Sabado\"])\n",
    "\n",
    "# Calcular la media de una serie...\n",
    "media = grados_celcius.mean()\n",
    "\n",
    "# Calcular la desviación estándar de una serie...\n",
    "desviasion_estandar = grados_celcius.std()\n",
    "\n",
    "print(grados_celcius)\n",
    "print(f\"La media es: {media}\")\n",
    "print(f\"La desviasion estandar es: {desviasion_estandar}\")"
   ]
  },
  {
   "cell_type": "code",
   "execution_count": 1,
   "metadata": {},
   "outputs": [
    {
     "name": "stdout",
     "output_type": "stream",
     "text": [
      "El promedio de Ana es: 4.0\n",
      "El promedio de Luis es: 3.0\n",
      "El promedio de Juan es: 3.5\n"
     ]
    }
   ],
   "source": [
    "# EJERCICIO #5. \n",
    "# Crea un DataFrame con datos sobre estudiantes (nombres y calificaciones en tres exámenes)\n",
    "# y luego calcula el promedio de calificaciones por estudiante.\n",
    "\n",
    "import pandas as pd\n",
    "\n",
    "estudiantes = {\n",
    "    \"Ana\": [4.0, 5.0, 3.0],\n",
    "    \"Luis\": [2.5, 3.0, 3.5],\n",
    "    \"Juan\": [2.0, 5.0, 3.5]\n",
    "}\n",
    "df = pd.DataFrame(estudiantes)\n",
    "\n",
    "nombre1 = df[\"Ana\"]\n",
    "promedio_estudiante1 = nombre1.mean()\n",
    "\n",
    "nombre2 = df[\"Luis\"]\n",
    "promedio_estudiante2 = nombre2.mean()\n",
    "\n",
    "nombre3 = df[\"Juan\"]\n",
    "promedio_estudiante3 = nombre3.mean()\n",
    "\n",
    "\n",
    "print(f\"El promedio de Ana es: {promedio_estudiante1}\")\n",
    "print(f\"El promedio de Luis es: {promedio_estudiante2}\")\n",
    "print(f\"El promedio de Juan es: {promedio_estudiante3}\")"
   ]
  },
  {
   "cell_type": "code",
   "execution_count": null,
   "metadata": {},
   "outputs": [],
   "source": [
    "# EJERCICIO #5.1 \n",
    "# Crea un DataFrame con datos sobre estudiantes (nombres y calificaciones en tres exámenes)\n",
    "# y luego calcula el promedio de calificaciones por estudiante.\n",
    "\n",
    "import pandas as pd\n",
    "\n",
    "# Crear un DataFrame con datos de calificaciones de estudiantes\n",
    "estudiantes = {\n",
    "    \"Ana\": [4.0, 5.0, 3.0],\n",
    "    \"Luis\": [2.5, 3.0, 3.5],\n",
    "    \"Juan\": [2.0, 5.0, 3.5]\n",
    "}\n",
    "df = pd.DataFrame(estudiantes)\n",
    "\n",
    "# Calcular el promedio de calificaciones por estudiante\n",
    "promedios = df.mean()\n",
    "print(promedios)\n",
    "\n",
    "# Imprimir los promedios de calificaciones por estudiante\n",
    "for estudiante, promedio in promedios.items():\n",
    "    print(f\"El promedio de {estudiante} es: {promedio}\")"
   ]
  },
  {
   "cell_type": "markdown",
   "metadata": {},
   "source": [
    "### => Día 3: Lectura y escritura de datos con read_csv y to_csv..."
   ]
  },
  {
   "cell_type": "code",
   "execution_count": null,
   "metadata": {},
   "outputs": [],
   "source": [
    "# EJERCICIO #1. \n",
    "# Un archivo CSV cualquiera y cárgalo en un DataFrame.\n",
    "\n",
    "import pandas as pd \n",
    "\n",
    "df = pd.read_csv(\"C:/Users/Administrador/Desktop/Python/Analisis_de_datos/Archivos/TablaEjemplo.csv\")\n",
    "\n",
    "print(df)"
   ]
  },
  {
   "cell_type": "code",
   "execution_count": null,
   "metadata": {},
   "outputs": [],
   "source": [
    "# EJERCICIO #2. \n",
    "# Explora las primeras 2 filas del DataFrame que acabas de cargar.\n",
    "\n",
    "import pandas as pd \n",
    "\n",
    "df = pd.read_csv(\"C:/Users/Administrador/Desktop/Python/Analisis_de_datos/Archivos/TablaEjemplo.csv\")\n",
    "\n",
    "primeras_filas = df.head(5)\n",
    "\n",
    "print(primeras_filas)\n"
   ]
  },
  {
   "cell_type": "code",
   "execution_count": null,
   "metadata": {},
   "outputs": [],
   "source": [
    "# EJERCICIO #3. \n",
    "# Selecciona solo las columnas de nombre y pais del DataFrame.\n",
    "\n",
    "import pandas as pd \n",
    "\n",
    "df = pd.read_csv(\"C:/Users/Administrador/Desktop/Python/Analisis_de_datos/Archivos/TablaEjemplo.csv\")\n",
    "\n",
    "nombres_pais = df[[\"Nombre\", \"País\"]]\n",
    "\n",
    "print(nombres_pais)"
   ]
  },
  {
   "cell_type": "code",
   "execution_count": null,
   "metadata": {},
   "outputs": [],
   "source": [
    "# EJERCICIO #4. \n",
    "# Escribe el DataFrame resultante en un nuevo archivo CSV.\n",
    "\n",
    "import pandas as pd \n",
    "\n",
    "df = pd.read_csv(\"C:/Users/Administrador/Desktop/Python/Analisis_de_datos/Archivos/TablaEjemplo.csv\")\n",
    "\n",
    "nombres_pais = df[[\"Nombre\", \"País\"]]\n",
    "\n",
    "nombres_pais.to_csv(\"C:/Users/Administrador/Desktop/Python/Analisis_de_datos/Archivos/nueva_tabla.csv\", index=False)"
   ]
  },
  {
   "cell_type": "code",
   "execution_count": null,
   "metadata": {},
   "outputs": [],
   "source": [
    "# EJERCICIO #5. \n",
    "# Investiga cómo leer y escribir archivos en otros formatos, como Excel (.xlsx) o JSON (.json).\n",
    "\n",
    "# => Leer y Escribir Archivos Excel (.xlsx):\n",
    "#    Pandas permite leer y escribir archivos en formato Excel utilizando las funciones read_excel()\n",
    "#    y to_excel(). Asegúrate de tener instalada la librería openpyxl para trabajar con archivos .xlsx.\n",
    "\n",
    "# => Leer y Escribir Archivos JSON (.json):\n",
    "#    Pandas permite leer y escribir archivos en formato JSON utilizando las funciones read_json() y to_json().\n",
    "\n"
   ]
  },
  {
   "cell_type": "markdown",
   "metadata": {},
   "source": [
    "### => Día 4: Exploración inicial de datos con shape, head(), tail(), info()..."
   ]
  },
  {
   "cell_type": "code",
   "execution_count": null,
   "metadata": {},
   "outputs": [],
   "source": [
    "# EJERCICIO #1.\n",
    "# Carga un conjunto de datos de tu elección y muestra sus dimensiones usando .shape.\n",
    "\n",
    "import pandas as pd \n",
    "\n",
    "df = pd.read_csv(\"C:/Users/Administrador/Desktop/Python/Analisis_de_datos/Archivos/TablaEjemplo.csv\")\n",
    "\n",
    "dimensiones = df.shape\n",
    "\n",
    "print(df)\n",
    "print(dimensiones)\n"
   ]
  },
  {
   "cell_type": "code",
   "execution_count": null,
   "metadata": {},
   "outputs": [],
   "source": [
    "# EJERCICIO #2.\n",
    "# Muestra las primeras 7 filas y las últimas 5 filas del conjunto de datos.\n",
    "\n",
    "import pandas as pd \n",
    "\n",
    "df = pd.read_csv(\"C:/Users/Administrador/Desktop/Python/Analisis_de_datos/Archivos/TablaEjemplo.csv\")\n",
    "\n",
    "primeras_filas = df.head(7)\n",
    "\n",
    "ultimas_filas = df.tail(5)\n",
    "\n",
    "print(primeras_filas)\n",
    "print()\n",
    "print(ultimas_filas)"
   ]
  },
  {
   "cell_type": "code",
   "execution_count": null,
   "metadata": {},
   "outputs": [],
   "source": [
    "# EJERCICIO #3.\n",
    "# Utiliza .info() para obtener información sobre los tipos de datos y los valores no nulos.\n",
    "\n",
    "import pandas as pd\n",
    "\n",
    "df = pd.read_csv(\"C:/Users/Administrador/Desktop/Python/Analisis_de_datos/Archivos/TablaEjemplo.csv\")\n",
    "\n",
    "informacion = df.info()\n",
    "\n",
    "print(informacion)\n",
    "\n"
   ]
  },
  {
   "cell_type": "code",
   "execution_count": null,
   "metadata": {},
   "outputs": [],
   "source": [
    "# EJERCICIO #4.\n",
    "# Filtra el conjunto de datos para mostrar solo las filas donde una columna específica cumple cierta condición.\n",
    "\n",
    "import pandas as pd\n",
    "\n",
    "df = pd.read_csv(\"C:/Users/Administrador/Desktop/Python/Analisis_de_datos/Archivos/TablaEjemplo.csv\")\n",
    "\n",
    "filtro = df['Edad'] >= 30\n",
    "\n",
    "filas_filtradas = df[filtro]\n",
    "\n",
    "print(filas_filtradas)\n"
   ]
  },
  {
   "cell_type": "code",
   "execution_count": null,
   "metadata": {},
   "outputs": [],
   "source": [
    "# EJERCICIO #5.\n",
    "# Calcula estadísticas descriptivas básicas (media, mediana, etc.) para una columna numérica.\n",
    "\n",
    "import pandas as pd\n",
    "\n",
    "df = pd.read_csv(\"C:/Users/Administrador/Desktop/Python/Analisis_de_datos/Archivos/TablaEjemplo.csv\")\n",
    "\n",
    "\n",
    "columna_Edad = df['Edad']\n",
    "media = columna_Edad.mean()\n",
    "mediana = columna_Edad.median()\n",
    "desviacion_estandar = columna_Edad.std()\n",
    "minimo = columna_Edad.min()\n",
    "maximo = columna_Edad.max()\n",
    "\n",
    "print(\"Estadísticas descriptivas para la columna 'Edad':\")\n",
    "print(f\"Media: {media}\")\n",
    "print(f\"Mediana: {mediana}\")\n",
    "print(f\"Desviación Estándar: {desviacion_estandar}\")\n",
    "print(f\"Mínimo: {minimo}\")\n",
    "print(f\"Máximo: {maximo}\")"
   ]
  },
  {
   "cell_type": "markdown",
   "metadata": {},
   "source": [
    "=> Día 5: Conteo y ordenamiento de registros con value_counts() y sort_values()..."
   ]
  },
  {
   "cell_type": "code",
   "execution_count": null,
   "metadata": {},
   "outputs": [],
   "source": [
    "# EJERCICIO #1.\n",
    "# Carga un conjunto de datos con una columna categórica y utiliza value_counts() para contar sus valores únicos.\n",
    "\n",
    "import pandas as pd\n",
    "\n",
    "df = pd.read_csv(\"C:/Users/Administrador/Desktop/Python/Analisis_de_datos/Archivos/TablaEjemplo.csv\")\n",
    "\n",
    "\n",
    "conteo_Automovil = df['Automovil'].value_counts()\n",
    "\n",
    "print(conteo_Automovil)"
   ]
  },
  {
   "cell_type": "code",
   "execution_count": null,
   "metadata": {},
   "outputs": [],
   "source": [
    "# EJERCICIO #2.\n",
    "# Ordena el conjunto de datos por una columna numérica en orden ascendente y luego descendente.\n",
    "\n",
    "import pandas as pd\n",
    "\n",
    "df = pd.read_csv(\"C:/Users/Administrador/Desktop/Python/Analisis_de_datos/Archivos/TablaEjemplo.csv\")\n",
    "\n",
    "orden_ascendente = df.sort_values(by='Edad', ascending=True)\n",
    "\n",
    "print(\"Orden Ascendente:\")\n",
    "print(orden_ascendente)\n",
    "\n",
    "orden_descendente = df.sort_values(by='Edad', ascending=False)\n",
    "print()\n",
    "print(\"Orden Descendente:\")\n",
    "print(orden_descendente)"
   ]
  },
  {
   "cell_type": "code",
   "execution_count": 43,
   "metadata": {},
   "outputs": [
    {
     "data": {
      "image/png": "[encoded data removed]",
      "text/plain": [
       "<Figure size 640x480 with 1 Axes>"
      ]
     },
     "metadata": {},
     "output_type": "display_data"
    }
   ],
   "source": [
    "# EJERCICIO #3.\n",
    "# Utiliza value_counts() para contar y visualizar la distribución de géneros en un conjunto de datos de películas.\n",
    "\n",
    "import pandas as pd\n",
    "import matplotlib.pyplot as plt\n",
    "\n",
    "data = {\n",
    "    'Titulo': ['Inception', 'Redemption', 'The Lord', 'Matrix', 'Avengers', 'Titanic'],\n",
    "    'Genero': ['Accion', 'Drama', 'Aventura', 'Ciencia Ficcion', 'Acción', 'Romance']\n",
    "}\n",
    "\n",
    "df_peliculas = pd.DataFrame(data)\n",
    "\n",
    "distribucion_generos = df_peliculas['Genero'].value_counts()\n",
    "\n",
    "plt.bar(distribucion_generos.index, distribucion_generos.values)\n",
    "plt.xlabel('Genero')\n",
    "plt.ylabel('Cantidad de Peliculas')\n",
    "plt.title('Distribucion de Generos de Peliculas')\n",
    "plt.xticks(rotation=45)\n",
    "plt.tight_layout()\n",
    "plt.show()"
   ]
  },
  {
   "cell_type": "code",
   "execution_count": null,
   "metadata": {},
   "outputs": [],
   "source": [
    "# EJERCICIO #4.\n",
    "# Carga un conjunto de datos con información de ventas por producto y ordena las filas por ingresos en orden descendente.\n",
    "\n",
    "import pandas as pd\n",
    "\n",
    "df_ventas = pd.read_csv(\"C:/Users/Administrador/Desktop/Python/Analisis_de_datos/Archivos/ventas.csv\")\n",
    "\n",
    "orden_descendente = df_ventas.sort_values(by='Ventas', ascending=False)\n",
    "\n",
    "print(\"Orden Descendente por Ingresos:\")\n",
    "print(orden_descendente)"
   ]
  },
  {
   "cell_type": "code",
   "execution_count": null,
   "metadata": {},
   "outputs": [],
   "source": [
    "# EJERCICIO #5.\n",
    "# Combina la función sort_values() con head() para obtener los 10 registros principales basados en una columna numérica.\n",
    "\n",
    "import pandas as pd\n",
    "\n",
    "df = pd.read_csv(\"C:/Users/Administrador/Desktop/Python/Analisis_de_datos/Archivos/TablaEjemplo.csv\")\n",
    "\n",
    "df_registros = pd.DataFrame(df)\n",
    "\n",
    "registros_principales = df_registros.sort_values(by='Edad', ascending=False).head(10)\n",
    "\n",
    "print(registros_principales)"
   ]
  }
 ],
 "metadata": {
  "kernelspec": {
   "display_name": "base",
   "language": "python",
   "name": "python3"
  },
  "language_info": {
   "codemirror_mode": {
    "name": "ipython",
    "version": 3
   },
   "file_extension": ".py",
   "mimetype": "text/x-python",
   "name": "python",
   "nbconvert_exporter": "python",
   "pygments_lexer": "ipython3",
   "version": "3.11.4"
  },
  "orig_nbformat": 4
 },
 "nbformat": 4,
 "nbformat_minor": 2
}
