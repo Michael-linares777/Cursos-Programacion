{
 "cells": [
  {
   "cell_type": "markdown",
   "metadata": {},
   "source": [
    "### => Ejercicios Finales..."
   ]
  },
  {
   "cell_type": "markdown",
   "metadata": {},
   "source": [
    "=> Ejercicio Práctico: Análisis de Datos de Ventas Mensuales..."
   ]
  },
  {
   "cell_type": "code",
   "execution_count": 3,
   "metadata": {},
   "outputs": [
    {
     "name": "stdout",
     "output_type": "stream",
     "text": [
      "Archivo cargado correctamente...\n"
     ]
    }
   ],
   "source": [
    "# Supongamos que trabajas en una empresa que vende productos electrónicos y te han proporcionado un archivo CSV\n",
    "# con datos de ventas mensuales de diferentes productos. Tu tarea es cargar y analizar estos datos utilizando Pandas.\n",
    "\n",
    "# Carga el archivo CSV (\"ventas.csv\") en un DataFrame.\n",
    "# Muestra las primeras y últimas filas del DataFrame para tener una vista previa de los datos.\n",
    "# Utiliza .info() para verificar los tipos de datos y la presencia de valores nulos.\n",
    "# Calcula el promedio de ventas mensuales.\n",
    "# Encuentra el mes con las ventas máximas y mínimas, junto con los productos vendidos en esos meses.\n",
    "# Crea una nueva columna que convierta las ventas a dólares (supongamos que el tipo de cambio es 1 USD = 20 unidades\n",
    "# monetarias locales).\n",
    "# Utiliza value_counts() para contar la distribución de productos vendidos.\n",
    "# Ordena el DataFrame por ventas en orden descendente y muestra las 10 filas principales.\n",
    "# Guarda el DataFrame resultante en un nuevo archivo CSV (\"ventas_analizadas.csv\").\n",
    "\n",
    "\n",
    "import pandas as pd\n",
    "\n",
    "# Cargar el archivo CSV en un DataFrame\n",
    "df_ventas = pd.read_csv(\"C:/Users/Administrador/Desktop/Python/Analisis_de_datos/Archivos/ventas.csv\")\n",
    "print(\"Archivo cargado correctamente...\")\n"
   ]
  },
  {
   "cell_type": "code",
   "execution_count": null,
   "metadata": {},
   "outputs": [],
   "source": [
    "# Mostrar las primeras y ultimas filas del DataFrame\n",
    "print(\"Primeras filas:\")\n",
    "print(df_ventas.head())\n",
    "\n",
    "print(\"\\nUltimas filas:\")\n",
    "print(df_ventas.tail())"
   ]
  },
  {
   "cell_type": "code",
   "execution_count": 4,
   "metadata": {},
   "outputs": [
    {
     "name": "stdout",
     "output_type": "stream",
     "text": [
      "Informacion sobre los tipos de datos y valores nulos:\n",
      "<class 'pandas.core.frame.DataFrame'>\n",
      "RangeIndex: 36 entries, 0 to 35\n",
      "Data columns (total 3 columns):\n",
      " #   Column    Non-Null Count  Dtype \n",
      "---  ------    --------------  ----- \n",
      " 0   Mes       36 non-null     object\n",
      " 1   Producto  36 non-null     object\n",
      " 2   Ventas    36 non-null     int64 \n",
      "dtypes: int64(1), object(2)\n",
      "memory usage: 996.0+ bytes\n",
      "None\n"
     ]
    }
   ],
   "source": [
    "# Verificar tipos de datos y presencia de valores nulos\n",
    "print(\"Informacion sobre los tipos de datos y valores nulos:\")\n",
    "print(df_ventas.info())"
   ]
  },
  {
   "cell_type": "code",
   "execution_count": 67,
   "metadata": {},
   "outputs": [
    {
     "name": "stdout",
     "output_type": "stream",
     "text": [
      "Promedio de ventas mensuales: 2102.777777777778\n"
     ]
    }
   ],
   "source": [
    "# Calcular el promedio de ventas mensuales\n",
    "promedio_ventas = df_ventas['Ventas'].mean()\n",
    "print(f\"Promedio de ventas mensuales: {promedio_ventas}\")"
   ]
  },
  {
   "cell_type": "code",
   "execution_count": null,
   "metadata": {},
   "outputs": [],
   "source": [
    "# Encontrar el mes con ventas maximas y minimas, junto con los productos vendidos en esos meses\n",
    "mes_ventas_maximas = df_ventas[df_ventas['Ventas'] == df_ventas['Ventas'].max()]['Mes'].values[0]\n",
    "productos_ventas_maximas = df_ventas[df_ventas['Mes'] == mes_ventas_maximas]['Producto']\n",
    "\n",
    "mes_ventas_minimas = df_ventas[df_ventas['Ventas'] == df_ventas['Ventas'].min()]['Mes'].values[0]\n",
    "productos_ventas_minimas = df_ventas[df_ventas['Mes'] == mes_ventas_minimas]['Producto']\n",
    "\n",
    "print(f\"Mes con ventas maximas: {mes_ventas_maximas}\")\n",
    "print(f\"Productos vendidos en el mes con ventas maximas: {', '.join(productos_ventas_maximas)}\")\n",
    "\n",
    "print(f\"\\nMes con ventas minimas: {mes_ventas_minimas}\")\n",
    "print(f\"Productos vendidos en el mes con ventas minimas: {', '.join(productos_ventas_minimas)}\")"
   ]
  },
  {
   "cell_type": "code",
   "execution_count": null,
   "metadata": {},
   "outputs": [],
   "source": [
    "# Crear una nueva columna que convierta las ventas a dolares\n",
    "tipo_cambio = 20\n",
    "df_ventas['Ventas_USD'] = df_ventas['Ventas'] / tipo_cambio\n",
    "print(df_ventas.head())"
   ]
  },
  {
   "cell_type": "code",
   "execution_count": null,
   "metadata": {},
   "outputs": [],
   "source": [
    "# Contar la distribucion de productos vendidos\n",
    "distribucion_productos = df_ventas['Producto'].value_counts()\n",
    "print(\"Distribución de productos vendidos:\")\n",
    "print(distribucion_productos)"
   ]
  },
  {
   "cell_type": "code",
   "execution_count": null,
   "metadata": {},
   "outputs": [],
   "source": [
    "# Ordenar el DataFrame por ventas en orden descendente y mostrar las 10 filas principales\n",
    "df_ventas_ordenado = df_ventas.sort_values(by='Ventas', ascending=False)\n",
    "print(\"Top 10 de ventas:\")\n",
    "print(df_ventas_ordenado.head(10))"
   ]
  },
  {
   "cell_type": "code",
   "execution_count": null,
   "metadata": {},
   "outputs": [],
   "source": [
    "# Guardar el DataFrame resultante en un nuevo archivo CSV\n",
    "df_ventas_ordenado.to_csv(\"C:/Users/Administrador/Desktop/Python/Analisis_de_datos/Archivos/ventas_analizadas.csv\", index=False)\n",
    "print(\"DataFrame analizado guardado en 'ventas_analizadas.csv'\")"
   ]
  }
 ],
 "metadata": {
  "kernelspec": {
   "display_name": "base",
   "language": "python",
   "name": "python3"
  },
  "language_info": {
   "codemirror_mode": {
    "name": "ipython",
    "version": 3
   },
   "file_extension": ".py",
   "mimetype": "text/x-python",
   "name": "python",
   "nbconvert_exporter": "python",
   "pygments_lexer": "ipython3",
   "version": "3.11.4"
  },
  "orig_nbformat": 4
 },
 "nbformat": 4,
 "nbformat_minor": 2
}
